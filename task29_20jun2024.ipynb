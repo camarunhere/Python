{
 "cells": [
  {
   "cell_type": "code",
   "execution_count": 4,
   "id": "7dbb133e",
   "metadata": {},
   "outputs": [
    {
     "name": "stdout",
     "output_type": "stream",
     "text": [
      "Schools will start at 8am in the morning\n",
      "Schools will be closed at 3pm in the Afternoon\n"
     ]
    }
   ],
   "source": [
    "class School:\n",
    "    Open  = \"Schools will start at 8am in the morning\"\n",
    "    Close = \"Schools will be closed at 3pm in the Afternoon\"\n",
    "a = School()\n",
    "print(a.Open)\n",
    "b = School()\n",
    "print(b.Close)"
   ]
  },
  {
   "cell_type": "code",
   "execution_count": 6,
   "id": "c320e2f9",
   "metadata": {},
   "outputs": [
    {
     "name": "stdout",
     "output_type": "stream",
     "text": [
      "Students take admission in college\n",
      "Students completed their course\n"
     ]
    }
   ],
   "source": [
    "class College :\n",
    "    take     = \"Students take admission in college\"\n",
    "    complete = \"Students completed their course\"\n",
    "c = College()\n",
    "print(c.take)\n",
    "d = College()\n",
    "print(d.complete)"
   ]
  },
  {
   "cell_type": "code",
   "execution_count": 8,
   "id": "cd8f2770",
   "metadata": {},
   "outputs": [
    {
     "name": "stdout",
     "output_type": "stream",
     "text": [
      "Institute will provide coaching for you\n",
      "Institute will place you as a Python Developer\n"
     ]
    }
   ],
   "source": [
    "class Institute:\n",
    "    coach = \"Institute will provide coaching for you\"\n",
    "    place = \"Institute will place you as a Python Developer\"\n",
    "e = Institute()\n",
    "print(e.coach)\n",
    "f = Institute()\n",
    "print(e.place)"
   ]
  },
  {
   "cell_type": "code",
   "execution_count": 10,
   "id": "ce838366",
   "metadata": {},
   "outputs": [
    {
     "name": "stdout",
     "output_type": "stream",
     "text": [
      "Doctor checks the patient\n",
      "Doctor gives medicines\n"
     ]
    }
   ],
   "source": [
    "class Doctor:\n",
    "    check = \"Doctor checks the patient\"\n",
    "    give  = \"Doctor gives medicines\"\n",
    "g = Doctor()\n",
    "print(g.check)\n",
    "f = Doctor()\n",
    "print(f.give)"
   ]
  },
  {
   "cell_type": "code",
   "execution_count": null,
   "id": "34ec8307",
   "metadata": {},
   "outputs": [],
   "source": []
  }
 ],
 "metadata": {
  "kernelspec": {
   "display_name": "Python 3 (ipykernel)",
   "language": "python",
   "name": "python3"
  },
  "language_info": {
   "codemirror_mode": {
    "name": "ipython",
    "version": 3
   },
   "file_extension": ".py",
   "mimetype": "text/x-python",
   "name": "python",
   "nbconvert_exporter": "python",
   "pygments_lexer": "ipython3",
   "version": "3.9.13"
  }
 },
 "nbformat": 4,
 "nbformat_minor": 5
}
