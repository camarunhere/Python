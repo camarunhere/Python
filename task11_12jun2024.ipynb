{
 "cells": [
  {
   "cell_type": "code",
   "execution_count": 2,
   "id": "0b15625d",
   "metadata": {},
   "outputs": [
    {
     "name": "stdout",
     "output_type": "stream",
     "text": [
      "Enter the Temparature: 89\n",
      "We couldn't survive with this weather\n"
     ]
    }
   ],
   "source": [
    "#WAP To Check how is the weather\n",
    "Temp = int(input(\"Enter the Temparature: \"))\n",
    "\n",
    "if Temp<=0 or Temp<15:\n",
    "    print(\"Today the Weather is Too cold\")\n",
    "elif Temp==15 or Temp<30:\n",
    "    print(\"Today the Weather is cool\")\n",
    "elif Temp==30 or Temp<40:\n",
    "    print(\"Today the Weather is hot\")\n",
    "elif Temp==40 or Temp<50:\n",
    "    print(\"Today the Weather is too hot\")\n",
    "else:\n",
    "    print(\"We couldn't survive with this weather\")"
   ]
  },
  {
   "cell_type": "code",
   "execution_count": 5,
   "id": "4bbb3547",
   "metadata": {},
   "outputs": [
    {
     "name": "stdout",
     "output_type": "stream",
     "text": [
      "Enter any number:-13\n",
      "You are a Boy\n"
     ]
    }
   ],
   "source": [
    "#ENTER AN EVEN IF YOU ARE GIRL OR ODD IF YOU ARE A BOY\n",
    "n = int(input(\"Enter any number:\"))\n",
    "\n",
    "if n%2==0:\n",
    "    print(\"You are a Girl\")\n",
    "else:\n",
    "    print(\"You are a Boy\")"
   ]
  },
  {
   "cell_type": "code",
   "execution_count": 5,
   "id": "a09a5890",
   "metadata": {},
   "outputs": [
    {
     "name": "stdout",
     "output_type": "stream",
     "text": [
      "Enter Your Age:180\n",
      "You are not Human.But,You might be an Alien\n"
     ]
    }
   ],
   "source": [
    "#Enter the Age to find your Personality\n",
    "Age = int(input(\"Enter Your Age:\"))\n",
    "\n",
    "if Age==0 or Age<15:\n",
    "    print(\"You belong to Kids Gen\")\n",
    "elif Age<=15 or Age<60:\n",
    "    print(\"You belong to Young People\")\n",
    "elif Age==60 or Age<=100:\n",
    "    print(\"You belong to Oldage\")\n",
    "elif Age<=-1 or Age>100 :\n",
    "    print(\"You are not Human.But,You might be an Alien\")\n",
    "else:\n",
    "    print(\"You are immortal\")\n",
    "    "
   ]
  },
  {
   "cell_type": "code",
   "execution_count": 2,
   "id": "ac1fc404",
   "metadata": {},
   "outputs": [
    {
     "name": "stdout",
     "output_type": "stream",
     "text": [
      "Enter Your Gender:female\n",
      "Enter Your Age:18\n",
      "You are not Eligible to Marry\n"
     ]
    }
   ],
   "source": [
    "#WAP To know whether you are eligible for marriage or not\n",
    "Gender = str(input(\"Enter Your Gender:\"))\n",
    "Age = int(input(\"Enter Your Age:\"))\n",
    "if Gender== 'male' or Gender== 'Male' or Gender== 'MALE':\n",
    "    if Age>21:\n",
    "        print(\"You are Eligible to Marry\")\n",
    "    elif Age<=21:\n",
    "        print(\"You are not Eligible to Marry\")\n",
    "elif Gender== 'female' or Gender== 'Female' or Gender== 'FEMALE':\n",
    "    if Age>18:\n",
    "        print(\"You are Eligible for marriage\")\n",
    "    elif Age<=18:\n",
    "        print(\"You are not Eligible to Marry\")\n",
    "else :\n",
    "    print(\"Not found\")\n",
    "    "
   ]
  },
  {
   "cell_type": "code",
   "execution_count": 4,
   "id": "d16af80e",
   "metadata": {},
   "outputs": [
    {
     "name": "stdout",
     "output_type": "stream",
     "text": [
      "Enter Any year: 800\n",
      "It is a leap year\n"
     ]
    }
   ],
   "source": [
    "#WAP To know the year is leap or centurian\n",
    "y = int(input(\"Enter Any year: \"))\n",
    "\n",
    "if y%4==0:\n",
    "    print(\"It is a leap year\")\n",
    "elif y%4!=0:\n",
    "    print(\"It is not a leap year\")\n",
    "elif y%400==0:\n",
    "    print(\"It is a centurian\")\n",
    "elif y%400!=0:\n",
    "    print(\"It is not a centurian\")\n",
    "else:\n",
    "    print(\"We could not describe this year\")"
   ]
  },
  {
   "cell_type": "code",
   "execution_count": null,
   "id": "90170f77",
   "metadata": {},
   "outputs": [],
   "source": []
  }
 ],
 "metadata": {
  "kernelspec": {
   "display_name": "Python 3 (ipykernel)",
   "language": "python",
   "name": "python3"
  },
  "language_info": {
   "codemirror_mode": {
    "name": "ipython",
    "version": 3
   },
   "file_extension": ".py",
   "mimetype": "text/x-python",
   "name": "python",
   "nbconvert_exporter": "python",
   "pygments_lexer": "ipython3",
   "version": "3.9.13"
  }
 },
 "nbformat": 4,
 "nbformat_minor": 5
}
