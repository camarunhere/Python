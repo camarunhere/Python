{
 "cells": [
  {
   "cell_type": "code",
   "execution_count": 1,
   "id": "a53c539e",
   "metadata": {},
   "outputs": [
    {
     "name": "stdout",
     "output_type": "stream",
     "text": [
      "[5, 10, 15, 20, 25, 30, 35, 40, 45, 50, 55, 60, 65, 70, 75, 80, 85, 90, 95, 100]\n"
     ]
    }
   ],
   "source": [
    "multiples_of_five = list(range(5,101,5)) \n",
    "\n",
    "print(multiples_of_five)"
   ]
  },
  {
   "cell_type": "code",
   "execution_count": 5,
   "id": "7ffd994a",
   "metadata": {},
   "outputs": [
    {
     "name": "stdout",
     "output_type": "stream",
     "text": [
      "[40, 36, 32, 28, 24, 20, 16, 12, 8, 4]\n"
     ]
    }
   ],
   "source": [
    "four_table = list(range(40,3,-4))\n",
    "\n",
    "print(four_table)"
   ]
  },
  {
   "cell_type": "code",
   "execution_count": 12,
   "id": "2981c045",
   "metadata": {},
   "outputs": [
    {
     "name": "stdout",
     "output_type": "stream",
     "text": [
      "odd= [99, 97, 95, 93, 91, 89, 87, 85, 83, 81, 79, 77, 75, 73, 71, 69, 67, 65, 63, 61, 59, 57, 55, 53, 51, 49, 47, 45, 43, 41, 39, 37, 35, 33, 31, 29, 27, 25, 23, 21, 19, 17, 15, 13, 11]\n"
     ]
    }
   ],
   "source": [
    "odd_numbers = list(range(99,10,-2))\n",
    "\n",
    "print(\"odd=\",odd_numbers)"
   ]
  },
  {
   "cell_type": "code",
   "execution_count": 11,
   "id": "8b1ed8d9",
   "metadata": {},
   "outputs": [
    {
     "name": "stdout",
     "output_type": "stream",
     "text": [
      "even= [50, 48, 46, 44, 42, 40, 38, 36, 34, 32, 30, 28, 26, 24, 22, 20, 18, 16, 14, 12, 10, 8, 6, 4, 2]\n"
     ]
    }
   ],
   "source": [
    "even_numbers = list(range(50,1,-2))\n",
    "\n",
    "print(\"even=\",even_numbers)"
   ]
  },
  {
   "cell_type": "code",
   "execution_count": null,
   "id": "d026f336",
   "metadata": {},
   "outputs": [],
   "source": []
  }
 ],
 "metadata": {
  "kernelspec": {
   "display_name": "Python 3 (ipykernel)",
   "language": "python",
   "name": "python3"
  },
  "language_info": {
   "codemirror_mode": {
    "name": "ipython",
    "version": 3
   },
   "file_extension": ".py",
   "mimetype": "text/x-python",
   "name": "python",
   "nbconvert_exporter": "python",
   "pygments_lexer": "ipython3",
   "version": "3.9.13"
  }
 },
 "nbformat": 4,
 "nbformat_minor": 5
}
