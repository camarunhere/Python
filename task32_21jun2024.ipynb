{
 "cells": [
  {
   "cell_type": "code",
   "execution_count": 1,
   "id": "b87218d0",
   "metadata": {},
   "outputs": [
    {
     "name": "stdout",
     "output_type": "stream",
     "text": [
      "OP_no:  154\n",
      "Name:  Agarth\n",
      "Age:  21\n",
      "OP_no:  176\n",
      "Name:  Lira\n",
      "Age:  28\n",
      "Place: Yeluru\n"
     ]
    }
   ],
   "source": [
    "class patient:\n",
    "    def __init__(self,P_Id,P_Name,P_Age):\n",
    "        print(\"OP_no: \",P_Id)\n",
    "        print(\"Name: \",P_Name)\n",
    "        print(\"Age: \",P_Age)\n",
    "    def p(self,P_Place):\n",
    "        print(\"Place:\",P_Place)\n",
    "p1 = patient(154,\"Agarth\",21)\n",
    "p2 = patient(176,\"Lira\",28)\n",
    "\n",
    "p2.p(\"Yeluru\")"
   ]
  },
  {
   "cell_type": "code",
   "execution_count": null,
   "id": "7b7c196d",
   "metadata": {},
   "outputs": [],
   "source": []
  }
 ],
 "metadata": {
  "kernelspec": {
   "display_name": "Python 3 (ipykernel)",
   "language": "python",
   "name": "python3"
  },
  "language_info": {
   "codemirror_mode": {
    "name": "ipython",
    "version": 3
   },
   "file_extension": ".py",
   "mimetype": "text/x-python",
   "name": "python",
   "nbconvert_exporter": "python",
   "pygments_lexer": "ipython3",
   "version": "3.9.13"
  }
 },
 "nbformat": 4,
 "nbformat_minor": 5
}
