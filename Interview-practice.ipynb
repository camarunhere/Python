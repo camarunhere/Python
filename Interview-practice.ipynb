{
 "cells": [
  {
   "cell_type": "code",
   "execution_count": 1,
   "id": "c1660ac3",
   "metadata": {},
   "outputs": [
    {
     "name": "stdout",
     "output_type": "stream",
     "text": [
      "[11, 13, 17]\n"
     ]
    }
   ],
   "source": [
    "#list \n",
    "a = [11,13,17]\n",
    "print(a)"
   ]
  },
  {
   "cell_type": "code",
   "execution_count": 2,
   "id": "2b81794d",
   "metadata": {},
   "outputs": [
    {
     "name": "stdout",
     "output_type": "stream",
     "text": [
      "(23, 29, 37)\n"
     ]
    }
   ],
   "source": [
    "#tuple\n",
    "t = (23,29,37)\n",
    "print(t)"
   ]
  },
  {
   "cell_type": "code",
   "execution_count": 3,
   "id": "55bbec39",
   "metadata": {},
   "outputs": [
    {
     "name": "stdout",
     "output_type": "stream",
     "text": [
      "{'Name': 'Arun', 'Pswd': '@camar1234', 'Course': 'Python', 'Duration': '4 months'}\n"
     ]
    }
   ],
   "source": [
    "#dictionary\n",
    "d = {\n",
    "    'Name'     : \"Arun\",\n",
    "    'Password' : \"@camar1234\",\n",
    "    'Course'   : \"Python\",\n",
    "    'Duration' : \"4 months\"\n",
    "}\n",
    "print(d)"
   ]
  },
  {
   "cell_type": "code",
   "execution_count": 5,
   "id": "14377ab1",
   "metadata": {},
   "outputs": [
    {
     "name": "stdout",
     "output_type": "stream",
     "text": [
      "array('i', [11, 23, 43, 53])\n"
     ]
    }
   ],
   "source": [
    "#array-creation\n",
    "import array\n",
    "a = array.array('i',[11,23,43,53])\n",
    "print(a)"
   ]
  },
  {
   "cell_type": "code",
   "execution_count": 6,
   "id": "de71fb83",
   "metadata": {},
   "outputs": [
    {
     "name": "stdout",
     "output_type": "stream",
     "text": [
      "[26, 86, 106, 118, 134, 158, 166, 346]\n"
     ]
    }
   ],
   "source": [
    "#Comprehension\n",
    "l = [13,43,53,59,67,79,83,173]\n",
    "\n",
    "g = [i*2 for i in l]\n",
    "print(g)"
   ]
  },
  {
   "cell_type": "code",
   "execution_count": 9,
   "id": "dce223e0",
   "metadata": {},
   "outputs": [
    {
     "name": "stdout",
     "output_type": "stream",
     "text": [
      "x = 11 y = 13 z = 10\n"
     ]
    }
   ],
   "source": [
    "#default-parameter\n",
    "def m(x,y,z=10):\n",
    "    print(\"x =\",x,\"y =\",y,\"z =\",z)\n",
    "m(11,13)"
   ]
  },
  {
   "cell_type": "code",
   "execution_count": 10,
   "id": "a6bce386",
   "metadata": {},
   "outputs": [
    {
     "name": "stdout",
     "output_type": "stream",
     "text": [
      "(13, 17, 19, 23, 29, 31, 37, 41, 43, 47, 53, 59)\n"
     ]
    }
   ],
   "source": [
    "#args\n",
    "def mm(*x):\n",
    "    print(x)\n",
    "    \n",
    "mm(13,17,19,23,29,31,37,41,43,47,53,59)"
   ]
  },
  {
   "cell_type": "code",
   "execution_count": 11,
   "id": "70b78c17",
   "metadata": {},
   "outputs": [
    {
     "name": "stdout",
     "output_type": "stream",
     "text": [
      "{'Name': 'Geet', 'Course': 'MS in Computer Science', 'Duration': '2years'}\n"
     ]
    }
   ],
   "source": [
    "#kwargs\n",
    "def n(**x):\n",
    "    print(x)\n",
    "n(Name = \"Geet\",Course = \"MS in Computer Science\",Duration = \"2years\")"
   ]
  },
  {
   "cell_type": "code",
   "execution_count": 13,
   "id": "430c1463",
   "metadata": {},
   "outputs": [
    {
     "name": "stdout",
     "output_type": "stream",
     "text": [
      "4\n"
     ]
    }
   ],
   "source": [
    "#lambda\n",
    "g = lambda x,y : x%y\n",
    "\n",
    "print(g(46,21))"
   ]
  },
  {
   "cell_type": "code",
   "execution_count": 15,
   "id": "d635ad0c",
   "metadata": {},
   "outputs": [
    {
     "name": "stdout",
     "output_type": "stream",
     "text": [
      "None\n"
     ]
    }
   ],
   "source": [
    "#search()\n",
    "import re\n",
    "s = \"There is all in the world full of all creatures on the earth\"\n",
    "l = re.search ('all','world')\n",
    "print(l)"
   ]
  },
  {
   "cell_type": "code",
   "execution_count": 19,
   "id": "135d80df",
   "metadata": {},
   "outputs": [
    {
     "name": "stdout",
     "output_type": "stream",
     "text": [
      "['Sandrollette', 'is', 'the', 'startup', 'franchise', 'in', 'India']\n"
     ]
    }
   ],
   "source": [
    "#split()\n",
    "j = \"Sandrollette is the startup franchise in India\"\n",
    "k = j.split(' ')\n",
    "print(k)"
   ]
  },
  {
   "cell_type": "code",
   "execution_count": 21,
   "id": "fe5e3623",
   "metadata": {},
   "outputs": [
    {
     "name": "stdout",
     "output_type": "stream",
     "text": [
      "Little things of today will become biggest things someday or the other\n"
     ]
    }
   ],
   "source": [
    "#join()\n",
    "c = ['Little','things','of','today','will','become','biggest','things','someday','or','the','other']\n",
    "n = ' '.join(c)\n",
    "print(n)"
   ]
  },
  {
   "cell_type": "code",
   "execution_count": 24,
   "id": "dd97bc3d",
   "metadata": {},
   "outputs": [
    {
     "name": "stdout",
     "output_type": "stream",
     "text": [
      "Heyya\n",
      "This is the display function\n",
      "Sayonara\n"
     ]
    }
   ],
   "source": [
    "#decorator\n",
    "def wrapper(fun):\n",
    "    def inner():\n",
    "        print('Heyya')\n",
    "        fun()\n",
    "        print('Sayonara')\n",
    "    return inner\n",
    "@wrapper\n",
    "def display():\n",
    "    print(\"This is the display function\")\n",
    "display()"
   ]
  },
  {
   "cell_type": "code",
   "execution_count": 31,
   "id": "f27f69af",
   "metadata": {},
   "outputs": [
    {
     "name": "stdout",
     "output_type": "stream",
     "text": [
      "Student haveto study\n",
      "None\n"
     ]
    }
   ],
   "source": [
    "#class\n",
    "class Student:\n",
    "    def study(self):\n",
    "        print(\"Student haveto study\")\n",
    "s = Student()\n",
    "print(s.study())"
   ]
  },
  {
   "cell_type": "code",
   "execution_count": 39,
   "id": "0e14b2b2",
   "metadata": {},
   "outputs": [
    {
     "name": "stdout",
     "output_type": "stream",
     "text": [
      "Name: Caran\n",
      "accno: 530467\n"
     ]
    }
   ],
   "source": [
    "#constructor\n",
    "class Bank:\n",
    "    def __init__(self,name,accno):\n",
    "        self.name = name\n",
    "        self.accno= accno\n",
    "b1 = Bank(\"Caran\",530467)\n",
    "print(\"Name:\",b1.name)\n",
    "print(\"accno:\",b1.accno)"
   ]
  },
  {
   "cell_type": "code",
   "execution_count": 47,
   "id": "0b618c8d",
   "metadata": {},
   "outputs": [
    {
     "name": "stdout",
     "output_type": "stream",
     "text": [
      "tara\n",
      "2\n",
      "Doctor will prescribe the medicines to the patient\n"
     ]
    }
   ],
   "source": [
    "#Encapsulation\n",
    "class Doctor:\n",
    "    def __init__(self,name,exp):\n",
    "        self.name = name\n",
    "        self.exp  = exp\n",
    "    def suggestMedicine(self):\n",
    "        print(\"Doctor will prescribe the medicines to the patient\")\n",
    "d = Doctor(\"tara\",2)\n",
    "print(d.name)\n",
    "print(d.exp)\n",
    "d.suggestMedicine()\n"
   ]
  },
  {
   "cell_type": "code",
   "execution_count": 51,
   "id": "7d1c97c6",
   "metadata": {},
   "outputs": [
    {
     "name": "stdout",
     "output_type": "stream",
     "text": [
      "account details\n",
      "None\n"
     ]
    }
   ],
   "source": [
    "#Inheritance\n",
    "class Bank:\n",
    "    def addaccount(self):\n",
    "        print(\"account details\")\n",
    "class UnionBank(Bank):\n",
    "    def rateOfInterest(self):\n",
    "        print(\"Interest Rate\")\n",
    "c = UnionBank()\n",
    "print(c.addaccount())"
   ]
  },
  {
   "cell_type": "code",
   "execution_count": 52,
   "id": "aa449456",
   "metadata": {},
   "outputs": [
    {
     "name": "stdout",
     "output_type": "stream",
     "text": [
      "Humans run on 2 legs\n",
      "None\n"
     ]
    }
   ],
   "source": [
    "#Overriding\n",
    "class Animal:\n",
    "    def run(self):\n",
    "        print(\"Animals run on 4 legs\")\n",
    "class Human(Animal):\n",
    "    def run(self):\n",
    "        print(\"Humans run on 2 legs\")\n",
    "o = Human()\n",
    "print(o.run())"
   ]
  },
  {
   "cell_type": "code",
   "execution_count": 58,
   "id": "6b570552",
   "metadata": {},
   "outputs": [
    {
     "name": "stdout",
     "output_type": "stream",
     "text": [
      "Name: Vani\n",
      "Works as a: Dentist\n"
     ]
    }
   ],
   "source": [
    "#self-keyword\n",
    "class Doctor:\n",
    "    def __init__(self,name,position):\n",
    "        self.name     = name\n",
    "        self.position = position\n",
    "d = Doctor(\"Vani\",\"Dentist\")\n",
    "print(\"Name:\",d.name)\n",
    "print(\"Works as a:\",d.position)\n"
   ]
  },
  {
   "cell_type": "code",
   "execution_count": 59,
   "id": "062f4051",
   "metadata": {},
   "outputs": [
    {
     "name": "stdout",
     "output_type": "stream",
     "text": [
      "Hey\n"
     ]
    }
   ],
   "source": [
    "#super()\n",
    "class A:\n",
    "    def m(self):\n",
    "        print(\"Hey\")\n",
    "class B(A):\n",
    "    def mm(self):\n",
    "        super().m()\n",
    "b = B()\n",
    "b.mm()"
   ]
  },
  {
   "cell_type": "code",
   "execution_count": 60,
   "id": "c768966e",
   "metadata": {},
   "outputs": [
    {
     "name": "stdout",
     "output_type": "stream",
     "text": [
      "10\n"
     ]
    }
   ],
   "source": [
    "#class-variable\n",
    "class C:\n",
    "    x = 10\n",
    "    def display(self):\n",
    "        print(\"Hey Pal\")\n",
    "print(C.x)"
   ]
  },
  {
   "cell_type": "code",
   "execution_count": 62,
   "id": "85068bc9",
   "metadata": {},
   "outputs": [
    {
     "name": "stdout",
     "output_type": "stream",
     "text": [
      "10\n",
      "222\n"
     ]
    }
   ],
   "source": [
    "#Instance-variable\n",
    "class D:\n",
    "    x = 10\n",
    "    def __init__(self):\n",
    "        self.y = 222\n",
    "print(D.x)\n",
    "d1 = D()\n",
    "print(d1.y)"
   ]
  },
  {
   "cell_type": "code",
   "execution_count": 66,
   "id": "11ac99b0",
   "metadata": {},
   "outputs": [
    {
     "name": "stdout",
     "output_type": "stream",
     "text": [
      "Class method\n",
      "Instance method\n"
     ]
    }
   ],
   "source": [
    "#instance-method & class-method\n",
    "class E:\n",
    "    def a(self):\n",
    "        print(\"Instance method\")\n",
    "    @classmethod\n",
    "    def ant(cls):\n",
    "        print(\"Class method\")\n",
    "E.ant()\n",
    "e = E()\n",
    "e.a()"
   ]
  },
  {
   "cell_type": "code",
   "execution_count": 70,
   "id": "e153c042",
   "metadata": {},
   "outputs": [
    {
     "name": "stdout",
     "output_type": "stream",
     "text": [
      "Static Method\n",
      "Class Method\n"
     ]
    }
   ],
   "source": [
    "#static-method & class-method\n",
    "class G:\n",
    "    @classmethod\n",
    "    def C(cls):\n",
    "        print(\"Class Method\")\n",
    "    @staticmethod\n",
    "    def G():\n",
    "        print(\"Static Method\")\n",
    "g.G()\n",
    "g.C()"
   ]
  },
  {
   "cell_type": "code",
   "execution_count": 75,
   "id": "96425691",
   "metadata": {},
   "outputs": [
    {
     "name": "stdout",
     "output_type": "stream",
     "text": [
      "10\n"
     ]
    }
   ],
   "source": [
    "#protected-member\n",
    "class P:\n",
    "    def __init__(self):\n",
    "        self.__x = 10\n",
    "    def m(self):\n",
    "        print(self.__x)\n",
    "g1 = P()\n",
    "g1.m()\n"
   ]
  },
  {
   "cell_type": "code",
   "execution_count": 76,
   "id": "f3260a70",
   "metadata": {},
   "outputs": [
    {
     "ename": "NameError",
     "evalue": "name 'abstractmethod' is not defined",
     "output_type": "error",
     "traceback": [
      "\u001b[1;31m---------------------------------------------------------------------------\u001b[0m",
      "\u001b[1;31mNameError\u001b[0m                                 Traceback (most recent call last)",
      "\u001b[1;32m~\\AppData\\Local\\Temp\\ipykernel_3884\\2817929705.py\u001b[0m in \u001b[0;36m<module>\u001b[1;34m\u001b[0m\n\u001b[0;32m      1\u001b[0m \u001b[1;31m#abstract-method\u001b[0m\u001b[1;33m\u001b[0m\u001b[1;33m\u001b[0m\u001b[0m\n\u001b[1;32m----> 2\u001b[1;33m \u001b[1;33m@\u001b[0m\u001b[0mabstractmethod\u001b[0m\u001b[1;33m\u001b[0m\u001b[1;33m\u001b[0m\u001b[0m\n\u001b[0m\u001b[0;32m      3\u001b[0m \u001b[1;32mdef\u001b[0m \u001b[0mfun\u001b[0m\u001b[1;33m(\u001b[0m\u001b[0mself\u001b[0m\u001b[1;33m)\u001b[0m\u001b[1;33m:\u001b[0m\u001b[1;33m\u001b[0m\u001b[1;33m\u001b[0m\u001b[0m\n\u001b[0;32m      4\u001b[0m     \u001b[1;32mpass\u001b[0m\u001b[1;33m\u001b[0m\u001b[1;33m\u001b[0m\u001b[0m\n",
      "\u001b[1;31mNameError\u001b[0m: name 'abstractmethod' is not defined"
     ]
    }
   ],
   "source": [
    "#abstract-method\n",
    "\n",
    "@abstractmethod\n",
    "def fun(self):\n",
    "    pass"
   ]
  },
  {
   "cell_type": "code",
   "execution_count": 81,
   "id": "823fd1b2",
   "metadata": {},
   "outputs": [
    {
     "ename": "NameError",
     "evalue": "name 'abstractmethod' is not defined",
     "output_type": "error",
     "traceback": [
      "\u001b[1;31m---------------------------------------------------------------------------\u001b[0m",
      "\u001b[1;31mNameError\u001b[0m                                 Traceback (most recent call last)",
      "\u001b[1;32m~\\AppData\\Local\\Temp\\ipykernel_3884\\1126036049.py\u001b[0m in \u001b[0;36m<module>\u001b[1;34m\u001b[0m\n\u001b[0;32m      1\u001b[0m \u001b[1;32mfrom\u001b[0m \u001b[0mabc\u001b[0m \u001b[1;32mimport\u001b[0m \u001b[0mABC\u001b[0m\u001b[1;33m\u001b[0m\u001b[1;33m\u001b[0m\u001b[0m\n\u001b[1;32m----> 2\u001b[1;33m \u001b[1;32mclass\u001b[0m \u001b[0mH\u001b[0m\u001b[1;33m(\u001b[0m\u001b[0mABC\u001b[0m\u001b[1;33m)\u001b[0m\u001b[1;33m:\u001b[0m\u001b[1;33m\u001b[0m\u001b[1;33m\u001b[0m\u001b[0m\n\u001b[0m\u001b[0;32m      3\u001b[0m     \u001b[1;33m@\u001b[0m\u001b[0mabstractmethod\u001b[0m\u001b[1;33m\u001b[0m\u001b[1;33m\u001b[0m\u001b[0m\n\u001b[0;32m      4\u001b[0m     \u001b[1;32mdef\u001b[0m \u001b[0mf1\u001b[0m\u001b[1;33m(\u001b[0m\u001b[0mself\u001b[0m\u001b[1;33m)\u001b[0m\u001b[1;33m:\u001b[0m\u001b[1;33m\u001b[0m\u001b[1;33m\u001b[0m\u001b[0m\n\u001b[0;32m      5\u001b[0m         \u001b[1;32mpass\u001b[0m\u001b[1;33m\u001b[0m\u001b[1;33m\u001b[0m\u001b[0m\n",
      "\u001b[1;32m~\\AppData\\Local\\Temp\\ipykernel_3884\\1126036049.py\u001b[0m in \u001b[0;36mH\u001b[1;34m()\u001b[0m\n\u001b[0;32m      1\u001b[0m \u001b[1;32mfrom\u001b[0m \u001b[0mabc\u001b[0m \u001b[1;32mimport\u001b[0m \u001b[0mABC\u001b[0m\u001b[1;33m\u001b[0m\u001b[1;33m\u001b[0m\u001b[0m\n\u001b[0;32m      2\u001b[0m \u001b[1;32mclass\u001b[0m \u001b[0mH\u001b[0m\u001b[1;33m(\u001b[0m\u001b[0mABC\u001b[0m\u001b[1;33m)\u001b[0m\u001b[1;33m:\u001b[0m\u001b[1;33m\u001b[0m\u001b[1;33m\u001b[0m\u001b[0m\n\u001b[1;32m----> 3\u001b[1;33m     \u001b[1;33m@\u001b[0m\u001b[0mabstractmethod\u001b[0m\u001b[1;33m\u001b[0m\u001b[1;33m\u001b[0m\u001b[0m\n\u001b[0m\u001b[0;32m      4\u001b[0m     \u001b[1;32mdef\u001b[0m \u001b[0mf1\u001b[0m\u001b[1;33m(\u001b[0m\u001b[0mself\u001b[0m\u001b[1;33m)\u001b[0m\u001b[1;33m:\u001b[0m\u001b[1;33m\u001b[0m\u001b[1;33m\u001b[0m\u001b[0m\n\u001b[0;32m      5\u001b[0m         \u001b[1;32mpass\u001b[0m\u001b[1;33m\u001b[0m\u001b[1;33m\u001b[0m\u001b[0m\n",
      "\u001b[1;31mNameError\u001b[0m: name 'abstractmethod' is not defined"
     ]
    }
   ],
   "source": [
    "from abc import ABC\n",
    "class H(ABC):\n",
    "    @abstractmethod\n",
    "    def f1(self):\n",
    "        pass"
   ]
  },
  {
   "cell_type": "code",
   "execution_count": 82,
   "id": "dd01907a",
   "metadata": {},
   "outputs": [
    {
     "name": "stdout",
     "output_type": "stream",
     "text": [
      "trying to access invalid position\n"
     ]
    }
   ],
   "source": [
    "#try & except\n",
    "try:\n",
    "    x = [11,13,17]\n",
    "    print(x[3])\n",
    "except IndexError:\n",
    "    print(\"trying to access invalid position\")"
   ]
  },
  {
   "cell_type": "code",
   "execution_count": 88,
   "id": "a1273ca5",
   "metadata": {},
   "outputs": [
    {
     "name": "stdout",
     "output_type": "stream",
     "text": [
      "[12, 31, 17, 19]\n"
     ]
    }
   ],
   "source": [
    "l = [12,14,17,19]\n",
    "l[1]=31\n",
    "print(l)"
   ]
  },
  {
   "cell_type": "code",
   "execution_count": 84,
   "id": "98a8ed93",
   "metadata": {},
   "outputs": [
    {
     "name": "stdout",
     "output_type": "stream",
     "text": [
      "(11, 111, 1111, 11111)\n"
     ]
    }
   ],
   "source": [
    "t = (11,111,1111,11111)\n",
    "print(t)"
   ]
  },
  {
   "cell_type": "code",
   "execution_count": 89,
   "id": "881ef48a",
   "metadata": {},
   "outputs": [
    {
     "name": "stdout",
     "output_type": "stream",
     "text": [
      "{'N': 'A', 'P': 'P', 'A': 2}\n"
     ]
    }
   ],
   "source": [
    "d = {\n",
    "    \"N\":\"A\",\n",
    "    \"P\":\"P\",\n",
    "    \"A\":2\n",
    "}\n",
    "print(d)"
   ]
  },
  {
   "cell_type": "code",
   "execution_count": 90,
   "id": "60644de2",
   "metadata": {},
   "outputs": [
    {
     "name": "stdout",
     "output_type": "stream",
     "text": [
      "{16, 13, 14, 15}\n"
     ]
    }
   ],
   "source": [
    "s = {13,14,15,16}\n",
    "print(s)"
   ]
  },
  {
   "cell_type": "code",
   "execution_count": 94,
   "id": "2ef6dce2",
   "metadata": {},
   "outputs": [
    {
     "name": "stdout",
     "output_type": "stream",
     "text": [
      "array('i', [111, 143, 151, 176])\n"
     ]
    }
   ],
   "source": [
    "import array\n",
    "e = array.array('i',[111,143,151,176])\n",
    "print(e)"
   ]
  },
  {
   "cell_type": "code",
   "execution_count": 102,
   "id": "be8c26c1",
   "metadata": {},
   "outputs": [
    {
     "name": "stdout",
     "output_type": "stream",
     "text": [
      "<re.Match object; span=(3, 6), match='lab'>\n",
      "6\n"
     ]
    }
   ],
   "source": [
    "import re\n",
    "s = \"Matlab is lab that makes everyone maatlab\"\n",
    "r = re.search(\"lab\",s)\n",
    "print(r)\n",
    "print(r.end())"
   ]
  },
  {
   "cell_type": "code",
   "execution_count": 111,
   "id": "30918186",
   "metadata": {},
   "outputs": [
    {
     "name": "stdout",
     "output_type": "stream",
     "text": [
      "['sara', 'is', 'the', 'best', '']\n"
     ]
    }
   ],
   "source": [
    "sp = \"sara is the best \"\n",
    "l = sp.split(' ')\n",
    "print(l)"
   ]
  },
  {
   "cell_type": "code",
   "execution_count": 113,
   "id": "1faf118b",
   "metadata": {},
   "outputs": [
    {
     "name": "stdout",
     "output_type": "stream",
     "text": [
      "sara is the best \n"
     ]
    }
   ],
   "source": [
    "j = ['sara', 'is', 'the', 'best', '']\n",
    "k = ' '.join(j)\n",
    "print(k)"
   ]
  },
  {
   "cell_type": "code",
   "execution_count": 118,
   "id": "8e38a315",
   "metadata": {},
   "outputs": [
    {
     "name": "stdout",
     "output_type": "stream",
     "text": [
      "Heyya\n",
      "This is the default function\n",
      "Sayonara\n"
     ]
    }
   ],
   "source": [
    "def wrapper(fun):\n",
    "    def inner():\n",
    "        print(\"Heyya\")\n",
    "        fun()\n",
    "        print(\"Sayonara\")\n",
    "    return inner\n",
    "@wrapper\n",
    "def display():\n",
    "    print(\"This is the default function\")\n",
    "display()"
   ]
  },
  {
   "cell_type": "code",
   "execution_count": 119,
   "id": "85b1751e",
   "metadata": {},
   "outputs": [
    {
     "name": "stdout",
     "output_type": "stream",
     "text": [
      "[121, 242, 363, 484, 605]\n"
     ]
    }
   ],
   "source": [
    "f = [11,22,33,44,55]\n",
    "g = [i*11 for i in f]\n",
    "print(g)"
   ]
  },
  {
   "cell_type": "code",
   "execution_count": 122,
   "id": "b6304d89",
   "metadata": {},
   "outputs": [
    {
     "name": "stdout",
     "output_type": "stream",
     "text": [
      "x= 20 y= 15 z= 10\n"
     ]
    }
   ],
   "source": [
    "def m(x,y,z=10):\n",
    "    print('x=',x,'y=',y,'z=',z)\n",
    "m(20,15)"
   ]
  },
  {
   "cell_type": "code",
   "execution_count": 123,
   "id": "18d237bf",
   "metadata": {},
   "outputs": [
    {
     "name": "stdout",
     "output_type": "stream",
     "text": [
      "(99, 88, 77, 66, 55, 44, 33, 22, 11, 0)\n"
     ]
    }
   ],
   "source": [
    "def mm(*x):\n",
    "    print(x)\n",
    "mm(99,88,77,66,55,44,33,22,11,0)"
   ]
  },
  {
   "cell_type": "code",
   "execution_count": 125,
   "id": "c50d7159",
   "metadata": {},
   "outputs": [
    {
     "name": "stdout",
     "output_type": "stream",
     "text": [
      "{'N': 'Aarin', 'A': 24, 'C': 'Python', 'R': 'Data Scientist'}\n"
     ]
    }
   ],
   "source": [
    "def mmm(**x):\n",
    "    print(x)\n",
    "mmm(N=\"Aarin\",A=24,C=\"Python\",R=\"Data Scientist\")"
   ]
  },
  {
   "cell_type": "code",
   "execution_count": 126,
   "id": "4386d7dd",
   "metadata": {},
   "outputs": [
    {
     "name": "stdout",
     "output_type": "stream",
     "text": [
      "30\n"
     ]
    }
   ],
   "source": [
    "a = lambda x,y:x//y\n",
    "print(a(333,11))"
   ]
  },
  {
   "cell_type": "code",
   "execution_count": 131,
   "id": "0de76078",
   "metadata": {},
   "outputs": [
    {
     "name": "stdout",
     "output_type": "stream",
     "text": [
      "Students must learn new things in order to achieve their goals\n"
     ]
    }
   ],
   "source": [
    "class Student:\n",
    "    def study(self):\n",
    "        print(\"Students must learn new things in order to achieve their goals\")\n",
    "s1 =Student()\n",
    "s1.study()"
   ]
  },
  {
   "cell_type": "code",
   "execution_count": 139,
   "id": "315eb554",
   "metadata": {},
   "outputs": [
    {
     "name": "stdout",
     "output_type": "stream",
     "text": [
      "Clinch\n"
     ]
    },
    {
     "data": {
      "text/plain": [
       "110202789813983"
      ]
     },
     "execution_count": 139,
     "metadata": {},
     "output_type": "execute_result"
    }
   ],
   "source": [
    "class Bank:\n",
    "    def __init__(self,name,acno):\n",
    "        self.name = name\n",
    "        self.acno = acno\n",
    "b1 = Bank(\"Clinch\",110202789813983)\n",
    "print(b1.name)\n",
    "b1.acno"
   ]
  },
  {
   "cell_type": "code",
   "execution_count": 143,
   "id": "b65ff4a1",
   "metadata": {},
   "outputs": [
    {
     "name": "stdout",
     "output_type": "stream",
     "text": [
      "Jaswin\n",
      "11\n",
      "Doctor will prescribe medicines for the patient\n"
     ]
    }
   ],
   "source": [
    "class Doctor:\n",
    "    def __init__(self,name,exp):\n",
    "        self.name = name\n",
    "        self.exp  = exp\n",
    "    def suggestMedicine(self):\n",
    "        print(\"Doctor will prescribe medicines for the patient\")\n",
    "d = Doctor(\"Jaswin\",11)\n",
    "print(d.name)\n",
    "print(d.exp)\n",
    "d.suggestMedicine()"
   ]
  },
  {
   "cell_type": "code",
   "execution_count": 148,
   "id": "49b580a4",
   "metadata": {},
   "outputs": [
    {
     "name": "stdout",
     "output_type": "stream",
     "text": [
      "account\n"
     ]
    }
   ],
   "source": [
    "class Bank:\n",
    "    def addacc(self):\n",
    "        print(\"account\")\n",
    "class UnBank(Bank):\n",
    "    def rOI(self):\n",
    "        pass\n",
    "b = UnBank()\n",
    "b.addacc()"
   ]
  },
  {
   "cell_type": "code",
   "execution_count": 151,
   "id": "1757b003",
   "metadata": {},
   "outputs": [
    {
     "name": "stdout",
     "output_type": "stream",
     "text": [
      "H has 2\n"
     ]
    }
   ],
   "source": [
    "class A:\n",
    "    def run(self):\n",
    "        print(\"A has 4\")\n",
    "class B(A):\n",
    "    def run(self):\n",
    "        print(\"H has 2\")\n",
    "b = B()\n",
    "b.run()"
   ]
  },
  {
   "cell_type": "code",
   "execution_count": 158,
   "id": "e4746b93",
   "metadata": {},
   "outputs": [
    {
     "name": "stdout",
     "output_type": "stream",
     "text": [
      "Hasa\n",
      "Psychology\n"
     ]
    }
   ],
   "source": [
    "class  I:\n",
    "    def __init__(self,name,specialin):\n",
    "        self.name = name\n",
    "        self.spec = specialin\n",
    "i = I(\"Hasa\",\"Psychology\")\n",
    "print(i.name)\n",
    "print(i.spec)"
   ]
  },
  {
   "cell_type": "code",
   "execution_count": 160,
   "id": "706601fc",
   "metadata": {},
   "outputs": [
    {
     "name": "stdout",
     "output_type": "stream",
     "text": [
      "Hey\n"
     ]
    }
   ],
   "source": [
    "class A:\n",
    "    def m(self):\n",
    "        print(\"Hey\")\n",
    "class K(A):\n",
    "    def mm(self):\n",
    "        super().m()\n",
    "k = K()\n",
    "k.mm()"
   ]
  },
  {
   "cell_type": "code",
   "execution_count": 163,
   "id": "782f61e6",
   "metadata": {},
   "outputs": [
    {
     "name": "stdout",
     "output_type": "stream",
     "text": [
      "10\n",
      "Hey ya\n"
     ]
    }
   ],
   "source": [
    "class C:\n",
    "    x = 10\n",
    "    def display(self):\n",
    "        print(\"Hey ya\")\n",
    "print(C.x)\n",
    "C.display(1)"
   ]
  },
  {
   "cell_type": "code",
   "execution_count": 167,
   "id": "c8b0b921",
   "metadata": {},
   "outputs": [
    {
     "name": "stdout",
     "output_type": "stream",
     "text": [
      "2222\n"
     ]
    },
    {
     "data": {
      "text/plain": [
       "1111"
      ]
     },
     "execution_count": 167,
     "metadata": {},
     "output_type": "execute_result"
    }
   ],
   "source": [
    "class D:\n",
    "    z = 1111\n",
    "    def __init__(self):\n",
    "        self.y = 2222\n",
    "d1 = D()\n",
    "print(d1.y)\n",
    "D.z"
   ]
  },
  {
   "cell_type": "code",
   "execution_count": 169,
   "id": "96617b32",
   "metadata": {},
   "outputs": [
    {
     "name": "stdout",
     "output_type": "stream",
     "text": [
      "This is instance method\n",
      "This is Class Method \n"
     ]
    }
   ],
   "source": [
    "class E:\n",
    "    def __init__(self):\n",
    "        print(\"This is instance method\")\n",
    "    @classmethod\n",
    "    def amc(cls):\n",
    "        print(\"This is Class Method \")\n",
    "e1 = E()\n",
    "E.amc()"
   ]
  },
  {
   "cell_type": "code",
   "execution_count": 173,
   "id": "9af9b550",
   "metadata": {},
   "outputs": [
    {
     "name": "stdout",
     "output_type": "stream",
     "text": [
      "This is an abstract class\n"
     ]
    }
   ],
   "source": [
    "from abc import ABC,abstractmethod\n",
    "\n",
    "class Z(ABC):\n",
    "    @abstractmethod\n",
    "    def f1(self):\n",
    "        pass\n",
    "        \n",
    "class Y(Z):\n",
    "        def f1(self):\n",
    "            print(\"This is an abstract class\")\n",
    "y = Y()\n",
    "y.f1()"
   ]
  },
  {
   "cell_type": "code",
   "execution_count": 174,
   "id": "b5e398a8",
   "metadata": {},
   "outputs": [
    {
     "name": "stdout",
     "output_type": "stream",
     "text": [
      "This position is not available\n"
     ]
    }
   ],
   "source": [
    "try:\n",
    "    x = [1111,1234,3466,76445,2029]\n",
    "    print(x[7])\n",
    "except IndexError:\n",
    "    print(\"This position is not available\")"
   ]
  },
  {
   "cell_type": "code",
   "execution_count": null,
   "id": "8217c90d",
   "metadata": {},
   "outputs": [],
   "source": []
  }
 ],
 "metadata": {
  "kernelspec": {
   "display_name": "Python 3 (ipykernel)",
   "language": "python",
   "name": "python3"
  },
  "language_info": {
   "codemirror_mode": {
    "name": "ipython",
    "version": 3
   },
   "file_extension": ".py",
   "mimetype": "text/x-python",
   "name": "python",
   "nbconvert_exporter": "python",
   "pygments_lexer": "ipython3",
   "version": "3.9.13"
  }
 },
 "nbformat": 4,
 "nbformat_minor": 5
}
