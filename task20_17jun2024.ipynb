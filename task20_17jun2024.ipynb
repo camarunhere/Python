{
 "cells": [
  {
   "cell_type": "code",
   "execution_count": 48,
   "id": "19a388b4",
   "metadata": {},
   "outputs": [
    {
     "name": "stdout",
     "output_type": "stream",
     "text": [
      "[]\n",
      "Enter 10 numbers9\n",
      "['2,3,5,7,11,13,17,19,23,29']\n"
     ]
    }
   ],
   "source": [
    "x = []\n",
    "print(x)\n",
    "\n",
    "n = int(input(\"Enter 10 numbers: \"))\n",
    "\n",
    "x.insert(0,'2,3,5,7,11,13,17,19,23,29')\n",
    "print(x)"
   ]
  },
  {
   "cell_type": "code",
   "execution_count": 43,
   "id": "e791ce0a",
   "metadata": {},
   "outputs": [
    {
     "name": "stdout",
     "output_type": "stream",
     "text": [
      "[]\n"
     ]
    },
    {
     "ename": "TypeError",
     "evalue": "'int' object is not iterable",
     "output_type": "error",
     "traceback": [
      "\u001b[1;31m---------------------------------------------------------------------------\u001b[0m",
      "\u001b[1;31mTypeError\u001b[0m                                 Traceback (most recent call last)",
      "\u001b[1;32m~\\AppData\\Local\\Temp\\ipykernel_11048\\232437522.py\u001b[0m in \u001b[0;36m<module>\u001b[1;34m\u001b[0m\n\u001b[0;32m      4\u001b[0m \u001b[0mx\u001b[0m\u001b[1;33m.\u001b[0m\u001b[0minsert\u001b[0m\u001b[1;33m(\u001b[0m\u001b[1;36m2\u001b[0m\u001b[1;33m,\u001b[0m\u001b[1;36m7\u001b[0m\u001b[1;33m)\u001b[0m\u001b[1;33m\u001b[0m\u001b[1;33m\u001b[0m\u001b[0m\n\u001b[0;32m      5\u001b[0m \u001b[0mx\u001b[0m\u001b[1;33m.\u001b[0m\u001b[0minsert\u001b[0m\u001b[1;33m(\u001b[0m\u001b[1;36m0\u001b[0m\u001b[1;33m,\u001b[0m\u001b[1;36m2\u001b[0m\u001b[1;33m)\u001b[0m\u001b[1;33m\u001b[0m\u001b[1;33m\u001b[0m\u001b[0m\n\u001b[1;32m----> 6\u001b[1;33m \u001b[0mx\u001b[0m\u001b[1;33m.\u001b[0m\u001b[0mextend\u001b[0m\u001b[1;33m(\u001b[0m\u001b[1;36m5\u001b[0m\u001b[1;33m)\u001b[0m\u001b[1;33m\u001b[0m\u001b[1;33m\u001b[0m\u001b[0m\n\u001b[0m\u001b[0;32m      7\u001b[0m \u001b[0mprint\u001b[0m\u001b[1;33m(\u001b[0m\u001b[0mx\u001b[0m\u001b[1;33m)\u001b[0m\u001b[1;33m\u001b[0m\u001b[1;33m\u001b[0m\u001b[0m\n",
      "\u001b[1;31mTypeError\u001b[0m: 'int' object is not iterable"
     ]
    }
   ],
   "source": [
    "x = []\n",
    "print(x)\n",
    "\n",
    "x.insert(2,7)\n",
    "x.insert(0,2)\n",
    "x.extend\n",
    "print(x)"
   ]
  },
  {
   "cell_type": "code",
   "execution_count": null,
   "id": "53581e40",
   "metadata": {},
   "outputs": [],
   "source": [
    "x =[]\n",
    "x = int(input(\"Enter any starting Number:\" ))\n",
    "y = int(input(\"Enter the ending Number:\"))\n",
    "def f2(x,y):\n",
    "    res = list(range in (x,y))\n",
    "    return res\n",
    "res = f2(x,y)\n",
    "print(res)"
   ]
  },
  {
   "cell_type": "code",
   "execution_count": 5,
   "id": "16b2ee82",
   "metadata": {},
   "outputs": [
    {
     "name": "stdout",
     "output_type": "stream",
     "text": [
      "()\n"
     ]
    },
    {
     "ename": "TypeError",
     "evalue": "'builtin_function_or_method' object is not subscriptable",
     "output_type": "error",
     "traceback": [
      "\u001b[1;31m---------------------------------------------------------------------------\u001b[0m",
      "\u001b[1;31mTypeError\u001b[0m                                 Traceback (most recent call last)",
      "\u001b[1;32m~\\AppData\\Local\\Temp\\ipykernel_14664\\2119918076.py\u001b[0m in \u001b[0;36m<module>\u001b[1;34m\u001b[0m\n\u001b[0;32m      1\u001b[0m \u001b[0mx\u001b[0m \u001b[1;33m=\u001b[0m \u001b[1;33m(\u001b[0m\u001b[1;33m)\u001b[0m\u001b[1;33m\u001b[0m\u001b[1;33m\u001b[0m\u001b[0m\n\u001b[0;32m      2\u001b[0m \u001b[0mprint\u001b[0m\u001b[1;33m(\u001b[0m\u001b[0mx\u001b[0m\u001b[1;33m)\u001b[0m\u001b[1;33m\u001b[0m\u001b[1;33m\u001b[0m\u001b[0m\n\u001b[1;32m----> 3\u001b[1;33m \u001b[0mx\u001b[0m\u001b[1;33m.\u001b[0m\u001b[0mindex\u001b[0m\u001b[1;33m[\u001b[0m\u001b[1;36m0\u001b[0m\u001b[1;33m,\u001b[0m\u001b[1;36m50\u001b[0m\u001b[1;33m]\u001b[0m\u001b[1;33m\u001b[0m\u001b[1;33m\u001b[0m\u001b[0m\n\u001b[0m\u001b[0;32m      4\u001b[0m \u001b[1;33m\u001b[0m\u001b[0m\n\u001b[0;32m      5\u001b[0m \u001b[0mprint\u001b[0m\u001b[1;33m(\u001b[0m\u001b[0mx\u001b[0m\u001b[1;33m)\u001b[0m\u001b[1;33m\u001b[0m\u001b[1;33m\u001b[0m\u001b[0m\n",
      "\u001b[1;31mTypeError\u001b[0m: 'builtin_function_or_method' object is not subscriptable"
     ]
    }
   ],
   "source": [
    "x = ()\n",
    "print(x)\n",
    "x.index[0,50]\n",
    "\n",
    "print(x)"
   ]
  },
  {
   "cell_type": "code",
   "execution_count": 6,
   "id": "76f501a3",
   "metadata": {},
   "outputs": [
    {
     "name": "stdout",
     "output_type": "stream",
     "text": [
      "Enter element 1: 7\n",
      "Enter element 2: 78\n",
      "Enter element 3: 73\n",
      "Enter element 4: 17\n",
      "Enter element 5: 18\n",
      "Enter element 6: 19\n",
      "Enter element 7: 2\n",
      "Enter element 8: 3\n",
      "Enter element 9: 5\n",
      "Enter element 10: 11\n",
      "List elements: ['7', '78', '73', '17', '18', '19', '2', '3', '5', '11']\n",
      "Enter position to insert (0 to 10): 8\n",
      "Enter element to insert: 23\n",
      "List after insertion: ['7', '78', '73', '17', '18', '19', '2', '3', '23', '5', '11']\n",
      "Enter element to delete from list: 19\n",
      "List after deletion of '19' element: ['7', '78', '73', '17', '18', '2', '3', '23', '5', '11']\n",
      "Enter position to delete (0 to 9): 0\n",
      "List after deletion at position 0: ['78', '73', '17', '18', '2', '3', '23', '5', '11']\n",
      "Enter element to find its position: 73\n",
      "Position of '73' in the list: 1\n"
     ]
    }
   ],
   "source": [
    "# Initialize an empty list\n",
    "my_list = []\n",
    "\n",
    "# Read and store 10 elements from keyboard\n",
    "for i in range(10):\n",
    "    element = input(f\"Enter element {i+1}: \")\n",
    "    my_list.append(element)\n",
    "\n",
    "# Print all list elements\n",
    "print(\"List elements:\", my_list)\n",
    "\n",
    "# Ask user to enter a position and element to insert before that position\n",
    "try:\n",
    "    position = int(input(\"Enter position to insert (0 to {}): \".format(len(my_list))))\n",
    "    element = input(\"Enter element to insert: \")\n",
    "    my_list.insert(position, element)\n",
    "    print(\"List after insertion:\", my_list)\n",
    "except ValueError:\n",
    "    print(\"Invalid input for position. Please enter a valid integer.\")\n",
    "\n",
    "# Ask user to enter an element to delete from list\n",
    "element_to_delete = input(\"Enter element to delete from list: \")\n",
    "if element_to_delete in my_list:\n",
    "    my_list.remove(element_to_delete)\n",
    "    print(\"List after deletion of '{}' element: {}\".format(element_to_delete, my_list))\n",
    "else:\n",
    "    print(\"'{}' not found in the list.\".format(element_to_delete))\n",
    "\n",
    "# Ask user to enter a position to delete from list\n",
    "try:\n",
    "    position_to_delete = int(input(\"Enter position to delete (0 to {}): \".format(len(my_list)-1)))\n",
    "    if 0 <= position_to_delete < len(my_list):\n",
    "        del my_list[position_to_delete]\n",
    "        print(\"List after deletion at position {}: {}\".format(position_to_delete, my_list))\n",
    "    else:\n",
    "        print(\"Invalid position. Please enter a valid position.\")\n",
    "except ValueError:\n",
    "    print(\"Invalid input for position. Please enter a valid integer.\")\n",
    "\n",
    "# Ask user to enter an element and print its position if available, else print -1\n",
    "element_to_find = input(\"Enter element to find its position: \")\n",
    "if element_to_find in my_list:\n",
    "    position = my_list.index(element_to_find)\n",
    "    print(\"Position of '{}' in the list: {}\".format(element_to_find, position))\n",
    "else:\n",
    "    print(\"Element '{}' not found in the list. Position: -1\".format(element_to_find))\n"
   ]
  },
  {
   "cell_type": "code",
   "execution_count": 7,
   "id": "050df69e",
   "metadata": {},
   "outputs": [
    {
     "name": "stdout",
     "output_type": "stream",
     "text": [
      "[5, 10, 15, 20, 25, 30, 35, 40, 45, 50, 55, 60, 65, 70, 75, 80, 85, 90, 95, 100]\n"
     ]
    }
   ],
   "source": [
    "multiples_of_five = list(range(5,101,5)) \n",
    "\n",
    "print(multiples_of_five)"
   ]
  },
  {
   "cell_type": "code",
   "execution_count": null,
   "id": "2f49f0db",
   "metadata": {},
   "outputs": [],
   "source": []
  }
 ],
 "metadata": {
  "kernelspec": {
   "display_name": "Python 3 (ipykernel)",
   "language": "python",
   "name": "python3"
  },
  "language_info": {
   "codemirror_mode": {
    "name": "ipython",
    "version": 3
   },
   "file_extension": ".py",
   "mimetype": "text/x-python",
   "name": "python",
   "nbconvert_exporter": "python",
   "pygments_lexer": "ipython3",
   "version": "3.9.13"
  }
 },
 "nbformat": 4,
 "nbformat_minor": 5
}
