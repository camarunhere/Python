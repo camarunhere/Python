{
 "cells": [
  {
   "cell_type": "code",
   "execution_count": 1,
   "id": "b6b90c9b",
   "metadata": {
    "scrolled": true
   },
   "outputs": [
    {
     "name": "stdout",
     "output_type": "stream",
     "text": [
      "Enter an Integer a:34\n",
      "Enter an Integer b:76\n",
      "Enter an Integer c:67\n"
     ]
    }
   ],
   "source": [
    "a = int(input(\"Enter an Integer a:\"))\n",
    "b = int(input(\"Enter an Integer b:\"))\n",
    "c = int(input(\"Enter an Integer c:\"))"
   ]
  },
  {
   "cell_type": "code",
   "execution_count": 2,
   "id": "30b55de2",
   "metadata": {},
   "outputs": [
    {
     "data": {
      "text/plain": [
       "177"
      ]
     },
     "execution_count": 2,
     "metadata": {},
     "output_type": "execute_result"
    }
   ],
   "source": [
    "a+b+c"
   ]
  },
  {
   "cell_type": "code",
   "execution_count": 3,
   "id": "fc84a691",
   "metadata": {},
   "outputs": [
    {
     "data": {
      "text/plain": [
       "173128"
      ]
     },
     "execution_count": 3,
     "metadata": {},
     "output_type": "execute_result"
    }
   ],
   "source": [
    "a*b*c"
   ]
  },
  {
   "cell_type": "code",
   "execution_count": 4,
   "id": "2d470944",
   "metadata": {},
   "outputs": [
    {
     "data": {
      "text/plain": [
       "-109"
      ]
     },
     "execution_count": 4,
     "metadata": {},
     "output_type": "execute_result"
    }
   ],
   "source": [
    "a-b-c"
   ]
  },
  {
   "cell_type": "code",
   "execution_count": 5,
   "id": "4ee5ea52",
   "metadata": {},
   "outputs": [
    {
     "data": {
      "text/plain": [
       "0.006677140612725845"
      ]
     },
     "execution_count": 5,
     "metadata": {},
     "output_type": "execute_result"
    }
   ],
   "source": [
    "a/b/c"
   ]
  },
  {
   "cell_type": "code",
   "execution_count": 6,
   "id": "5cc5d395",
   "metadata": {},
   "outputs": [],
   "source": [
    "###Simple Interest"
   ]
  },
  {
   "cell_type": "code",
   "execution_count": 5,
   "id": "8f142d83",
   "metadata": {},
   "outputs": [
    {
     "name": "stdout",
     "output_type": "stream",
     "text": [
      "Enter the Principal Account You have taken:  125678930\n",
      "Enter the time taken in years:  5\n",
      "Enter the rate percent:  10\n",
      "Simple Interest: 62839465.0\n",
      "Total_Amount: 188518395.0\n"
     ]
    }
   ],
   "source": [
    "principle = int(input(\"Enter the Principal Account You have taken:  \"))\n",
    "time = int(input(\"Enter the time taken in years:  \"))\n",
    "rate = float(input(\"Enter the rate percent:  \"))   \n",
    "Simple_interest =(principle*time*rate)/100\n",
    "print(\"Simple Interest:\",Simple_interest)\n",
    "Total_Amount=(principle+Simple_interest)\n",
    "print(\"Total_Amount:\",Total_Amount)"
   ]
  },
  {
   "cell_type": "code",
   "execution_count": 6,
   "id": "cad0d4eb",
   "metadata": {},
   "outputs": [
    {
     "name": "stdout",
     "output_type": "stream",
     "text": [
      "Enter the length of a Rectangle: 16\n",
      "Enter the breadth of a Rectangle: 15\n",
      "Area of the Rectangle: 240.0\n",
      "Perimter of the Rectangle: 62.0\n"
     ]
    }
   ],
   "source": [
    "length = float(input(\"Enter the length of a Rectangle: \"))\n",
    "breadth = float(input(\"Enter the breadth of a Rectangle: \"))\n",
    "Area = length*breadth\n",
    "Perimeter = 2*(length+breadth)\n",
    "print(\"Area of the Rectangle:\",Area)\n",
    "print(\"Perimter of the Rectangle:\",Perimeter)"
   ]
  },
  {
   "cell_type": "code",
   "execution_count": 9,
   "id": "19a41500",
   "metadata": {},
   "outputs": [
    {
     "name": "stdout",
     "output_type": "stream",
     "text": [
      "Enter the radius of the Circle: 9\n",
      "Area of the Circle: 254.34\n",
      "Perimeter of the Circle: 56.52\n"
     ]
    }
   ],
   "source": [
    "Radius = float(input(\"Enter the radius of the Circle: \"))\n",
    "pi = 3.14\n",
    "AreaOfC = pi*Radius**2\n",
    "PerimeterOfC = 2*pi*Radius\n",
    "print(\"Area of the Circle:\",AreaOfC)\n",
    "print(\"Perimeter of the Circle:\",PerimeterOfC)"
   ]
  },
  {
   "cell_type": "code",
   "execution_count": null,
   "id": "44c8ee8f",
   "metadata": {},
   "outputs": [],
   "source": []
  }
 ],
 "metadata": {
  "kernelspec": {
   "display_name": "Python 3 (ipykernel)",
   "language": "python",
   "name": "python3"
  },
  "language_info": {
   "codemirror_mode": {
    "name": "ipython",
    "version": 3
   },
   "file_extension": ".py",
   "mimetype": "text/x-python",
   "name": "python",
   "nbconvert_exporter": "python",
   "pygments_lexer": "ipython3",
   "version": "3.9.13"
  }
 },
 "nbformat": 4,
 "nbformat_minor": 5
}
