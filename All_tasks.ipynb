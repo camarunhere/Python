{
 "cells": [
  {
   "cell_type": "code",
   "execution_count": 7,
   "id": "08d018dd",
   "metadata": {},
   "outputs": [
    {
     "name": "stdout",
     "output_type": "stream",
     "text": [
      "T\n",
      "T\n",
      "G\n",
      "G\n",
      "H\n",
      "H\n",
      "S\n",
      "S\n"
     ]
    }
   ],
   "source": [
    "Institute = \"Besant TECHNOLOGIES\"\n",
    "\n",
    "print(Institute[7])\n",
    "print(Institute[-12])\n",
    "print(Institute[15])\n",
    "print(Institute[-4])\n",
    "print(Institute[10])\n",
    "print(Institute[-9])\n",
    "print(Institute[18])\n",
    "print(Institute[-1])"
   ]
  },
  {
   "cell_type": "code",
   "execution_count": 40,
   "id": "c039b661",
   "metadata": {
    "scrolled": true
   },
   "outputs": [
    {
     "name": "stdout",
     "output_type": "stream",
     "text": [
      "43\n",
      "I\n",
      "AM\n",
      "LEARNING\n",
      "PYTHON\n",
      "AT\n",
      "Besant\n",
      "TECHNOLOGIES\n",
      "SEIGOLONHCET\n",
      "tnaseB\n",
      "TA\n",
      "NOHTYP\n",
      "GNINRAEL\n",
      "MA\n",
      "I\n"
     ]
    }
   ],
   "source": [
    "stmt = \"I AM LEARNING PYTHON AT Besant TECHNOLOGIES\"\n",
    "\n",
    "print(len(stmt))\n",
    "print(stmt[0:1])\n",
    "print(stmt[2:4])\n",
    "print(stmt[5:13])\n",
    "print(stmt[14:20])\n",
    "print(stmt[21:23])\n",
    "print(stmt[24:30])\n",
    "print(stmt[31:43])\n",
    "print(stmt[-1:-13:-1])\n",
    "print(stmt[-14:-20:-1])\n",
    "print(stmt[-21:-23:-1])\n",
    "print(stmt[-24:-30:-1])\n",
    "print(stmt[-31:-39:-1])\n",
    "print(stmt[-40:-42:-1])\n",
    "print(stmt[-43:-44:-1])\n"
   ]
  },
  {
   "cell_type": "code",
   "execution_count": 55,
   "id": "c758eba2",
   "metadata": {},
   "outputs": [
    {
     "name": "stdout",
     "output_type": "stream",
     "text": [
      "PRACTICE\n",
      "MAKES\n",
      "MAN\n",
      "PERFECT\n",
      "TCEFREP\n",
      "SEKAM\n",
      "PATC AE A EFC\n",
      "TERPNMSKMEICR\n",
      "CFE A EA CTAP\n"
     ]
    }
   ],
   "source": [
    "quote = \"PRACTICE MAKES MAN PERFECT\"\n",
    "\n",
    "print(quote[0:8])\n",
    "print(quote[9:14])\n",
    "print(quote[15:18])\n",
    "print(quote[19:26])\n",
    "print(quote[-1:-8:-1])\n",
    "print(quote[-13:-18:-1])\n",
    "print(quote[0::2])\n",
    "print(quote[-1::-2])\n",
    "print(quote[-2::-2])"
   ]
  },
  {
   "cell_type": "code",
   "execution_count": 57,
   "id": "cfa30e16",
   "metadata": {},
   "outputs": [
    {
     "name": "stdout",
     "output_type": "stream",
     "text": [
      "Enter the first number:96\n",
      "Enter the second number:48\n",
      "Enter the third number:24\n",
      "Addition: 168\n",
      "Subtraction: 24\n",
      "Multiplication: 110592\n",
      "Division: 0.08333333333333333\n"
     ]
    }
   ],
   "source": [
    "x = int(input(\"Enter the first number:\"))\n",
    "y = int(input(\"Enter the second number:\"))\n",
    "z = int(input(\"Enter the third number:\"))\n",
    "\n",
    "add = x+y+z\n",
    "sub = x-y-z\n",
    "mul = x*y*z\n",
    "div = x/y/z\n",
    "\n",
    "print(\"Addition:\",add)\n",
    "print(\"Subtraction:\",sub)\n",
    "print(\"Multiplication:\",mul)\n",
    "print(\"Division:\",div)"
   ]
  },
  {
   "cell_type": "code",
   "execution_count": 61,
   "id": "798e05a1",
   "metadata": {},
   "outputs": [
    {
     "name": "stdout",
     "output_type": "stream",
     "text": [
      "Enter the Principal:78000\n",
      "Enter the Time taken in years:5\n",
      "Enter the rate of Interest10\n",
      "Simple Interest is : 39000.0\n",
      "Total Amount:  117000.0\n"
     ]
    }
   ],
   "source": [
    "p = int(input(\"Enter the Principal:\"))\n",
    "t = float(input(\"Enter the Time taken in years:\"))\n",
    "r = float(input(\"Enter the rate of Interest\"))\n",
    "\n",
    "SI = p*t*r/100\n",
    "A = p + SI\n",
    "print(\"Simple Interest is :\",SI)\n",
    "print(\"Total Amount: \",A)\n"
   ]
  },
  {
   "cell_type": "code",
   "execution_count": 2,
   "id": "85783cef",
   "metadata": {},
   "outputs": [
    {
     "name": "stdout",
     "output_type": "stream",
     "text": [
      "Enter the length of the rectangle: 7.8\n",
      "Enter the breadth of the rectangle: 6.5\n",
      "Area of the rectangle = 50.699999999999996\n",
      "Perimeter of the rectangle = 28.6\n"
     ]
    }
   ],
   "source": [
    "l = float(input(\"Enter the length of the rectangle: \"))\n",
    "b = float(input(\"Enter the breadth of the rectangle: \"))\n",
    "\n",
    "A = l*b\n",
    "P = (l+b)*2\n",
    "\n",
    "print(\"Area of the rectangle =\",A)\n",
    "print(\"Perimeter of the rectangle =\",P)"
   ]
  },
  {
   "cell_type": "code",
   "execution_count": 3,
   "id": "1f4003c2",
   "metadata": {},
   "outputs": [
    {
     "name": "stdout",
     "output_type": "stream",
     "text": [
      "Enter the radius of the Circle:8.8\n",
      "Area of the circle= 243.16160000000005\n"
     ]
    }
   ],
   "source": [
    "r = float(input(\"Enter the radius of the Circle:\"))\n",
    "pi = 3.14\n",
    "\n",
    "A = pi*r**2\n",
    "\n",
    "print(\"Area of the circle=\",A)"
   ]
  },
  {
   "cell_type": "code",
   "execution_count": 5,
   "id": "69b7840e",
   "metadata": {},
   "outputs": [
    {
     "name": "stdout",
     "output_type": "stream",
     "text": [
      "Enter the first word:Heroic\n",
      "Enter the second word:VILLAIN\n",
      "Concated String : HeroicVILLAIN\n",
      "Reversed Concated String : cioreHNIALLIV\n"
     ]
    }
   ],
   "source": [
    "a = str(input(\"Enter the first word:\"))\n",
    "b = str(input(\"Enter the second word:\"))\n",
    "\n",
    "concat = a+b\n",
    "rev    = a[::-1]+b[::-1]\n",
    "print(\"Concated String :\",concat)\n",
    "print(\"Reversed Concated String :\",rev)\n"
   ]
  },
  {
   "cell_type": "code",
   "execution_count": 8,
   "id": "b820ec44",
   "metadata": {},
   "outputs": [
    {
     "name": "stdout",
     "output_type": "stream",
     "text": [
      "['ten', 'twenty', 'thirty', 'fourty']\n"
     ]
    }
   ],
   "source": [
    "numbers = [10,20,30,40]\n",
    "\n",
    "numbers[0] = \"ten\"\n",
    "numbers[1] = \"twenty\"\n",
    "numbers[2] = \"thirty\"\n",
    "numbers[3] = \"fourty\"\n",
    "print(numbers)"
   ]
  },
  {
   "cell_type": "code",
   "execution_count": 21,
   "id": "c8aee449",
   "metadata": {},
   "outputs": [
    {
     "name": "stdout",
     "output_type": "stream",
     "text": [
      "[1, 'name']\n",
      "['place', 'course']\n"
     ]
    }
   ],
   "source": [
    "details = [1,\"name\",\"place\",\"course\"]\n",
    "\n",
    "print(details[0:2])\n",
    "print(details[-2:])"
   ]
  },
  {
   "cell_type": "code",
   "execution_count": 24,
   "id": "9017335a",
   "metadata": {},
   "outputs": [
    {
     "name": "stdout",
     "output_type": "stream",
     "text": [
      "['english', 'mathematics', 'science']\n",
      "['mathematics', 'science', 'computers']\n",
      "['hindi', 'computers', 'science']\n"
     ]
    }
   ],
   "source": [
    "Subjects = [\"english\",\"mathematics\",\"science\",\"computers\",\"hindi\"]\n",
    "\n",
    "print(Subjects[0:3])\n",
    "print(Subjects[1:4])\n",
    "print(Subjects[-1:-4:-1])"
   ]
  },
  {
   "cell_type": "code",
   "execution_count": 37,
   "id": "9a417251",
   "metadata": {},
   "outputs": [
    {
     "name": "stdout",
     "output_type": "stream",
     "text": [
      "(10, 30, 50, 70, 90)\n",
      "(20, 40, 60, 80)\n",
      "(90, 70, 50, 30, 10)\n",
      "(80, 60, 40, 20)\n",
      "(20, 30, 40, 50)\n"
     ]
    },
    {
     "ename": "TypeError",
     "evalue": "'tuple' object does not support item assignment",
     "output_type": "error",
     "traceback": [
      "\u001b[1;31m---------------------------------------------------------------------------\u001b[0m",
      "\u001b[1;31mTypeError\u001b[0m                                 Traceback (most recent call last)",
      "\u001b[1;32m~\\AppData\\Local\\Temp\\ipykernel_12920\\1867957614.py\u001b[0m in \u001b[0;36m<module>\u001b[1;34m\u001b[0m\n\u001b[0;32m      6\u001b[0m \u001b[0mprint\u001b[0m\u001b[1;33m(\u001b[0m\u001b[0mNumbers\u001b[0m\u001b[1;33m[\u001b[0m\u001b[1;33m-\u001b[0m\u001b[1;36m2\u001b[0m\u001b[1;33m:\u001b[0m\u001b[1;33m:\u001b[0m\u001b[1;33m-\u001b[0m\u001b[1;36m2\u001b[0m\u001b[1;33m]\u001b[0m\u001b[1;33m)\u001b[0m\u001b[1;33m\u001b[0m\u001b[1;33m\u001b[0m\u001b[0m\n\u001b[0;32m      7\u001b[0m \u001b[0mprint\u001b[0m\u001b[1;33m(\u001b[0m\u001b[0mNumbers\u001b[0m\u001b[1;33m[\u001b[0m\u001b[1;36m1\u001b[0m\u001b[1;33m:\u001b[0m\u001b[1;36m5\u001b[0m\u001b[1;33m]\u001b[0m\u001b[1;33m)\u001b[0m\u001b[1;33m\u001b[0m\u001b[1;33m\u001b[0m\u001b[0m\n\u001b[1;32m----> 8\u001b[1;33m \u001b[0mNumbers\u001b[0m\u001b[1;33m[\u001b[0m\u001b[1;36m1\u001b[0m\u001b[1;33m]\u001b[0m \u001b[1;33m=\u001b[0m \u001b[1;34m\"twenty\"\u001b[0m\u001b[1;33m\u001b[0m\u001b[1;33m\u001b[0m\u001b[0m\n\u001b[0m",
      "\u001b[1;31mTypeError\u001b[0m: 'tuple' object does not support item assignment"
     ]
    }
   ],
   "source": [
    "Numbers = (10,20,30,40,50,60,70,80,90)\n",
    "\n",
    "print(Numbers[0::2])\n",
    "print(Numbers[1::2])\n",
    "print(Numbers[-1::-2])\n",
    "print(Numbers[-2::-2])\n",
    "print(Numbers[1:5])\n",
    "Numbers[1] = \"twenty\""
   ]
  },
  {
   "cell_type": "code",
   "execution_count": 49,
   "id": "c2793eca",
   "metadata": {},
   "outputs": [
    {
     "name": "stdout",
     "output_type": "stream",
     "text": [
      "suresh\n",
      "hyderabad\n",
      "30\n",
      "thirty\n",
      "delhi\n",
      "ramesh\n",
      "twenty\n",
      "[['ramesh', 'vignesh'], ['bangalore', 'hyderabad', 'varanasi'], [10, 20, 30, ['ten', 'twenty', 'thirty']]]\n"
     ]
    }
   ],
   "source": [
    "details = [[\"ramesh\",\"suresh\"],\n",
    "          [\"bangalore\",\"hyderabad\",\"delhi\"],\n",
    "          [10,20,30,[\"ten\",\"twenty\",\"thirty\"]]]\n",
    "print(details[0][1])\n",
    "print(details[1][1])\n",
    "print(details[2][2])\n",
    "print(details[2][3][2])\n",
    "print(details[1][2])\n",
    "print(details[0][0])\n",
    "print(details[2][3][1])\n",
    "details[0][1] = \"vignesh\"\n",
    "details[1][2] = \"varanasi\"\n",
    "print(details)"
   ]
  },
  {
   "cell_type": "code",
   "execution_count": 52,
   "id": "b1a5de45",
   "metadata": {},
   "outputs": [
    {
     "name": "stdout",
     "output_type": "stream",
     "text": [
      "{'suresh', 'vignesh', 'rajesh', 'manish'}\n"
     ]
    }
   ],
   "source": [
    "s1 = {\"rajesh\",\"suresh\",\"vignesh\",\"manish\"}\n",
    "\n",
    "print(s1)"
   ]
  },
  {
   "cell_type": "code",
   "execution_count": 53,
   "id": "38fdc372",
   "metadata": {},
   "outputs": [
    {
     "name": "stdout",
     "output_type": "stream",
     "text": [
      "6\n"
     ]
    }
   ],
   "source": [
    "numbers = {10,20,20,40,59,40,67,89,67}\n",
    "\n",
    "print(len(numbers))"
   ]
  },
  {
   "cell_type": "code",
   "execution_count": 64,
   "id": "86163ce6",
   "metadata": {},
   "outputs": [
    {
     "ename": "TypeError",
     "evalue": "'list' object is not callable",
     "output_type": "error",
     "traceback": [
      "\u001b[1;31m---------------------------------------------------------------------------\u001b[0m",
      "\u001b[1;31mTypeError\u001b[0m                                 Traceback (most recent call last)",
      "\u001b[1;32m~\\AppData\\Local\\Temp\\ipykernel_12920\\1112392571.py\u001b[0m in \u001b[0;36m<module>\u001b[1;34m\u001b[0m\n\u001b[0;32m      1\u001b[0m \u001b[0mInstitute\u001b[0m \u001b[1;33m=\u001b[0m \u001b[1;34m\"Besant technolgies\"\u001b[0m\u001b[1;33m\u001b[0m\u001b[1;33m\u001b[0m\u001b[0m\n\u001b[0;32m      2\u001b[0m \u001b[1;33m\u001b[0m\u001b[0m\n\u001b[1;32m----> 3\u001b[1;33m \u001b[0mset\u001b[0m \u001b[1;33m=\u001b[0m \u001b[0mset\u001b[0m\u001b[1;33m(\u001b[0m\u001b[0mInstitute\u001b[0m\u001b[1;33m)\u001b[0m\u001b[1;33m\u001b[0m\u001b[1;33m\u001b[0m\u001b[0m\n\u001b[0m\u001b[0;32m      4\u001b[0m \u001b[1;33m\u001b[0m\u001b[0m\n\u001b[0;32m      5\u001b[0m \u001b[0mprint\u001b[0m\u001b[1;33m(\u001b[0m\u001b[0mset\u001b[0m\u001b[1;33m)\u001b[0m\u001b[1;33m\u001b[0m\u001b[1;33m\u001b[0m\u001b[0m\n",
      "\u001b[1;31mTypeError\u001b[0m: 'list' object is not callable"
     ]
    }
   ],
   "source": [
    "Institute = \"Besant technolgies\"\n",
    "\n",
    "set = set(Institute)\n",
    "\n",
    "print(set)"
   ]
  },
  {
   "cell_type": "code",
   "execution_count": 63,
   "id": "7919e40a",
   "metadata": {},
   "outputs": [
    {
     "ename": "TypeError",
     "evalue": "'list' object is not callable",
     "output_type": "error",
     "traceback": [
      "\u001b[1;31m---------------------------------------------------------------------------\u001b[0m",
      "\u001b[1;31mTypeError\u001b[0m                                 Traceback (most recent call last)",
      "\u001b[1;32m~\\AppData\\Local\\Temp\\ipykernel_12920\\1809474316.py\u001b[0m in \u001b[0;36m<module>\u001b[1;34m\u001b[0m\n\u001b[0;32m      1\u001b[0m \u001b[0mMy_students\u001b[0m \u001b[1;33m=\u001b[0m \u001b[1;33m[\u001b[0m\u001b[1;34m\"Pawan\"\u001b[0m\u001b[1;33m,\u001b[0m\u001b[1;34m\"Gautam Gambhir\"\u001b[0m\u001b[1;33m,\u001b[0m\u001b[1;34m\"Abdul Kalam\"\u001b[0m\u001b[1;33m,\u001b[0m\u001b[1;34m\"Subhash Chandra Bose\"\u001b[0m\u001b[1;33m,\u001b[0m\u001b[1;34m\"Gautam Gambhir\"\u001b[0m\u001b[1;33m]\u001b[0m\u001b[1;33m\u001b[0m\u001b[1;33m\u001b[0m\u001b[0m\n\u001b[0;32m      2\u001b[0m \u001b[1;33m\u001b[0m\u001b[0m\n\u001b[1;32m----> 3\u001b[1;33m \u001b[0mset\u001b[0m \u001b[1;33m=\u001b[0m \u001b[0mset\u001b[0m\u001b[1;33m(\u001b[0m\u001b[0mMy_students\u001b[0m\u001b[1;33m)\u001b[0m\u001b[1;33m\u001b[0m\u001b[1;33m\u001b[0m\u001b[0m\n\u001b[0m\u001b[0;32m      4\u001b[0m \u001b[1;33m\u001b[0m\u001b[0m\n\u001b[0;32m      5\u001b[0m \u001b[0mprint\u001b[0m\u001b[1;33m(\u001b[0m\u001b[0mset\u001b[0m\u001b[1;33m)\u001b[0m\u001b[1;33m\u001b[0m\u001b[1;33m\u001b[0m\u001b[0m\n",
      "\u001b[1;31mTypeError\u001b[0m: 'list' object is not callable"
     ]
    }
   ],
   "source": [
    "My_students = [\"Pawan\",\"Gautam Gambhir\",\"Abdul Kalam\",\"Subhash Chandra Bose\",\"Gautam Gambhir\"]\n",
    "\n",
    "set = set(My_students)\n",
    "\n",
    "print(set)"
   ]
  },
  {
   "cell_type": "code",
   "execution_count": 62,
   "id": "772f26f4",
   "metadata": {},
   "outputs": [
    {
     "ename": "TypeError",
     "evalue": "'list' object is not callable",
     "output_type": "error",
     "traceback": [
      "\u001b[1;31m---------------------------------------------------------------------------\u001b[0m",
      "\u001b[1;31mTypeError\u001b[0m                                 Traceback (most recent call last)",
      "\u001b[1;32m~\\AppData\\Local\\Temp\\ipykernel_12920\\1443597806.py\u001b[0m in \u001b[0;36m<module>\u001b[1;34m\u001b[0m\n\u001b[0;32m      2\u001b[0m \u001b[1;33m\u001b[0m\u001b[0m\n\u001b[0;32m      3\u001b[0m \u001b[1;31m# Convert list to set\u001b[0m\u001b[1;33m\u001b[0m\u001b[1;33m\u001b[0m\u001b[0m\n\u001b[1;32m----> 4\u001b[1;33m \u001b[0mMy_students_set\u001b[0m \u001b[1;33m=\u001b[0m \u001b[0mset\u001b[0m\u001b[1;33m(\u001b[0m\u001b[0mMy_students\u001b[0m\u001b[1;33m)\u001b[0m\u001b[1;33m\u001b[0m\u001b[1;33m\u001b[0m\u001b[0m\n\u001b[0m\u001b[0;32m      5\u001b[0m \u001b[1;33m\u001b[0m\u001b[0m\n\u001b[0;32m      6\u001b[0m \u001b[0mprint\u001b[0m\u001b[1;33m(\u001b[0m\u001b[0mMy_students_set\u001b[0m\u001b[1;33m)\u001b[0m\u001b[1;33m\u001b[0m\u001b[1;33m\u001b[0m\u001b[0m\n",
      "\u001b[1;31mTypeError\u001b[0m: 'list' object is not callable"
     ]
    }
   ],
   "source": [
    "My_students = [\"Pawan\", \"Gautam Gambhir\", \"Abdul Kalam\", \"Subhash Chandra Bose\", \"Gautam Gambhir\"]\n",
    "\n",
    "# Convert list to set\n",
    "My_students_set = set(My_students)\n",
    "\n",
    "print(My_students_set)\n"
   ]
  },
  {
   "cell_type": "code",
   "execution_count": 2,
   "id": "18cca7b4",
   "metadata": {},
   "outputs": [
    {
     "name": "stdout",
     "output_type": "stream",
     "text": [
      "[5, 10, 15, 20, 25, 30, 35, 40, 45, 50, 55, 60, 65, 70, 75, 80, 85, 90, 95, 100]\n"
     ]
    }
   ],
   "source": [
    "multiples_of_five = list(range(5,101,5))\n",
    "\n",
    "print(multiples_of_five)"
   ]
  },
  {
   "cell_type": "code",
   "execution_count": 79,
   "id": "9e2a11ba",
   "metadata": {},
   "outputs": [
    {
     "name": "stdout",
     "output_type": "stream",
     "text": [
      "40\n",
      "36\n",
      "32\n",
      "28\n",
      "24\n",
      "20\n",
      "16\n",
      "12\n",
      "8\n",
      "4\n"
     ]
    }
   ],
   "source": [
    "for i in range (40,3,-4):\n",
    "     print(i)"
   ]
  },
  {
   "cell_type": "code",
   "execution_count": 4,
   "id": "d65674ea",
   "metadata": {},
   "outputs": [
    {
     "name": "stdout",
     "output_type": "stream",
     "text": [
      "[40, 36, 32, 28, 24, 20, 16, 12, 8, 4]\n"
     ]
    }
   ],
   "source": [
    "table_of_4 = list(range(40,3,-4))\n",
    "\n",
    "print(table_of_4)\n",
    "\n"
   ]
  },
  {
   "cell_type": "code",
   "execution_count": 14,
   "id": "49f311d5",
   "metadata": {},
   "outputs": [
    {
     "name": "stdout",
     "output_type": "stream",
     "text": [
      "Odd = [99, 97, 95, 93, 91, 89, 87, 85, 83, 81, 79, 77, 75, 73, 71, 69, 67, 65, 63, 61, 59, 57, 55, 53, 51, 49, 47, 45, 43, 41, 39, 37, 35, 33, 31, 29, 27, 25, 23, 21, 19, 17, 15, 13, 11]\n"
     ]
    }
   ],
   "source": [
    "odd = list(range(99,10,-2))\n",
    "print(\"Odd =\",odd)\n"
   ]
  },
  {
   "cell_type": "code",
   "execution_count": 12,
   "id": "9ccc23c5",
   "metadata": {},
   "outputs": [
    {
     "name": "stdout",
     "output_type": "stream",
     "text": [
      "Even = (50, 48, 46, 44, 42, 40, 38, 36, 34, 32, 30, 28, 26, 24, 22, 20, 18, 16, 14, 12, 10, 8, 6, 4, 2)\n"
     ]
    }
   ],
   "source": [
    "even = tuple(range(50,1,-2))\n",
    "print(\"Even =\",even)"
   ]
  },
  {
   "cell_type": "code",
   "execution_count": 22,
   "id": "211d2018",
   "metadata": {},
   "outputs": [
    {
     "name": "stdout",
     "output_type": "stream",
     "text": [
      "{'Trainers': 10, 'Students': 100, 'Course': 'Python'}\n",
      "{'Trainers': 15, 'Students': 100, 'Course': 'Python'}\n",
      "{'Trainers': 15, 'Students': 100, 'Course': 'Python', 'Place': 'Hitech City'}\n"
     ]
    }
   ],
   "source": [
    "d1 = {\"Trainers\" : 10,\n",
    "      \"Students\" : 100,\n",
    "      \"Course\":\"Python\"}\n",
    "print(d1)\n",
    "d1[\"Trainers\"] = 15\n",
    "print(d1)\n",
    "d1[\"Place\"]= \"Hitech City\"\n",
    "print(d1)"
   ]
  },
  {
   "cell_type": "code",
   "execution_count": 27,
   "id": "0fc5b60d",
   "metadata": {},
   "outputs": [
    {
     "name": "stdout",
     "output_type": "stream",
     "text": [
      "{}\n",
      "{'Year': 2022, 'Month': 'January', 'Day': 'Monday'}\n",
      "{'Year': 2022, 'Month': 'May', 'Day': 'Monday'}\n",
      "{'Year': 2022, 'Month': 'May', 'Day': 'Monday', 'Date': '20/5/2022'}\n"
     ]
    }
   ],
   "source": [
    "dict = {}\n",
    "print(dict)\n",
    "\n",
    "dict['Year'] = 2022\n",
    "dict['Month'] = \"January\"\n",
    "dict['Day'] = 'Monday'\n",
    "\n",
    "print(dict)\n",
    "\n",
    "dict['Month'] = 'May'\n",
    "print(dict)\n",
    "dict['Date'] = \"20/5/2022\"\n",
    "print(dict)"
   ]
  },
  {
   "cell_type": "code",
   "execution_count": 28,
   "id": "f7610c66",
   "metadata": {},
   "outputs": [
    {
     "name": "stdout",
     "output_type": "stream",
     "text": [
      "Enter your age to check eligibility of vote:19\n",
      "You are eligible to cast your vote in India\n"
     ]
    }
   ],
   "source": [
    "Age = int(input(\"Enter your age to check eligibility of vote:\"))\n",
    "if Age >= 18:\n",
    "    print(\"You are eligible to cast your vote in India\")\n",
    "else:\n",
    "    print(\"You are not eligible to cast your vote in India yet\")"
   ]
  },
  {
   "cell_type": "code",
   "execution_count": 31,
   "id": "f73aa5d3",
   "metadata": {},
   "outputs": [
    {
     "name": "stdout",
     "output_type": "stream",
     "text": [
      "Enter a number to compare :98\n",
      "Enter a number to be compared:89\n",
      "98 is the biggest number\n"
     ]
    }
   ],
   "source": [
    "a = int(input(\"Enter a number to compare :\"))\n",
    "b = int(input(\"Enter a number to be compared:\"))\n",
    "\n",
    "if a > b:\n",
    "    print(a,\"is the biggest number\")\n",
    "elif a < b:\n",
    "    print(b,\"is the biggest number\")\n",
    "else:\n",
    "    print(\"a and b are equal\")"
   ]
  },
  {
   "cell_type": "code",
   "execution_count": 2,
   "id": "067cb11d",
   "metadata": {},
   "outputs": [
    {
     "name": "stdout",
     "output_type": "stream",
     "text": [
      "Enter the temparature to know how the weather is: -11\n",
      "The temperature is freezing\n"
     ]
    }
   ],
   "source": [
    "t = float(input(\"Enter the temparature to know how the weather is: \"))\n",
    "\n",
    "if t < 0:\n",
    "    print(\"The temperature is freezing\")\n",
    "elif t == 0 or t < 15 :\n",
    "    print(\"The day is colder\")\n",
    "elif t == 15 or t < 30:\n",
    "    print(\"The day is cool\")\n",
    "elif t == 30 or t < 40:\n",
    "    print(\"The day is hot\")\n",
    "elif t == 40 or t < 45:\n",
    "    print(\"The day is hottest\")\n",
    "else:\n",
    "    print(\"We couldn't live in this weather anymore..\")"
   ]
  },
  {
   "cell_type": "code",
   "execution_count": 5,
   "id": "8be34391",
   "metadata": {},
   "outputs": [
    {
     "name": "stdout",
     "output_type": "stream",
     "text": [
      "Enter even if you are a girl and odd if you are a boy: 67\n",
      "You are a boy\n"
     ]
    }
   ],
   "source": [
    "n = float(input(\"Enter even if you are a girl and odd if you are a boy: \"))\n",
    "\n",
    "if n % 2 == 0:\n",
    "    print(\"You are a girl\")\n",
    "else:\n",
    "    print(\"You are a boy\")"
   ]
  },
  {
   "cell_type": "code",
   "execution_count": 7,
   "id": "f6f7b971",
   "metadata": {},
   "outputs": [
    {
     "name": "stdout",
     "output_type": "stream",
     "text": [
      "Enter your age to see which type of human you belong to: -3\n",
      "First take birth on this earth\n"
     ]
    }
   ],
   "source": [
    "Age = int(input(\"Enter your age to see which type of human you belong to: \"))\n",
    "\n",
    "if Age < 0:\n",
    "    print(\"First take birth on this earth\")\n",
    "elif Age <= 1 or Age < 2:\n",
    "    print(\"You are an infant\")\n",
    "elif Age <= 2  or Age < 6:\n",
    "    print(\"You are a baby\")\n",
    "elif Age <= 6  or Age < 13 :\n",
    "    print(\"You are a kid\")\n",
    "elif Age <= 13 or Age < 20  :\n",
    "    print(\"You are an adolescent\")\n",
    "elif Age <= 20 or Age < 60:\n",
    "    print(\"You are an adult\")\n",
    "elif Age <= 60 or Age <=100 :\n",
    "    print(\"You are old generation\")\n",
    "else:\n",
    "    print(\"Are you an alien? Because your age is not defined\")\n",
    "    \n",
    "    "
   ]
  },
  {
   "cell_type": "code",
   "execution_count": 16,
   "id": "6fcf452c",
   "metadata": {},
   "outputs": [
    {
     "name": "stdout",
     "output_type": "stream",
     "text": [
      "Enter your gender:u\n",
      "Enter your age to check your eligibility of marriage: 8\n",
      "You can marry anytime your gender is not defined here\n"
     ]
    }
   ],
   "source": [
    "g = str(input(\"Enter your gender:\"))\n",
    "a = int(input(\"Enter your age to check your eligibility of marriage: \"))\n",
    "if g == 'male' or g == 'Male' or g == 'MALE':\n",
    "    if a > 21:\n",
    "        print(\"You are eligible to marry\")\n",
    "    elif a<=21 :\n",
    "        print(\"Grow up matured to marry kid\")\n",
    "elif g == 'female' or g == 'Female' or g == 'FEMALE':\n",
    "    if a > 18:\n",
    "        print(\"You are eligible to marry\")\n",
    "    elif a<=18:\n",
    "        print(\"Be matured to decide to marry or not\")\n",
    "else:\n",
    "    print(\"You can marry anytime your gender is not defined here\")\n"
   ]
  },
  {
   "cell_type": "code",
   "execution_count": 22,
   "id": "76368494",
   "metadata": {},
   "outputs": [
    {
     "name": "stdout",
     "output_type": "stream",
     "text": [
      "Enter any year to find if it is leap year or centurian: 2000\n",
      "Centurian leap year\n"
     ]
    }
   ],
   "source": [
    "y = int(input(\"Enter any year to find if it is leap year or centurian: \"))\n",
    "\n",
    "if y%4 == 0:\n",
    "    if y % 100 == 0:\n",
    "        if y % 400 == 0:\n",
    "            print(\"Centurian leap year\")\n",
    "        else:\n",
    "            print(\"Not a Centurian leap year\")\n",
    "    else:\n",
    "        print(y,\"is a leap year\")\n",
    "else:\n",
    "    print(y,\"is not a leap year\")"
   ]
  },
  {
   "cell_type": "code",
   "execution_count": null,
   "id": "8ac86b63",
   "metadata": {},
   "outputs": [],
   "source": [
    "read the year from keyboard \n",
    "1.if the year is normal year and it is divisible by 4\n",
    "print\"leap year\" otherwise \"Not leap year\"\n",
    "2.if the year is centurian and it is divisible by 400\n",
    "print\"centurian leap year\" otherwise \"not a centurian leap year\""
   ]
  }
 ],
 "metadata": {
  "kernelspec": {
   "display_name": "Python 3 (ipykernel)",
   "language": "python",
   "name": "python3"
  },
  "language_info": {
   "codemirror_mode": {
    "name": "ipython",
    "version": 3
   },
   "file_extension": ".py",
   "mimetype": "text/x-python",
   "name": "python",
   "nbconvert_exporter": "python",
   "pygments_lexer": "ipython3",
   "version": "3.9.13"
  }
 },
 "nbformat": 4,
 "nbformat_minor": 5
}
