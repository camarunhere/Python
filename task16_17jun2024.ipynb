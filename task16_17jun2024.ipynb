{
 "cells": [
  {
   "cell_type": "code",
   "execution_count": 1,
   "id": "4af240b8",
   "metadata": {},
   "outputs": [
    {
     "name": "stdout",
     "output_type": "stream",
     "text": [
      "Schools are opened\n"
     ]
    }
   ],
   "source": [
    "def school():\n",
    "    print(\"Schools are opened\")\n",
    "\n",
    "    \n",
    "school()"
   ]
  },
  {
   "cell_type": "code",
   "execution_count": 10,
   "id": "1c985d54",
   "metadata": {},
   "outputs": [
    {
     "name": "stdout",
     "output_type": "stream",
     "text": [
      "Welcome to the course: Pythonhub\n"
     ]
    }
   ],
   "source": [
    "def course(name):\n",
    "    print(\"Welcome to the course:\",name)\n",
    "\n",
    "course('Pythonhub')"
   ]
  },
  {
   "cell_type": "code",
   "execution_count": 22,
   "id": "f07ab214",
   "metadata": {},
   "outputs": [
    {
     "name": "stdout",
     "output_type": "stream",
     "text": [
      "0,2,4,6,8,"
     ]
    }
   ],
   "source": [
    "def even(n):\n",
    "\n",
    "    for x in range (0,n):\n",
    "        if x%2==0:\n",
    "            print(x,end=',')\n",
    "    \n",
    "even(10)"
   ]
  },
  {
   "cell_type": "code",
   "execution_count": 7,
   "id": "e534fe56",
   "metadata": {},
   "outputs": [
    {
     "name": "stdout",
     "output_type": "stream",
     "text": [
      "1,3,5,7,9,"
     ]
    }
   ],
   "source": [
    "def odd(n):\n",
    "    \n",
    "    for x in range (0,n):\n",
    "        if x%2!=0:\n",
    "            print(x,end=',')\n",
    "odd(11)"
   ]
  },
  {
   "cell_type": "code",
   "execution_count": null,
   "id": "303fdc01",
   "metadata": {},
   "outputs": [],
   "source": []
  }
 ],
 "metadata": {
  "kernelspec": {
   "display_name": "Python 3 (ipykernel)",
   "language": "python",
   "name": "python3"
  },
  "language_info": {
   "codemirror_mode": {
    "name": "ipython",
    "version": 3
   },
   "file_extension": ".py",
   "mimetype": "text/x-python",
   "name": "python",
   "nbconvert_exporter": "python",
   "pygments_lexer": "ipython3",
   "version": "3.9.13"
  }
 },
 "nbformat": 4,
 "nbformat_minor": 5
}
