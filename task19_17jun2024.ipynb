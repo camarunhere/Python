{
 "cells": [
  {
   "cell_type": "code",
   "execution_count": 6,
   "id": "06c1be6b",
   "metadata": {},
   "outputs": [
    {
     "name": "stdout",
     "output_type": "stream",
     "text": [
      "Patient_Name = Rajnath\n",
      "Bloodgroup = A+\n",
      "Suffering_from = (Diabetes)(Cholestrol)(Asthma)\n",
      "Email_id = random@gmail.com\n"
     ]
    }
   ],
   "source": [
    "def f1(**d):\n",
    "    for k,v in d.items( ):\n",
    "        print(k,'=',v)\n",
    "f1(Patient_Name = 'Rajnath', Bloodgroup = 'A+', Suffering_from = '(Diabetes)' '(Cholestrol)' '(Asthma)', Email_id = 'random@gmail.com')"
   ]
  },
  {
   "cell_type": "code",
   "execution_count": 9,
   "id": "0a6f7ceb",
   "metadata": {},
   "outputs": [
    {
     "name": "stdout",
     "output_type": "stream",
     "text": [
      "('Aaron', 'aaronfesi@gmail.com', '145,houston highhill,Texas')\n"
     ]
    }
   ],
   "source": [
    "def f2(*x):\n",
    "    print(x)\n",
    "f2('Aaron','aaronfesi@gmail.com','145,houston highhill,Texas')"
   ]
  },
  {
   "cell_type": "code",
   "execution_count": null,
   "id": "d261570c",
   "metadata": {},
   "outputs": [],
   "source": []
  }
 ],
 "metadata": {
  "kernelspec": {
   "display_name": "Python 3 (ipykernel)",
   "language": "python",
   "name": "python3"
  },
  "language_info": {
   "codemirror_mode": {
    "name": "ipython",
    "version": 3
   },
   "file_extension": ".py",
   "mimetype": "text/x-python",
   "name": "python",
   "nbconvert_exporter": "python",
   "pygments_lexer": "ipython3",
   "version": "3.9.13"
  }
 },
 "nbformat": 4,
 "nbformat_minor": 5
}
