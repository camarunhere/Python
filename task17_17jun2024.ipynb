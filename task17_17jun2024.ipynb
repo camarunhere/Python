{
 "cells": [
  {
   "cell_type": "code",
   "execution_count": 1,
   "id": "d92e1f44",
   "metadata": {
    "scrolled": true
   },
   "outputs": [
    {
     "name": "stdout",
     "output_type": "stream",
     "text": [
      "(30, -10, 200)\n",
      "(80, -20, 1500)\n",
      "(136, 10, 4599)\n"
     ]
    }
   ],
   "source": [
    "def calc(n,m):\n",
    "    add = n+m\n",
    "    sub = n-m\n",
    "    mul = n*m\n",
    "    return add,sub,mul\n",
    "    return sub\n",
    "    return mul\n",
    "\n",
    "add = calc(10,20)\n",
    "sub = calc(30,50)\n",
    "mul = calc(73,63)\n",
    "\n",
    "print(add)\n",
    "print(sub)\n",
    "print(mul)\n",
    "\n"
   ]
  },
  {
   "cell_type": "code",
   "execution_count": 27,
   "id": "252bc494",
   "metadata": {},
   "outputs": [
    {
     "name": "stdout",
     "output_type": "stream",
     "text": [
      "list[0]\n",
      "list[1]\n",
      "list[2]\n",
      "list[3]\n",
      "list[4]\n",
      "list[5]\n",
      "list[6]\n",
      "list[7]\n",
      "list[8]\n",
      "list[9]\n"
     ]
    }
   ],
   "source": [
    "def num(n):\n",
    "    for i in range(0,n):\n",
    "        print(i)\n",
    "\n",
    "num(10)"
   ]
  },
  {
   "cell_type": "code",
   "execution_count": 3,
   "id": "5198f8d3",
   "metadata": {},
   "outputs": [
    {
     "data": {
      "text/plain": [
       "'BesantTECHNOLOGIES'"
      ]
     },
     "execution_count": 3,
     "metadata": {},
     "output_type": "execute_result"
    }
   ],
   "source": [
    "def str(x,y):\n",
    "    concat = x+y\n",
    "    return concat\n",
    "\n",
    "str(\"Besant\",\"TECHNOLOGIES\")"
   ]
  },
  {
   "cell_type": "code",
   "execution_count": 28,
   "id": "c1d3c41e",
   "metadata": {},
   "outputs": [
    {
     "name": "stdout",
     "output_type": "stream",
     "text": [
      "[0, 1, 2, 3, 4, 5, 6, 7, 8, 9]\n"
     ]
    }
   ],
   "source": [
    "def f1(x):\n",
    "    res = list(range(x))\n",
    "    return res\n",
    "res=f1(10)\n",
    "print(res)"
   ]
  },
  {
   "cell_type": "code",
   "execution_count": null,
   "id": "b5a086fc",
   "metadata": {},
   "outputs": [],
   "source": [
    "def m(x,y):\n",
    "    add = x + y\n",
    "    sub = x - y\n",
    "    mul = x * y\n",
    "    print(\"Addition= \",add)\n",
    "    print(\"Subtraction= \",sub)\n",
    "    print(\"Multiplication= \",mul)\n",
    "m(76,46)"
   ]
  }
 ],
 "metadata": {
  "kernelspec": {
   "display_name": "Python 3 (ipykernel)",
   "language": "python",
   "name": "python3"
  },
  "language_info": {
   "codemirror_mode": {
    "name": "ipython",
    "version": 3
   },
   "file_extension": ".py",
   "mimetype": "text/x-python",
   "name": "python",
   "nbconvert_exporter": "python",
   "pygments_lexer": "ipython3",
   "version": "3.9.13"
  }
 },
 "nbformat": 4,
 "nbformat_minor": 5
}
