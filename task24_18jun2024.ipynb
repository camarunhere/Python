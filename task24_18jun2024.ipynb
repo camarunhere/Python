{
 "cells": [
  {
   "cell_type": "code",
   "execution_count": 3,
   "id": "1002758c",
   "metadata": {},
   "outputs": [
    {
     "name": "stdout",
     "output_type": "stream",
     "text": [
      "[10, 20, 30, 40]\n"
     ]
    }
   ],
   "source": [
    "x = [('a', 10), ('b', 20), ('c', 30), ('d', 40)]\n",
    "\n",
    "# Extracting the second elements\n",
    "second_elements = [t[1] for t in x]\n",
    "\n",
    "# Printing the result\n",
    "print(second_elements)  # Output: [10, 20, 30, 40]\n"
   ]
  },
  {
   "cell_type": "code",
   "execution_count": 25,
   "id": "7243e5c6",
   "metadata": {},
   "outputs": [
    {
     "ename": "TypeError",
     "evalue": "unhashable type: 'list'",
     "output_type": "error",
     "traceback": [
      "\u001b[1;31m---------------------------------------------------------------------------\u001b[0m",
      "\u001b[1;31mTypeError\u001b[0m                                 Traceback (most recent call last)",
      "\u001b[1;32m~\\AppData\\Local\\Temp\\ipykernel_18444\\3413519677.py\u001b[0m in \u001b[0;36m<module>\u001b[1;34m\u001b[0m\n\u001b[0;32m      2\u001b[0m \u001b[0my\u001b[0m \u001b[1;33m=\u001b[0m \u001b[1;33m[\u001b[0m\u001b[1;36m10\u001b[0m\u001b[1;33m,\u001b[0m\u001b[1;36m20\u001b[0m\u001b[1;33m,\u001b[0m\u001b[1;36m30\u001b[0m\u001b[1;33m,\u001b[0m\u001b[1;36m40\u001b[0m\u001b[1;33m]\u001b[0m\u001b[1;33m\u001b[0m\u001b[1;33m\u001b[0m\u001b[0m\n\u001b[0;32m      3\u001b[0m \u001b[1;33m\u001b[0m\u001b[0m\n\u001b[1;32m----> 4\u001b[1;33m \u001b[0mprint\u001b[0m\u001b[1;33m(\u001b[0m\u001b[1;33m{\u001b[0m\u001b[0mx\u001b[0m\u001b[1;33m:\u001b[0m\u001b[0my\u001b[0m\u001b[1;33m}\u001b[0m\u001b[1;33m)\u001b[0m\u001b[1;33m\u001b[0m\u001b[1;33m\u001b[0m\u001b[0m\n\u001b[0m",
      "\u001b[1;31mTypeError\u001b[0m: unhashable type: 'list'"
     ]
    }
   ],
   "source": [
    "x = ['a','b','c','d']\n",
    "y = [10,20,30,40]\n",
    "\n",
    "print({x:y})"
   ]
  },
  {
   "cell_type": "code",
   "execution_count": 26,
   "id": "0b772b16",
   "metadata": {},
   "outputs": [
    {
     "ename": "SyntaxError",
     "evalue": "invalid syntax (877078134.py, line 3)",
     "output_type": "error",
     "traceback": [
      "\u001b[1;36m  File \u001b[1;32m\"C:\\Users\\santo\\AppData\\Local\\Temp\\ipykernel_18444\\877078134.py\"\u001b[1;36m, line \u001b[1;32m3\u001b[0m\n\u001b[1;33m    copy elements in x and y to a list z like this , z=[('a',10),('b',20),('c',30),('d',40)]\u001b[0m\n\u001b[1;37m         ^\u001b[0m\n\u001b[1;31mSyntaxError\u001b[0m\u001b[1;31m:\u001b[0m invalid syntax\n"
     ]
    }
   ],
   "source": [
    "x = ['a','b','c','d']\n",
    "y = [10,20,30,40]\n",
    "copy elements in x and y to a list z like this , z=[('a',10),('b',20),('c',30),('d',40)]"
   ]
  },
  {
   "cell_type": "code",
   "execution_count": 27,
   "id": "888f6096",
   "metadata": {},
   "outputs": [
    {
     "name": "stdout",
     "output_type": "stream",
     "text": [
      "[('a', 10), ('b', 20), ('c', 30), ('d', 40)]\n"
     ]
    }
   ],
   "source": [
    "x = ['a', 'b', 'c', 'd']\n",
    "y = [10, 20, 30, 40]\n",
    "\n",
    "# Using zip() to combine elements from x and y into tuples\n",
    "z = list(zip(x, y))\n",
    "\n",
    "print(z)  # Output: [('a', 10), ('b', 20), ('c', 30), ('d', 40)]\n"
   ]
  },
  {
   "cell_type": "code",
   "execution_count": 29,
   "id": "8c7ad65f",
   "metadata": {},
   "outputs": [
    {
     "ename": "SyntaxError",
     "evalue": "invalid syntax (1921211142.py, line 5)",
     "output_type": "error",
     "traceback": [
      "\u001b[1;36m  File \u001b[1;32m\"C:\\Users\\santo\\AppData\\Local\\Temp\\ipykernel_18444\\1921211142.py\"\u001b[1;36m, line \u001b[1;32m5\u001b[0m\n\u001b[1;33m    z = list(zip{x : y})\u001b[0m\n\u001b[1;37m                ^\u001b[0m\n\u001b[1;31mSyntaxError\u001b[0m\u001b[1;31m:\u001b[0m invalid syntax\n"
     ]
    }
   ],
   "source": [
    "x = ['a', 'b', 'c', 'd']\n",
    "y = [10, 20, 30, 40]\n",
    "\n",
    "# Using zip() to combine elements from x and y into tuples\n",
    "z = list(zip{x : y})\n",
    "\n",
    "print(z)  # Output: [('a', 10), ('b', 20), ('c', 30), ('d', 40)]\n"
   ]
  },
  {
   "cell_type": "code",
   "execution_count": 30,
   "id": "fc7c72d3",
   "metadata": {},
   "outputs": [
    {
     "name": "stdout",
     "output_type": "stream",
     "text": [
      "{'a': 10, 'b': 20, 'c': 30, 'd': 40}\n"
     ]
    }
   ],
   "source": [
    "x = ['a', 'b', 'c', 'd']\n",
    "y = [10, 20, 30, 40]\n",
    "\n",
    "# Using dictionary comprehension to create a dictionary\n",
    "result_dict = {key: value for key, value in zip(x, y)}\n",
    "\n",
    "print(result_dict)  # Output: {'a': 10, 'b': 20, 'c': 30, 'd': 40}\n"
   ]
  },
  {
   "cell_type": "code",
   "execution_count": 4,
   "id": "caec0603",
   "metadata": {},
   "outputs": [
    {
     "name": "stdout",
     "output_type": "stream",
     "text": [
      "[10, 20, 30, 40]\n"
     ]
    }
   ],
   "source": [
    "x = [('a', 10), ('b', 20), ('c', 30), ('d', 40)]\n",
    "print([t[1] for t in x])"
   ]
  },
  {
   "cell_type": "code",
   "execution_count": null,
   "id": "67ec9cc9",
   "metadata": {},
   "outputs": [],
   "source": []
  }
 ],
 "metadata": {
  "kernelspec": {
   "display_name": "Python 3 (ipykernel)",
   "language": "python",
   "name": "python3"
  },
  "language_info": {
   "codemirror_mode": {
    "name": "ipython",
    "version": 3
   },
   "file_extension": ".py",
   "mimetype": "text/x-python",
   "name": "python",
   "nbconvert_exporter": "python",
   "pygments_lexer": "ipython3",
   "version": "3.9.13"
  }
 },
 "nbformat": 4,
 "nbformat_minor": 5
}
