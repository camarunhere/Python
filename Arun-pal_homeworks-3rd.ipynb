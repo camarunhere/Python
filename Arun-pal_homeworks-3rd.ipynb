{
 "cells": [
  {
   "cell_type": "code",
   "execution_count": 1,
   "id": "8a5f0d50",
   "metadata": {},
   "outputs": [],
   "source": [
    "#if is the keyword which helps in writing code involves condition\n",
    "#else is also a part of if that helps in writing code that involves condition\n",
    "#elif is also a part of if represents else if and helps us in writing code that involves condition"
   ]
  },
  {
   "cell_type": "code",
   "execution_count": 3,
   "id": "3d4de192",
   "metadata": {},
   "outputs": [
    {
     "name": "stdout",
     "output_type": "stream",
     "text": [
      "X is greater\n"
     ]
    }
   ],
   "source": [
    "x = 10\n",
    "\n",
    "if x > 5:\n",
    "    print(\"X is greater\")"
   ]
  },
  {
   "cell_type": "code",
   "execution_count": 4,
   "id": "926f2f8b",
   "metadata": {},
   "outputs": [],
   "source": [
    "#There is no inherent limit on the number of statements that can appear under an if block. The number of statements that \n",
    "# can be executed under an if block is limited only by practical considerations such as memory and processing power."
   ]
  },
  {
   "cell_type": "code",
   "execution_count": 6,
   "id": "181a9759",
   "metadata": {},
   "outputs": [
    {
     "name": "stdout",
     "output_type": "stream",
     "text": [
      "Enter Your Age: 23\n",
      "Eligible to Vote\n"
     ]
    }
   ],
   "source": [
    "a = int(input(\"Enter Your Age: \"))\n",
    "\n",
    "if a > 18:\n",
    "    print(\"Eligible to Vote\")\n",
    "else:\n",
    "    print(\"Not Eligible to Vote\")"
   ]
  },
  {
   "cell_type": "code",
   "execution_count": 7,
   "id": "f8d12d96",
   "metadata": {},
   "outputs": [
    {
     "name": "stdout",
     "output_type": "stream",
     "text": [
      "Enter a number: 67\n",
      "Odd\n"
     ]
    }
   ],
   "source": [
    "n = int(input(\"Enter a number: \"))\n",
    "\n",
    "if n % 2 == 0:\n",
    "    print(\"Even\")\n",
    "else:\n",
    "    print(\"Odd\")"
   ]
  },
  {
   "cell_type": "code",
   "execution_count": 9,
   "id": "765d359f",
   "metadata": {},
   "outputs": [
    {
     "name": "stdout",
     "output_type": "stream",
     "text": [
      "Enter any number to check if it is divisible by 7: 78\n",
      "78 is not Divisible by 7\n"
     ]
    }
   ],
   "source": [
    "m = int(input(\"Enter any number to check if it is divisible by 7: \"))\n",
    "\n",
    "if m % 7 == 0:\n",
    "    print(m,\"is Divisible by 7\")\n",
    "else:\n",
    "    print(m,\"is not Divisible by 7\")"
   ]
  },
  {
   "cell_type": "code",
   "execution_count": 11,
   "id": "6c43cdae",
   "metadata": {},
   "outputs": [
    {
     "name": "stdout",
     "output_type": "stream",
     "text": [
      "Enter a multiple of 5: 70\n",
      "Hola Mahola\n"
     ]
    }
   ],
   "source": [
    "f = int(input(\"Enter a multiple of 5: \"))\n",
    "\n",
    "if f % 5 == 0:\n",
    "    print(\"Hola Mahola\")\n",
    "else:\n",
    "    print(\"See ya\")"
   ]
  },
  {
   "cell_type": "code",
   "execution_count": 18,
   "id": "78505df2",
   "metadata": {},
   "outputs": [
    {
     "name": "stdout",
     "output_type": "stream",
     "text": [
      "Enter number of units of electricity consumed: 150\n",
      "250.0\n"
     ]
    }
   ],
   "source": [
    "u = float(input(\"Enter number of units of electricity consumed: \"))\n",
    "\n",
    "if u <= 100:\n",
    "    print(\"No charge!!\")\n",
    "elif u>=101 and u <=200:\n",
    "    x = (u-100) * 5\n",
    "    print(x)\n",
    "elif u >= 201 :\n",
    "    y = 100 * 5 + (u-200) * 10\n",
    "    print(y)"
   ]
  },
  {
   "cell_type": "code",
   "execution_count": 21,
   "id": "1e2c3234",
   "metadata": {},
   "outputs": [
    {
     "name": "stdout",
     "output_type": "stream",
     "text": [
      "Enter any number to find its last digit: 12537567\n",
      "7\n"
     ]
    }
   ],
   "source": [
    "l = int(input(\"Enter any number to find its last digit: \"))\n",
    "\n",
    "m = l % 10\n",
    "\n",
    "print(m)"
   ]
  },
  {
   "cell_type": "code",
   "execution_count": 23,
   "id": "4f0478fd",
   "metadata": {},
   "outputs": [
    {
     "name": "stdout",
     "output_type": "stream",
     "text": [
      "Enter a number to see if the last digit is divisible by 3: 787\n",
      "Last digit is not divisible by 3\n"
     ]
    }
   ],
   "source": [
    "d = int(input(\"Enter a number to see if the last digit is divisible by 3: \"))\n",
    "\n",
    "f = d % 10\n",
    "\n",
    "if f % 3 == 0:\n",
    "    print(\"Last digit is divisible by 3\")\n",
    "else:\n",
    "    print(\"Last digit is not divisible by 3\")"
   ]
  },
  {
   "cell_type": "code",
   "execution_count": 25,
   "id": "71183034",
   "metadata": {},
   "outputs": [
    {
     "name": "stdout",
     "output_type": "stream",
     "text": [
      "Enter your marks to know the grade: 98\n",
      "Grade A\n"
     ]
    }
   ],
   "source": [
    "m = int(input(\"Enter your marks to know the grade: \"))\n",
    "\n",
    "if m > 90:\n",
    "    print(\"Grade A\")\n",
    "elif m > 80 and m <= 90:\n",
    "    print(\"Grade B\")\n",
    "elif m >= 60 and m <= 80:\n",
    "    print(\"Grade C\")\n",
    "else:\n",
    "    print(\"Grade D\")"
   ]
  },
  {
   "cell_type": "code",
   "execution_count": 27,
   "id": "af350e97",
   "metadata": {},
   "outputs": [
    {
     "name": "stdout",
     "output_type": "stream",
     "text": [
      "Enter the Cost Price of Bike: 320000\n",
      "Tax is 15%\n",
      "Amount to be paid total:  368000.0\n"
     ]
    }
   ],
   "source": [
    "p = int(input(\"Enter the Cost Price of Bike: \"))\n",
    "\n",
    "if p > 100000:\n",
    "    print(\"Tax is 15%\")\n",
    "    ap = p + p * 15/100\n",
    "elif p > 50000 and p <= 100000:\n",
    "    print(\"Tax is 10%\")\n",
    "    ap = p + p * 10/100\n",
    "elif p <= 50000:\n",
    "    print(\"Tax is 5%\")\n",
    "    ap = p + p * 5/100\n",
    "print(\"Amount to be paid total: \",ap)"
   ]
  },
  {
   "cell_type": "code",
   "execution_count": 29,
   "id": "fe471a59",
   "metadata": {},
   "outputs": [
    {
     "name": "stdout",
     "output_type": "stream",
     "text": [
      "Enter a year to find if it is a leap year: 2001\n",
      "2001 is not a Leap Year\n"
     ]
    }
   ],
   "source": [
    "y = int(input(\"Enter a year to find if it is a leap year: \"))\n",
    "\n",
    "if y % 4 == 0:\n",
    "    print(y,\"is a Leap Year\")\n",
    "else:\n",
    "    print(y,\"is not a Leap Year\")"
   ]
  },
  {
   "cell_type": "code",
   "execution_count": 39,
   "id": "fdc7b5b5",
   "metadata": {},
   "outputs": [
    {
     "name": "stdout",
     "output_type": "stream",
     "text": [
      "Enter a number to find its day from 1 to 7: 0\n",
      "Value out of range\n"
     ]
    }
   ],
   "source": [
    "i = int(input(\"Enter a number to find its day from 1 to 7: \"))\n",
    "\n",
    "d = {\n",
    "     1 : \"Sunday\",\n",
    "     2 : \"Monday\",\n",
    "     3 : \"Tuesday\",\n",
    "     4 : \"Wednesday\",\n",
    "     5 : \"Thursday\",\n",
    "     6 : \"Friday\",\n",
    "     7 : \"Saturday\"\n",
    "}\n",
    "if i not in range(1,8):\n",
    "     print(\"Value out of range\")\n",
    "\n",
    "else:\n",
    "      print(d[i])"
   ]
  },
  {
   "cell_type": "code",
   "execution_count": 40,
   "id": "63baaf25",
   "metadata": {},
   "outputs": [
    {
     "name": "stdout",
     "output_type": "stream",
     "text": [
      "Enter a number to find it's month: 5\n",
      "May\n"
     ]
    }
   ],
   "source": [
    "j = int(input(\"Enter a number to find it's month: \"))\n",
    "\n",
    "m = {\n",
    "        1 : \"January\",\n",
    "        2 : \"February\",\n",
    "        3 : \"March\",\n",
    "        4 : \"April\",\n",
    "        5 : \"May\",\n",
    "        6 : \"June\",\n",
    "        7 : \"July\",\n",
    "        8 : \"August\",\n",
    "        9 : \"September\",\n",
    "        10: \"October\",\n",
    "        11: \"November\",\n",
    "        12: \"December\"\n",
    "}\n",
    "\n",
    "if j not in range(1,13):\n",
    "    print(\"Out Of Range...\")\n",
    "else:\n",
    "    print(m[j])"
   ]
  },
  {
   "cell_type": "code",
   "execution_count": 41,
   "id": "f9498d9c",
   "metadata": {},
   "outputs": [],
   "source": [
    "#a statement is a complete unit of execution that typically performs some action. \n",
    "# Statements are the building blocks of a program and are written according to the syntax rules of the language."
   ]
  },
  {
   "cell_type": "code",
   "execution_count": 42,
   "id": "6afb6650",
   "metadata": {},
   "outputs": [
    {
     "name": "stdout",
     "output_type": "stream",
     "text": [
      "Condition is true\n"
     ]
    }
   ],
   "source": [
    "#A > B and C > D.\n",
    "A = 10\n",
    "B = 5\n",
    "C = 20\n",
    "D = 15\n",
    "\n",
    "if A > B and C > D:\n",
    "    print(\"Condition is true\")\n",
    "else:\n",
    "    print(\"Condition is false\")\n"
   ]
  },
  {
   "cell_type": "code",
   "execution_count": 45,
   "id": "d0017797",
   "metadata": {},
   "outputs": [
    {
     "name": "stdout",
     "output_type": "stream",
     "text": [
      "Enter a City to see its monument: agra\n",
      "Taj Mahal\n"
     ]
    }
   ],
   "source": [
    "c = str(input(\"Enter a City to see its monument: \"))\n",
    "\n",
    "if c == 'Delhi' or c == 'delhi' or c == 'DELHI':\n",
    "    print(\"Red Fort\")\n",
    "elif c == 'Jaipur' or c == 'jaipur' or c == 'JAIPUR':\n",
    "    print(\"Jal Mahal\")\n",
    "elif c == 'Agra' or c == 'agra' or c == 'AGRA':\n",
    "    print(\"Taj Mahal\")\n",
    "else:\n",
    "    print(\"City to be defined yet...\")"
   ]
  },
  {
   "cell_type": "code",
   "execution_count": 46,
   "id": "93ad666e",
   "metadata": {},
   "outputs": [
    {
     "name": "stdout",
     "output_type": "stream",
     "text": [
      "Hey Man!!\n"
     ]
    }
   ],
   "source": [
    "a = 9\n",
    "\n",
    "if a > 5  and a <= 10:\n",
    "    print(\"Hey Man!!\")\n",
    "else:\n",
    "    print(\"Thanks for making my Day..\")"
   ]
  },
  {
   "cell_type": "code",
   "execution_count": 52,
   "id": "dd2f9f9c",
   "metadata": {},
   "outputs": [
    {
     "name": "stdout",
     "output_type": "stream",
     "text": [
      "Enter a number to find if it has three digits or not : 6777\n",
      "Not a three digit Number\n"
     ]
    }
   ],
   "source": [
    "e = int(input(\"Enter a number to find if it has three digits or not : \"))\n",
    "\n",
    "if e >= 100 and e < 1000  :\n",
    "    print(\"Three digit Number\")\n",
    "else:\n",
    "    print(\"Not a three digit Number\")"
   ]
  },
  {
   "cell_type": "code",
   "execution_count": 53,
   "id": "6fb98d21",
   "metadata": {},
   "outputs": [
    {
     "name": "stdout",
     "output_type": "stream",
     "text": [
      "Enter Your Age: 16\n",
      "You cannot Vote\n"
     ]
    }
   ],
   "source": [
    "v = int(input(\"Enter Your Age: \"))\n",
    "\n",
    "if v > 18:\n",
    "    print(\"You can Vote\")\n",
    "else:\n",
    "    print(\"You cannot Vote\")"
   ]
  },
  {
   "cell_type": "code",
   "execution_count": 54,
   "id": "8e85da90",
   "metadata": {},
   "outputs": [
    {
     "name": "stdout",
     "output_type": "stream",
     "text": [
      "Enter Your Age to know if you are Senior Citizen: 45\n",
      "You are not a Senior Citizen\n"
     ]
    }
   ],
   "source": [
    "a = int(input(\"Enter Your Age to know if you are Senior Citizen: \"))\n",
    "\n",
    "if a > 50:\n",
    "    print(\"You are a Senior Citizen\")\n",
    "else:\n",
    "    print(\"You are not a Senior Citizen\")"
   ]
  },
  {
   "cell_type": "code",
   "execution_count": 56,
   "id": "9b84b232",
   "metadata": {},
   "outputs": [
    {
     "name": "stdout",
     "output_type": "stream",
     "text": [
      "1st number: 67\n",
      "2nd number: 78\n",
      "Lowest Number is  67\n"
     ]
    }
   ],
   "source": [
    "x = int(input('1st number: '))\n",
    "y = int(input('2nd number: '))\n",
    "\n",
    "if x > y:\n",
    "    print(\"Lowest Number is\",y)\n",
    "else:\n",
    "    print(\"Lowest Number is\",x)"
   ]
  },
  {
   "cell_type": "code",
   "execution_count": 58,
   "id": "1ce7a301",
   "metadata": {},
   "outputs": [
    {
     "name": "stdout",
     "output_type": "stream",
     "text": [
      "1st number: 567\n",
      "2nd number: 676\n",
      "Highest Number is 676\n"
     ]
    }
   ],
   "source": [
    "x = int(input('1st number: '))\n",
    "y = int(input('2nd number: '))\n",
    "\n",
    "if x < y:\n",
    "    print(\"Highest Number is\",y)\n",
    "else:\n",
    "    print(\"Highest Number is\",x)"
   ]
  },
  {
   "cell_type": "code",
   "execution_count": 59,
   "id": "00b00f19",
   "metadata": {},
   "outputs": [
    {
     "name": "stdout",
     "output_type": "stream",
     "text": [
      "Enter a number to see if it is positive or Negative: 7\n",
      "positive\n"
     ]
    }
   ],
   "source": [
    "n = int(input(\"Enter a number to see if it is positive or Negative: \"))\n",
    "\n",
    "if n > 0:\n",
    "    print(\"positive\")\n",
    "else:\n",
    "    print(\"negative\")"
   ]
  },
  {
   "cell_type": "code",
   "execution_count": 60,
   "id": "bc61a777",
   "metadata": {},
   "outputs": [
    {
     "name": "stdout",
     "output_type": "stream",
     "text": [
      "Enter a number to see if it is even or odd: -67\n",
      "Odd\n"
     ]
    }
   ],
   "source": [
    "n = int(input(\"Enter a number to see if it is even or odd: \"))\n",
    "\n",
    "if n % 2 == 0:\n",
    "    print(\"Even\")\n",
    "else:\n",
    "    print(\"Odd\")"
   ]
  },
  {
   "cell_type": "code",
   "execution_count": 62,
   "id": "77e463ef",
   "metadata": {},
   "outputs": [
    {
     "name": "stdout",
     "output_type": "stream",
     "text": [
      "Enter a number to see if it is divisible by 2 and 3: 216\n",
      "The number is divisible by 2 and 3..\n"
     ]
    }
   ],
   "source": [
    "d = int(input(\"Enter a number to see if it is divisible by 2 and 3: \"))\n",
    "\n",
    "if d % 2 == 0 and d % 3 == 0:\n",
    "    print(\"The number is divisible by 2 and 3..\")\n",
    "else:\n",
    "    print(\"The number is not divisible by 2 and 3..\")"
   ]
  },
  {
   "cell_type": "code",
   "execution_count": 64,
   "id": "0053c5af",
   "metadata": {},
   "outputs": [
    {
     "name": "stdout",
     "output_type": "stream",
     "text": [
      "1st number: 785\n",
      "2nd number: 894\n",
      "3rd number: 899\n",
      "Highest Number is 899\n"
     ]
    }
   ],
   "source": [
    "x = int(input('1st number: '))\n",
    "y = int(input('2nd number: '))\n",
    "z = int(input('3rd number: '))\n",
    "\n",
    "if y < x and z < x:\n",
    "    print(\"Highest Number is\",x)\n",
    "elif x < y and z < y:\n",
    "    print(\"Highest Number is\",y)\n",
    "else:\n",
    "    print(\"Highest Number is\",z)"
   ]
  },
  {
   "cell_type": "code",
   "execution_count": 65,
   "id": "97f26c18",
   "metadata": {},
   "outputs": [
    {
     "name": "stdout",
     "output_type": "stream",
     "text": [
      "Enter the temperature of the water: 123\n",
      "Water is boiled and evaporating\n"
     ]
    }
   ],
   "source": [
    "t = float(input(\"Enter the temperature of the water: \"))\n",
    "\n",
    "if t >= 100:\n",
    "    print(\"Water is boiled and evaporating\")\n",
    "else:\n",
    "    print(\"Yet to reach boiling point..\")"
   ]
  },
  {
   "cell_type": "code",
   "execution_count": 66,
   "id": "9cf29ab5",
   "metadata": {},
   "outputs": [],
   "source": [
    "#Algorithm is a graphical representation of steps"
   ]
  },
  {
   "cell_type": "code",
   "execution_count": 67,
   "id": "6c175f0e",
   "metadata": {},
   "outputs": [],
   "source": [
    "#Python has \"pass\" statement as empty statement \n"
   ]
  },
  {
   "cell_type": "code",
   "execution_count": 68,
   "id": "affc00aa",
   "metadata": {},
   "outputs": [],
   "source": [
    "#elif is the correct statement in Python"
   ]
  },
  {
   "cell_type": "code",
   "execution_count": 70,
   "id": "fbf9000e",
   "metadata": {},
   "outputs": [
    {
     "name": "stdout",
     "output_type": "stream",
     "text": [
      "Age of 1st Person: 7\n",
      "Age of 2nd Person: 6\n",
      "Age of 3rd Person: 5\n",
      "Age of 4th Person: 4\n",
      "D is the youngest\n"
     ]
    }
   ],
   "source": [
    "a = int(input(\"Age of 1st Person: \"))\n",
    "b = int(input(\"Age of 2nd Person: \"))\n",
    "c = int(input(\"Age of 3rd Person: \"))\n",
    "d = int(input(\"Age of 4th Person: \"))\n",
    "\n",
    "if a < b and a < c and a < d:\n",
    "    print(\"A is the youngest\")\n",
    "elif b < a and b < c and b < d:\n",
    "    print(\"B is the youngest\")\n",
    "elif c < a and c < b and c < d:\n",
    "    print(\"C is the youngest\")\n",
    "else:\n",
    "    print(\"D is the youngest\")"
   ]
  },
  {
   "cell_type": "code",
   "execution_count": 71,
   "id": "21ea5e22",
   "metadata": {},
   "outputs": [
    {
     "ename": "SyntaxError",
     "evalue": "invalid syntax (4074658127.py, line 2)",
     "output_type": "error",
     "traceback": [
      "\u001b[1;36m  File \u001b[1;32m\"C:\\Users\\santo\\AppData\\Local\\Temp\\ipykernel_20620\\4074658127.py\"\u001b[1;36m, line \u001b[1;32m2\u001b[0m\n\u001b[1;33m    else:\u001b[0m\n\u001b[1;37m    ^\u001b[0m\n\u001b[1;31mSyntaxError\u001b[0m\u001b[1;31m:\u001b[0m invalid syntax\n"
     ]
    }
   ],
   "source": [
    "#the else statement serves as a catch-all condition that executes when none of the preceding conditions (if or elif) \n",
    "#are true. Its purpose is to provide a default or fallback action when all other conditions fail to match.\n",
    "#else:\n",
    "    # Block of code to execute if none of the above conditions are true"
   ]
  },
  {
   "cell_type": "code",
   "execution_count": 72,
   "id": "88b75606",
   "metadata": {},
   "outputs": [
    {
     "name": "stdout",
     "output_type": "stream",
     "text": [
      "Age of 1st Person: 45\n",
      "Age of 2nd Person: 43\n",
      "Age of 3rd Person: 44\n",
      "Age of 4th Person: 42\n",
      "A is the oldest\n"
     ]
    }
   ],
   "source": [
    "a = int(input(\"Age of 1st Person: \"))\n",
    "b = int(input(\"Age of 2nd Person: \"))\n",
    "c = int(input(\"Age of 3rd Person: \"))\n",
    "d = int(input(\"Age of 4th Person: \"))\n",
    "\n",
    "if a > b and a > c and a > d:\n",
    "    print(\"A is the oldest\")\n",
    "elif b > a and b > c and b > d:\n",
    "    print(\"B is the oldest\")\n",
    "elif c > a and c > b and c > d:\n",
    "    print(\"A is the oldest\")\n",
    "else:\n",
    "    print(\"D is the oldest\")"
   ]
  },
  {
   "cell_type": "code",
   "execution_count": 78,
   "id": "9ea978e3",
   "metadata": {},
   "outputs": [
    {
     "name": "stdout",
     "output_type": "stream",
     "text": [
      "Enter a number to find if it is Prime or not: 89\n",
      "Prime\n"
     ]
    }
   ],
   "source": [
    "p = int(input(\"Enter a number to find if it is Prime or not: \"))\n",
    "c = 0\n",
    "\n",
    "for i in range(2,p):\n",
    "    if p % i == 0:\n",
    "        c =+ 1\n",
    "if c == 0:\n",
    "    print(\"Prime\")\n",
    "else:\n",
    "    print(\"Not Prime\")\n"
   ]
  },
  {
   "cell_type": "code",
   "execution_count": 85,
   "id": "55474547",
   "metadata": {},
   "outputs": [
    {
     "name": "stdout",
     "output_type": "stream",
     "text": [
      "Enter total number of days: 67\n",
      "Enter number of absent days: 3\n",
      "95.52238805970148\n",
      "You can write exams...\n"
     ]
    }
   ],
   "source": [
    "w = int(input(\"Enter total number of days: \"))\n",
    "a = int(input(\"Enter number of absent days: \"))\n",
    "\n",
    "p = (w-a)/w*100\n",
    "\n",
    "print(p)\n",
    "\n",
    "if p < 75:\n",
    "    print(\"Student will not be able to write the exam...\")\n",
    "else:\n",
    "    print(\"You can write exams...\")"
   ]
  },
  {
   "cell_type": "code",
   "execution_count": 89,
   "id": "f55b5286",
   "metadata": {},
   "outputs": [
    {
     "name": "stdout",
     "output_type": "stream",
     "text": [
      "Enter Your Percentage to know your grade: 88.1\n",
      "A+ Grade\n"
     ]
    }
   ],
   "source": [
    "p = float(input(\"Enter Your Percentage to know your grade: \"))\n",
    "\n",
    "if p < 25:\n",
    "    print(\"D Grade\")\n",
    "elif p >= 25 and p <= 44:\n",
    "    print(\"C Grade\")\n",
    "elif p >= 45 and p <= 49:\n",
    "    print(\"B Grade\")\n",
    "elif p >= 50 and p <= 59:\n",
    "    print(\"B+ Grade\")\n",
    "elif p >= 60 and p <= 79:\n",
    "    print(\"A Grade\")\n",
    "else:\n",
    "    print(\"A+ Grade\")"
   ]
  },
  {
   "cell_type": "code",
   "execution_count": 102,
   "id": "31d07586",
   "metadata": {},
   "outputs": [
    {
     "name": "stdout",
     "output_type": "stream",
     "text": [
      "Enter Your Time Period Of Service to know your bonus Percentage: 14\n",
      "Enter Your Salary: 160000\n",
      "10%\n",
      "That is 176000.0\n"
     ]
    }
   ],
   "source": [
    "e = float(input(\"Enter Your Time Period Of Service to know your bonus Percentage: \"))\n",
    "s = int(input(\"Enter Your Salary: \"))\n",
    "\n",
    "if e > 10:\n",
    "    print(\"10%\")\n",
    "    na = s + s * 10/100\n",
    "    print(\"That is\",na)\n",
    "elif e >= 6 and e <= 10:\n",
    "    print(\"8%\")\n",
    "    na = s + s * 8/100\n",
    "    print(\"That is\",na)\n",
    "elif e==1 and e < 6:\n",
    "    print(\"5%\")   \n",
    "    na = s + s * 5/100\n",
    "    print(\"That is\",na)\n",
    "else:\n",
    "    print(\"Not Eligible for Bonus\")"
   ]
  },
  {
   "cell_type": "code",
   "execution_count": 103,
   "id": "86bb737a",
   "metadata": {},
   "outputs": [
    {
     "name": "stdout",
     "output_type": "stream",
     "text": [
      "Enter the Marked Price: 5600\n",
      "10%\n",
      "Net Amount:  5040.0\n"
     ]
    }
   ],
   "source": [
    "m = int(input(\"Enter the Marked Price: \"))\n",
    "\n",
    "if m > 10000:\n",
    "    print(\"20%\")\n",
    "    na = m - m * 20/100\n",
    "    print(\"Net Amount: \",na)\n",
    "\n",
    "elif m >= 7001 and m <= 10000:\n",
    "    print(\"15%\")\n",
    "    na = m - m * 15/100\n",
    "    print(\"Net Amount: \",na)\n",
    "    \n",
    "elif m <=7000 :\n",
    "    print(\"10%\")\n",
    "    na = m - m * 10/100\n",
    "    print(\"Net Amount: \",na)\n",
    "\n",
    "else:\n",
    "    print(\"There is Nothing We Could Do\")\n"
   ]
  },
  {
   "cell_type": "code",
   "execution_count": 106,
   "id": "f54e8eb5",
   "metadata": {},
   "outputs": [
    {
     "name": "stdout",
     "output_type": "stream",
     "text": [
      "Enter Your Percentage to display Your Category: 56\n",
      "Good\n"
     ]
    }
   ],
   "source": [
    "p = float(input(\"Enter Your Percentage to display Your Category: \"))\n",
    "\n",
    "if p < 40:\n",
    "    print(\"Failed\")\n",
    "elif p >= 40 and p < 55:\n",
    "    print(\"Fair\")\n",
    "elif p >= 55 and p < 65:\n",
    "    print(\"Good\")\n",
    "elif p >= 65:\n",
    "    print(\"Excellent\")\n",
    "else:\n",
    "    print(\"Category not found\")"
   ]
  },
  {
   "cell_type": "code",
   "execution_count": 4,
   "id": "e72b0284",
   "metadata": {},
   "outputs": [
    {
     "name": "stdout",
     "output_type": "stream",
     "text": [
      "1st Side: 5.7\n",
      "2nd Side: 8.9\n",
      "3rd Side: 5.7\n",
      "An Isosceles Traingle\n"
     ]
    }
   ],
   "source": [
    "a = float(input(\"1st Side: \"))\n",
    "b = float(input(\"2nd Side: \"))\n",
    "c = float(input(\"3rd Side: \"))\n",
    "\n",
    "if a == b == c:\n",
    "    print(\"An Equilateral Traingle\")\n",
    "elif a == b != c or a != b == c or a == c != b:\n",
    "    print(\"An Isosceles Traingle\")\n",
    "else:\n",
    "    print(\"A Scalene Triangle\")"
   ]
  },
  {
   "cell_type": "code",
   "execution_count": 8,
   "id": "f68cab2c",
   "metadata": {},
   "outputs": [
    {
     "name": "stdout",
     "output_type": "stream",
     "text": [
      "1st Number: 4\n",
      "Operation(+,-,*,/,%,): -\n",
      "2nd Number: 9\n",
      "Subtraction: -5.0\n"
     ]
    }
   ],
   "source": [
    "n1 = float(input(\"1st Number: \"))\n",
    "o  = str(input(\"Operation(+,-,*,/,%,): \"))\n",
    "n2 = float(input(\"2nd Number: \"))\n",
    "\n",
    "\n",
    "if o == '+' :\n",
    "    print(\"Addition:\",n1+n2)\n",
    "elif o == '-' :\n",
    "    print(\"Subtraction:\",n1-n2)\n",
    "elif o == '*' :\n",
    "    print(\"Multiplication:\",n1*n2)\n",
    "elif o == '/' :\n",
    "    print(\"Division: \",n1/n2)\n",
    "elif o == '%' :\n",
    "    print(\"Modulus:\",n1%n2)\n",
    "else:\n",
    "    print(\"Entered operation or numbers are invalid\")"
   ]
  },
  {
   "cell_type": "code",
   "execution_count": 4,
   "id": "19fa4e84",
   "metadata": {},
   "outputs": [
    {
     "name": "stdout",
     "output_type": "stream",
     "text": [
      "Enter Your age: 20\n",
      "Enter Your Gender(m or f): m\n",
      "Number of days Worked: 15\n",
      "Wage per day is 700\n",
      "Your Wages for 15 days are 10500\n"
     ]
    }
   ],
   "source": [
    "a = int(input(\"Enter Your age: \"))\n",
    "if a < 18:\n",
    "    print(\"You are not eligible to work\")\n",
    "\n",
    "elif a >= 18 and a < 30:\n",
    "    g = str(input(\"Enter Your Gender(m or f): \"))\n",
    "    n = int(input(\"Number of days Worked: \"))\n",
    "\n",
    "    if g == 'm' or g == 'M':\n",
    "        print(\"Wage per day is 700\")\n",
    "        print(\"Your Wages for\",n,\"days are\",n*700)\n",
    "    if g == 'f' or g == 'F':\n",
    "        print(\"Wage per day is 750\")\n",
    "        print(\"Your Wages for\",n,\"days are\",n*750)\n",
    "elif a >= 30 and a <= 40:\n",
    "    g = str(input(\"Enter Your Gender(m or f): \"))\n",
    "    n = int(input(\"Number of days Worked: \"))\n",
    "\n",
    "    if g == 'm' or g == 'M':\n",
    "        print(\"Wage per day is 700\")\n",
    "        print(\"Your Wages for\",n,\"days are\",n*800)\n",
    "    if g == 'f' or g == 'F':\n",
    "        print(\"Wage per day is 750\")\n",
    "        print(\"Your Wages for\",n,\"days are\",n*850)\n",
    "else:\n",
    "    print(\"We could do nothing\")\n",
    "    print(\"Enter Appropriate Age\")"
   ]
  },
  {
   "cell_type": "code",
   "execution_count": 9,
   "id": "265bc767",
   "metadata": {},
   "outputs": [
    {
     "name": "stdout",
     "output_type": "stream",
     "text": [
      "1st Number:90929\n",
      "2nd Number:8239839\n",
      "3rd Number:623232\n",
      "Second Largest is 623232.0\n"
     ]
    }
   ],
   "source": [
    "x = float(input(\"1st Number:\"))\n",
    "y = float(input(\"2nd Number:\"))\n",
    "z = float(input(\"3rd Number:\"))\n",
    "\n",
    "if x < y and x > z or x < z and x > y:\n",
    "    print(\"Second Largest is\",x)\n",
    "elif y < x and y > z or y > x and y < z :\n",
    "    print(\"Second Largest is\",y)\n",
    "elif z < x and z > y or z > x and z < y:\n",
    "    print(\"Second Largest is\",z)\n"
   ]
  },
  {
   "cell_type": "code",
   "execution_count": 13,
   "id": "fa56cb25",
   "metadata": {},
   "outputs": [
    {
     "name": "stdout",
     "output_type": "stream",
     "text": [
      "1st Side:7\n",
      "2nd Side:2\n",
      "3rd Side:1\n",
      "Triangle is not Possible\n"
     ]
    }
   ],
   "source": [
    "a = float(input(\"1st Side:\"))\n",
    "b = float(input(\"2nd Side:\"))\n",
    "c = float(input(\"3rd Side:\"))\n",
    "\n",
    "if a + b > c and a + c > b and b + c > a:\n",
    "    print(\"Triangle is possible\")\n",
    "else:\n",
    "    print(\"Triangle is not Possible\")"
   ]
  },
  {
   "cell_type": "code",
   "execution_count": 15,
   "id": "665801c3",
   "metadata": {},
   "outputs": [
    {
     "name": "stdout",
     "output_type": "stream",
     "text": [
      "i= -2\n",
      "j= -5\n",
      "k= 9\n",
      "9 -5 9\n"
     ]
    }
   ],
   "source": [
    "i = int(input(\"i= \"))\n",
    "j = int(input(\"j= \"))\n",
    "k = int(input(\"k= \"))\n",
    "\n",
    "if i < j:\n",
    "    if j < k:\n",
    "        i = j\n",
    "    else:\n",
    "        j =k\n",
    "else:\n",
    "    if j > k:\n",
    "        j = i\n",
    "    else:\n",
    "        i = k\n",
    "print(i,j,k)"
   ]
  },
  {
   "cell_type": "code",
   "execution_count": 24,
   "id": "ea3bf7d0",
   "metadata": {},
   "outputs": [
    {
     "name": "stdout",
     "output_type": "stream",
     "text": [
      "Enter the units of Electricity Consumed: 500\n",
      "1400.0\n"
     ]
    }
   ],
   "source": [
    "e = float(input(\"Enter the units of Electricity Consumed: \"))\n",
    "\n",
    "if e <= 100:\n",
    "    print(\"Free\")\n",
    "elif e >= 101 and e <= 300:\n",
    "    c = (e - 100) * 2\n",
    "    print(c)\n",
    "elif e >= 300:\n",
    "    d = 200 * 2 + (e - 300) * 5\n",
    "    print(d)"
   ]
  },
  {
   "cell_type": "code",
   "execution_count": 54,
   "id": "c6d9a141",
   "metadata": {},
   "outputs": [
    {
     "name": "stdout",
     "output_type": "stream",
     "text": [
      "No of days in Library: 7\n",
      "16\n"
     ]
    }
   ],
   "source": [
    "d = int(input(\"No of days in Library: \"))\n",
    "\n",
    "if d <= 5:\n",
    "    j = d * 2\n",
    "    print(j)\n",
    "elif d >= 6 and d <= 10:\n",
    "    k = 5 * 2 + (d - 5)*3\n",
    "    print(k)\n",
    "elif d >= 11 and d <= 15:\n",
    "    l = 5 * 2 + 5 * 3 + (d - 10)*4\n",
    "    print(l)\n",
    "elif d > 15:\n",
    "    m = 5 * 2 + 5 * 3 + 5 * 4 + (d - 15)*5\n",
    "    print(m)\n",
    "else:\n",
    "    print(\"not found\")"
   ]
  },
  {
   "cell_type": "code",
   "execution_count": 55,
   "id": "296aeaed",
   "metadata": {},
   "outputs": [
    {
     "name": "stdout",
     "output_type": "stream",
     "text": [
      "Enter number of kilometers covered: 87.9\n",
      "889.0\n"
     ]
    }
   ],
   "source": [
    "# Q6. Accept the kilometers covered and calcualte the bill according to the following criteria:\n",
    "\n",
    "# First 10 km\t\tRs 11/km\n",
    "# Next 90 km\t\tRs 10/km\n",
    "# After that\t\tRs 9/km\n",
    "\n",
    "k = float(input(\"Enter number of kilometers covered: \"))\n",
    "\n",
    "if k <= 10:\n",
    "    c = 10 * k\n",
    "    print(c)\n",
    "elif k >= 11 and k <= 100:\n",
    "    c = 10 * 11 + (k - 10) * 10\n",
    "    print(c)\n",
    "elif k > 100:\n",
    "    c = 10 * 11 + 90 * 10 + (k - 100) * 9\n",
    "    print(c)\n",
    "else:\n",
    "    print(\"Could not Calculate\")"
   ]
  },
  {
   "cell_type": "code",
   "execution_count": 57,
   "id": "f5e72607",
   "metadata": {},
   "outputs": [
    {
     "name": "stdout",
     "output_type": "stream",
     "text": [
      "Enter marks of English: 97\n",
      "Enter marks of Maths: 99\n",
      "Enter marks of Science: 100\n",
      "Enter marks of Social Studies: 99\n",
      "Science Stream\n"
     ]
    }
   ],
   "source": [
    "# Q7. Accept the marks of English, Math and Science, Social Studies Subject and display the stream allotted according to following\n",
    "\n",
    "# All Subject more than 80 marks\t\t--\tScience Stream\n",
    "# English > 80 and Math, Science > 50\t--\tCommerce Stream\n",
    "# English > 80 and Social studies > 80\t--\tHumanities\n",
    "\n",
    "\n",
    "e  = int(input(\"Enter marks of English: \"))\n",
    "m  = int(input(\"Enter marks of Maths: \"))\n",
    "s  = int(input(\"Enter marks of Science: \"))\n",
    "ss = int(input(\"Enter marks of Social Studies: \"))\n",
    "\n",
    "if e > 80 and m > 80 and s > 80 and ss > 80:\n",
    "    print(\"Science Stream\")\n",
    "elif e > 80 and m > 80 and s > 50:\n",
    "    print(\"Commerce Stream\")\n",
    "elif e > 80 and ss > 80 :\n",
    "    print(\"Humanities\")\n",
    "else:\n",
    "    print(\"Not Found\")"
   ]
  },
  {
   "cell_type": "code",
   "execution_count": 61,
   "id": "f63992c5",
   "metadata": {},
   "outputs": [
    {
     "name": "stdout",
     "output_type": "stream",
     "text": [
      "1. True\n",
      "2. True\n",
      "3. False\n",
      "4. False\n",
      "5. False\n",
      "6. False\n",
      "7. True\n",
      "8. True\n",
      "9. True\n",
      "10. True\n",
      "11. True\n",
      "12. True\n",
      "13. True\n",
      "14. True\n",
      "15. True\n",
      "16. True\n",
      "17. True\n",
      "18. True\n",
      "19. False\n",
      "21. True\n",
      "22. False\n",
      "23. False\n",
      "24. False\n",
      "25. False\n",
      "26. True\n"
     ]
    }
   ],
   "source": [
    "#Evaluate the following statements:\n",
    "a = True\n",
    "b = True\n",
    "c = True\n",
    "d = True\n",
    "\n",
    "print(\"1.\",c)\n",
    "print(\"2.\",d)\n",
    "print(\"3.\",not a)\n",
    "print(\"4.\",not b)\n",
    "print(\"5.\",not c)\n",
    "print(\"6.\",not d)\n",
    "print(\"7.\",a and b)\n",
    "print(\"8.\",a or b)\n",
    "print(\"9.\",a and c)\n",
    "print(\"10.\",a or c)\n",
    "print(\"11.\",a and d)\n",
    "print(\"12.\",a or d)\n",
    "print(\"13.\",b and c)\n",
    "print(\"14.\",b or c)\n",
    "print(\"15.\",a and b or c) \n",
    "print(\"16.\",a or b and c ) \n",
    "print(\"17.\",a and b and c)\n",
    "print(\"18.\",a or b or c)\n",
    "print(\"19.\",not a and b and c)\n",
    "print(\"21.\",not a or b or c) \n",
    "print(\"22.\",not (a and b and c)) \n",
    "print(\"23.\",not (a or b or c))\n",
    "print(\"24.\",not a and not b and not c)\n",
    "print(\"25.\",not a or not b or not c) \n",
    "print(\"26.\",not (not a or not b or not c))"
   ]
  },
  {
   "cell_type": "code",
   "execution_count": null,
   "id": "3a9b5d1d",
   "metadata": {},
   "outputs": [],
   "source": []
  }
 ],
 "metadata": {
  "kernelspec": {
   "display_name": "Python 3 (ipykernel)",
   "language": "python",
   "name": "python3"
  },
  "language_info": {
   "codemirror_mode": {
    "name": "ipython",
    "version": 3
   },
   "file_extension": ".py",
   "mimetype": "text/x-python",
   "name": "python",
   "nbconvert_exporter": "python",
   "pygments_lexer": "ipython3",
   "version": "3.9.13"
  }
 },
 "nbformat": 4,
 "nbformat_minor": 5
}
