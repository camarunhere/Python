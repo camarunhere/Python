{
 "cells": [
  {
   "cell_type": "code",
   "execution_count": 4,
   "id": "1fac64cd",
   "metadata": {},
   "outputs": [
    {
     "name": "stdout",
     "output_type": "stream",
     "text": [
      "T\n",
      "T\n",
      "G\n",
      "G\n",
      "H\n",
      "H\n",
      "S\n",
      "S\n"
     ]
    }
   ],
   "source": [
    "I = \"Besant TECHNOLOGIES\"\n",
    "\n",
    "print(I[7])\n",
    "print(I[-12])\n",
    "print(I[15])\n",
    "print(I[-4])\n",
    "print(I[10])\n",
    "print(I[-9])\n",
    "print(I[18])\n",
    "print(I[-1])\n"
   ]
  },
  {
   "cell_type": "code",
   "execution_count": 25,
   "id": "695e95c9",
   "metadata": {},
   "outputs": [
    {
     "name": "stdout",
     "output_type": "stream",
     "text": [
      "43\n",
      "I\n",
      "AM\n",
      "LEARNING \n",
      "PYTHON\n",
      "AT \n",
      "Besant\n",
      "TECHNOLOGIES\n",
      "TECHNOLOGIES\n",
      "Besant\n",
      "AT\n",
      "PYTHON\n",
      "LEARNING\n",
      "AM\n",
      "I\n"
     ]
    }
   ],
   "source": [
    "s = \"I AM LEARNING PYTHON AT Besant TECHNOLOGIES\"\n",
    "print(len(s))\n",
    "print(s[0:1])\n",
    "print(s[2:4])\n",
    "print(s[5:14])\n",
    "print(s[14:20])\n",
    "print(s[21:24])\n",
    "print(s[24:30])\n",
    "print(s[31:43])\n",
    "print(s[-12:])\n",
    "print(s[-19:-13])\n",
    "print(s[-22:-20])\n",
    "print(s[-29:-23])\n",
    "print(s[-38:-30])\n",
    "print(s[-41:-39])\n",
    "print(s[-43])"
   ]
  },
  {
   "cell_type": "code",
   "execution_count": 49,
   "id": "2dd5afb2",
   "metadata": {},
   "outputs": [
    {
     "name": "stdout",
     "output_type": "stream",
     "text": [
      "PRACTICE\n",
      "MAKES\n",
      "MAN\n",
      "PERFECT\n",
      "TCEFREP\n",
      "SEKAM\n",
      "PATC AE A EFC\n",
      "TERPNMSKMEICR\n",
      "CFE A EA CTAP\n"
     ]
    }
   ],
   "source": [
    "q = \"PRACTICE MAKES MAN PERFECT\"\n",
    "print(q[0:8])\n",
    "print(q[9:14])\n",
    "print(q[15:18])\n",
    "print(q[19:26])\n",
    "print(q[-1:-8:-1])\n",
    "print(q[-13:-18:-1])\n",
    "print(q[::2])\n",
    "print(q[::-2])\n",
    "print(q[-2::-2])"
   ]
  },
  {
   "cell_type": "code",
   "execution_count": 52,
   "id": "232bbf27",
   "metadata": {},
   "outputs": [
    {
     "name": "stdout",
     "output_type": "stream",
     "text": [
      "1st number: 73\n",
      "2nd number: 23\n",
      "3rd number: 17\n",
      "Additon=  113\n",
      "Subtraction=  33\n",
      "Multiplication=  28543\n"
     ]
    }
   ],
   "source": [
    "a = int(input('1st number: '))\n",
    "b = int(input('2nd number: '))\n",
    "c = int(input('3rd number: '))\n",
    "\n",
    "add = a+b+c\n",
    "sub = a-b-c\n",
    "mul = a*b*c\n",
    "\n",
    "print(\"Additon= \",add)\n",
    "print(\"Subtraction= \",sub)\n",
    "print(\"Multiplication= \",mul)"
   ]
  },
  {
   "cell_type": "code",
   "execution_count": 53,
   "id": "288bf967",
   "metadata": {},
   "outputs": [
    {
     "name": "stdout",
     "output_type": "stream",
     "text": [
      "Principal: 70000\n",
      "Time: 4\n",
      "Rate: 5\n",
      "Simple Interest=  14000.0\n",
      "Total Amount=  84000.0\n"
     ]
    }
   ],
   "source": [
    "p = int(input('Principal: '))\n",
    "t = int(input('Time: '))\n",
    "r = int(input('Rate: '))\n",
    "\n",
    "SI = p*t*r/100\n",
    "A = p+SI\n",
    "\n",
    "print(\"Simple Interest= \",SI)\n",
    "print(\"Total Amount= \",A)"
   ]
  },
  {
   "cell_type": "code",
   "execution_count": 55,
   "id": "6bf03288",
   "metadata": {},
   "outputs": [
    {
     "name": "stdout",
     "output_type": "stream",
     "text": [
      "Length: 88\n",
      "Breadth: 13\n",
      "Perimeter of Rectangle= 202\n",
      "Area of Rectangle= 1144\n"
     ]
    }
   ],
   "source": [
    "l = int(input('Length: '))\n",
    "b = int(input('Breadth: '))\n",
    "\n",
    "p = 2*(l+b)\n",
    "a = l*b\n",
    "\n",
    "print(\"Perimeter of Rectangle=\",p)\n",
    "print(\"Area of Rectangle=\",a)\n"
   ]
  },
  {
   "cell_type": "code",
   "execution_count": 58,
   "id": "ef1ede77",
   "metadata": {},
   "outputs": [
    {
     "name": "stdout",
     "output_type": "stream",
     "text": [
      "Radius: 20\n",
      "Area of Circle=  1256.0\n"
     ]
    }
   ],
   "source": [
    "r = int(input('Radius: '))\n",
    "pi = 3.14\n",
    "\n",
    "a = pi*r**2\n",
    "\n",
    "print(\"Area of Circle= \",a)"
   ]
  },
  {
   "cell_type": "code",
   "execution_count": 60,
   "id": "db02ceb9",
   "metadata": {},
   "outputs": [
    {
     "name": "stdout",
     "output_type": "stream",
     "text": [
      "Concated string: BesantTECHNOLOGIES\n"
     ]
    }
   ],
   "source": [
    "s1 = \"Besant\"\n",
    "s2 = \"TECHNOLOGIES\"\n",
    "\n",
    "concat = s1+s2\n",
    "\n",
    "print(\"Concated string:\",concat)"
   ]
  },
  {
   "cell_type": "code",
   "execution_count": 62,
   "id": "e2fd6431",
   "metadata": {},
   "outputs": [
    {
     "name": "stdout",
     "output_type": "stream",
     "text": [
      "Concated string: tnaseBSEIGOLONHCET\n"
     ]
    }
   ],
   "source": [
    "s1 = \"Besant\"\n",
    "s2 = \"TECHNOLOGIES\"\n",
    "\n",
    "concat = s1[::-1]+s2[::-1]\n",
    "\n",
    "print(\"Concated string:\",concat)"
   ]
  },
  {
   "cell_type": "code",
   "execution_count": 66,
   "id": "533d2198",
   "metadata": {},
   "outputs": [
    {
     "name": "stdout",
     "output_type": "stream",
     "text": [
      "['ten', 'twenty', 'thirty', 'fourty']\n"
     ]
    }
   ],
   "source": [
    "n = [10,20,30,40]\n",
    "\n",
    "n[0] = 'ten'\n",
    "n[1] = 'twenty'\n",
    "n[2] = 'thirty'\n",
    "n[3] = 'fourty'\n",
    "print(n)"
   ]
  },
  {
   "cell_type": "code",
   "execution_count": 68,
   "id": "d7e6aa23",
   "metadata": {},
   "outputs": [
    {
     "name": "stdout",
     "output_type": "stream",
     "text": [
      "1\n",
      "name\n",
      "place\n",
      "course\n"
     ]
    }
   ],
   "source": [
    "d = [1,\"name\",\"place\",\"course\"]\n",
    "\n",
    "print(d[0])\n",
    "print(d[1])\n",
    "print(d[-2])\n",
    "print(d[-1])"
   ]
  },
  {
   "cell_type": "code",
   "execution_count": 71,
   "id": "8fe075b3",
   "metadata": {},
   "outputs": [
    {
     "name": "stdout",
     "output_type": "stream",
     "text": [
      "['english', 'mathematics', 'science']\n",
      "['mathematics', 'science', 'computers']\n",
      "['hindi', 'computers', 'science']\n"
     ]
    }
   ],
   "source": [
    "s = [\"english\",\"mathematics\",\"science\",\"computers\",\"hindi\"]\n",
    "\n",
    "print(s[0:3])\n",
    "print(s[1:4])\n",
    "print(s[-1:-4:-1])"
   ]
  },
  {
   "cell_type": "code",
   "execution_count": 90,
   "id": "9d5bdfc3",
   "metadata": {},
   "outputs": [
    {
     "name": "stdout",
     "output_type": "stream",
     "text": [
      "(10, 30, 50, 70, 90)\n",
      "(20, 40, 60, 80)\n",
      "(90, 70, 50, 30, 10)\n",
      "(80, 60, 40, 20)\n",
      "(20, 30, 40, 50)\n"
     ]
    },
    {
     "ename": "TypeError",
     "evalue": "'tuple' object does not support item assignment",
     "output_type": "error",
     "traceback": [
      "\u001b[1;31m---------------------------------------------------------------------------\u001b[0m",
      "\u001b[1;31mTypeError\u001b[0m                                 Traceback (most recent call last)",
      "\u001b[1;32m~\\AppData\\Local\\Temp\\ipykernel_14368\\2228299903.py\u001b[0m in \u001b[0;36m<module>\u001b[1;34m\u001b[0m\n\u001b[0;32m      6\u001b[0m \u001b[0mprint\u001b[0m\u001b[1;33m(\u001b[0m\u001b[0mn\u001b[0m\u001b[1;33m[\u001b[0m\u001b[1;33m-\u001b[0m\u001b[1;36m2\u001b[0m\u001b[1;33m:\u001b[0m\u001b[1;33m:\u001b[0m\u001b[1;33m-\u001b[0m\u001b[1;36m2\u001b[0m\u001b[1;33m]\u001b[0m\u001b[1;33m)\u001b[0m\u001b[1;33m\u001b[0m\u001b[1;33m\u001b[0m\u001b[0m\n\u001b[0;32m      7\u001b[0m \u001b[0mprint\u001b[0m\u001b[1;33m(\u001b[0m\u001b[0mn\u001b[0m\u001b[1;33m[\u001b[0m\u001b[1;36m1\u001b[0m\u001b[1;33m:\u001b[0m\u001b[1;36m5\u001b[0m\u001b[1;33m]\u001b[0m\u001b[1;33m)\u001b[0m\u001b[1;33m\u001b[0m\u001b[1;33m\u001b[0m\u001b[0m\n\u001b[1;32m----> 8\u001b[1;33m \u001b[0mn\u001b[0m\u001b[1;33m[\u001b[0m\u001b[1;36m1\u001b[0m\u001b[1;33m]\u001b[0m \u001b[1;33m=\u001b[0m \u001b[1;34m'twenty'\u001b[0m\u001b[1;33m\u001b[0m\u001b[1;33m\u001b[0m\u001b[0m\n\u001b[0m\u001b[0;32m      9\u001b[0m \u001b[0mprint\u001b[0m\u001b[1;33m(\u001b[0m\u001b[0mn\u001b[0m\u001b[1;33m)\u001b[0m\u001b[1;33m\u001b[0m\u001b[1;33m\u001b[0m\u001b[0m\n",
      "\u001b[1;31mTypeError\u001b[0m: 'tuple' object does not support item assignment"
     ]
    }
   ],
   "source": [
    "n = (10,20,30,40,50,60,70,80,90)\n",
    "\n",
    "print(n[0::2])\n",
    "print(n[1::2])\n",
    "print(n[::-2])\n",
    "print(n[-2::-2])\n",
    "print(n[1:5])\n",
    "n[1] = 'twenty'\n",
    "print(n)"
   ]
  },
  {
   "cell_type": "code",
   "execution_count": 99,
   "id": "0441aaf9",
   "metadata": {},
   "outputs": [
    {
     "name": "stdout",
     "output_type": "stream",
     "text": [
      "suresh\n",
      "hyderabad\n",
      "30\n",
      "thirty\n",
      "delhi\n",
      "ramesh\n",
      "twenty\n",
      "[['ramesh', 'suresh'], ['bangalore', 'hyderabad', 'delhi'], [10, 20, 30, ['ten', 'twenty', 'thirty']]]\n",
      "[['ramesh', 'vignesh'], ['bangalore', 'hyderabad', 'varanasi'], [10, 20, 30, ['ten', 'twenty', 'thirty']]]\n"
     ]
    }
   ],
   "source": [
    "d = [[\"ramesh\",\"suresh\"],\n",
    "    [\"bangalore\",\"hyderabad\",\"delhi\"],\n",
    "    [10,20,30,[\"ten\",\"twenty\",\"thirty\"]]]\n",
    "\n",
    "print(d[0][1])\n",
    "print(d[1][1])\n",
    "print(d[2][2])\n",
    "print(d[2][3][2])\n",
    "print(d[1][2])\n",
    "print(d[0][0])\n",
    "print(d[2][3][1])\n",
    "print(d)\n",
    "\n",
    "d[0][1] = \"vignesh\"\n",
    "d[1][2] =\"varanasi\"\n",
    "print(d)"
   ]
  },
  {
   "cell_type": "code",
   "execution_count": 100,
   "id": "e3a444c7",
   "metadata": {},
   "outputs": [
    {
     "name": "stdout",
     "output_type": "stream",
     "text": [
      "{'manish', 'vignesh', 'suresh', 'rajesh'}\n"
     ]
    }
   ],
   "source": [
    "s1 = {\"rajesh\",\"suresh\",\"vignesh\",\"manish\"}\n",
    "print(s1)"
   ]
  },
  {
   "cell_type": "code",
   "execution_count": 101,
   "id": "ff7659cb",
   "metadata": {},
   "outputs": [
    {
     "name": "stdout",
     "output_type": "stream",
     "text": [
      "6\n"
     ]
    }
   ],
   "source": [
    "n = {10,20,20,40,59,40,67,89,67}\n",
    "print(len(n))"
   ]
  },
  {
   "cell_type": "code",
   "execution_count": 103,
   "id": "a0a53db9",
   "metadata": {},
   "outputs": [
    {
     "ename": "TypeError",
     "evalue": "'type' object is not subscriptable",
     "output_type": "error",
     "traceback": [
      "\u001b[1;31m---------------------------------------------------------------------------\u001b[0m",
      "\u001b[1;31mTypeError\u001b[0m                                 Traceback (most recent call last)",
      "\u001b[1;32m~\\AppData\\Local\\Temp\\ipykernel_14368\\2782366703.py\u001b[0m in \u001b[0;36m<module>\u001b[1;34m\u001b[0m\n\u001b[0;32m      1\u001b[0m \u001b[0mI\u001b[0m \u001b[1;33m=\u001b[0m \u001b[1;34m\"Besant technologies\"\u001b[0m\u001b[1;33m\u001b[0m\u001b[1;33m\u001b[0m\u001b[0m\n\u001b[0;32m      2\u001b[0m \u001b[1;33m\u001b[0m\u001b[0m\n\u001b[1;32m----> 3\u001b[1;33m \u001b[0mset\u001b[0m \u001b[1;33m=\u001b[0m \u001b[0mstr\u001b[0m\u001b[1;33m[\u001b[0m\u001b[0mI\u001b[0m\u001b[1;33m]\u001b[0m\u001b[1;33m\u001b[0m\u001b[1;33m\u001b[0m\u001b[0m\n\u001b[0m\u001b[0;32m      4\u001b[0m \u001b[0mprint\u001b[0m\u001b[1;33m(\u001b[0m\u001b[0mset\u001b[0m\u001b[1;33m)\u001b[0m\u001b[1;33m\u001b[0m\u001b[1;33m\u001b[0m\u001b[0m\n",
      "\u001b[1;31mTypeError\u001b[0m: 'type' object is not subscriptable"
     ]
    }
   ],
   "source": [
    "I = \"Besant technologies\"\n",
    "\n",
    "set = str[I]\n",
    "print(set)\n"
   ]
  },
  {
   "cell_type": "code",
   "execution_count": 104,
   "id": "b3fe6009",
   "metadata": {},
   "outputs": [
    {
     "ename": "SyntaxError",
     "evalue": "invalid syntax (2199608526.py, line 1)",
     "output_type": "error",
     "traceback": [
      "\u001b[1;36m  File \u001b[1;32m\"C:\\Users\\santo\\AppData\\Local\\Temp\\ipykernel_14368\\2199608526.py\"\u001b[1;36m, line \u001b[1;32m1\u001b[0m\n\u001b[1;33m    My_stu =\u001b[0m\n\u001b[1;37m             ^\u001b[0m\n\u001b[1;31mSyntaxError\u001b[0m\u001b[1;31m:\u001b[0m invalid syntax\n"
     ]
    }
   ],
   "source": [
    "My_stu = "
   ]
  },
  {
   "cell_type": "code",
   "execution_count": 112,
   "id": "586c8e65",
   "metadata": {},
   "outputs": [
    {
     "name": "stdout",
     "output_type": "stream",
     "text": [
      "5\n",
      "10\n",
      "15\n",
      "20\n",
      "25\n",
      "30\n",
      "35\n",
      "40\n",
      "45\n",
      "50\n",
      "55\n",
      "60\n",
      "65\n",
      "70\n",
      "75\n",
      "80\n",
      "85\n",
      "90\n",
      "95\n",
      "100\n",
      "[5, 10, 15, 20, 25, 30, 35, 40, 45, 50, 55, 60, 65, 70, 75, 80, 85, 90, 95, 100]\n"
     ]
    }
   ],
   "source": [
    "for i in range(5,101,5):\n",
    "    print(i)\n",
    "    \n",
    "m_of_five = list(range(5,101,5))\n",
    "\n",
    "print(m_of_five)"
   ]
  },
  {
   "cell_type": "code",
   "execution_count": 113,
   "id": "beec756b",
   "metadata": {},
   "outputs": [
    {
     "name": "stdout",
     "output_type": "stream",
     "text": [
      "40\n",
      "36\n",
      "32\n",
      "28\n",
      "24\n",
      "20\n",
      "16\n",
      "12\n",
      "8\n",
      "4\n",
      "[40, 36, 32, 28, 24, 20, 16, 12, 8, 4]\n"
     ]
    }
   ],
   "source": [
    "for i in range(40,3,-4):\n",
    "    print(i)\n",
    "    \n",
    "f_table = list(range(40,3,-4))\n",
    "print(f_table)"
   ]
  },
  {
   "cell_type": "code",
   "execution_count": 118,
   "id": "897ac422",
   "metadata": {},
   "outputs": [
    {
     "name": "stdout",
     "output_type": "stream",
     "text": [
      "odd = [99, 97, 95, 93, 91, 89, 87, 85, 83, 81, 79, 77, 75, 73, 71, 69, 67, 65, 63, 61, 59, 57, 55, 53, 51, 49, 47, 45, 43, 41, 39, 37, 35, 33, 31, 29, 27, 25, 23, 21, 19, 17, 15, 13, 11]\n"
     ]
    }
   ],
   "source": [
    "odd = list(range(99,10,-2))\n",
    "print(\"odd =\",odd)"
   ]
  },
  {
   "cell_type": "code",
   "execution_count": 119,
   "id": "c4c6b9d6",
   "metadata": {},
   "outputs": [
    {
     "name": "stdout",
     "output_type": "stream",
     "text": [
      "[50, 48, 46, 44, 42, 40, 38, 36, 34, 32, 30, 28, 26, 24, 22, 20, 18, 16, 14, 12, 10, 8, 6, 4, 2]\n"
     ]
    }
   ],
   "source": [
    "even = list(range(50,1,-2))\n",
    "print(even)"
   ]
  },
  {
   "cell_type": "code",
   "execution_count": 124,
   "id": "988cbada",
   "metadata": {},
   "outputs": [
    {
     "name": "stdout",
     "output_type": "stream",
     "text": [
      "{'Trainers': 10, 'Students': 100, 'Course': 'python'}\n",
      "{'Trainers': 15, 'Students': 100, 'Course': 'python'}\n",
      "{'Trainers': 15, 'Students': 100, 'Course': 'python', 'place': 'Marathahalli'}\n"
     ]
    }
   ],
   "source": [
    "d1 = {\n",
    "    \"Trainers\": 10,\n",
    "    \"Students\": 100,\n",
    "    \"Course\"  : \"python\"\n",
    "}\n",
    "\n",
    "print(d1)\n",
    "d1[\"Trainers\"] = 15\n",
    "print(d1)\n",
    "d1[\"place\"] = \"Marathahalli\"\n",
    "print(d1)"
   ]
  },
  {
   "cell_type": "code",
   "execution_count": 127,
   "id": "33b609df",
   "metadata": {},
   "outputs": [
    {
     "name": "stdout",
     "output_type": "stream",
     "text": [
      "{'Year': 2022, 'Month': 'January', 'Day': 'Monday'}\n",
      "{'Year': 2022, 'Month': 'May', 'Day': 'Thursday', 'Date': '20/05/2022'}\n"
     ]
    }
   ],
   "source": [
    "d = {\n",
    "    \"Year\" : 2022,\n",
    "    \"Month\": \"January\",\n",
    "    \"Day\"  : \"Monday\"\n",
    "}\n",
    "print(d)\n",
    "d[\"Month\"] = \"May\"\n",
    "d[\"Day\"]   = \"Thursday\"\n",
    "d[\"Date\"]  = \"20/05/2022\"\n",
    "print(d)"
   ]
  },
  {
   "cell_type": "code",
   "execution_count": 138,
   "id": "967b2298",
   "metadata": {},
   "outputs": [
    {
     "name": "stdout",
     "output_type": "stream",
     "text": [
      "Enter the temperature to know how the weather is: 27\n",
      "Today is simple weather\n"
     ]
    }
   ],
   "source": [
    "w = int(input(\"Enter the temperature to know how the weather is: \"))\n",
    "if w<=0 or w==14:\n",
    "    print(\"Today is very cold\")\n",
    "elif w==15 or w<=34:\n",
    "    print(\"Today is simple weather\")\n",
    "elif w==35 or w<=45:\n",
    "    print(\"Today is very hot\")\n",
    "else:\n",
    "    print(\"Cannot Live in this weather\")"
   ]
  },
  {
   "cell_type": "code",
   "execution_count": 140,
   "id": "ca228ffe",
   "metadata": {},
   "outputs": [
    {
     "name": "stdout",
     "output_type": "stream",
     "text": [
      "Even if you are girl & Odd if you are a guy:7\n",
      "He is a guy\n"
     ]
    }
   ],
   "source": [
    "n = int(input(\"Even if you are girl & Odd if you are a guy:\"))\n",
    "if n%2==0:\n",
    "    print(\"She is a girl\")\n",
    "else:\n",
    "    print(\"He is a guy\")"
   ]
  },
  {
   "cell_type": "code",
   "execution_count": 143,
   "id": "cee85c02",
   "metadata": {},
   "outputs": [
    {
     "name": "stdout",
     "output_type": "stream",
     "text": [
      "Enter your age: 999\n",
      "You might be alien\n"
     ]
    }
   ],
   "source": [
    "a = int(input(\"Enter your age: \"))\n",
    "if a<0:\n",
    "    print(\"Take a birth 1st\")\n",
    "elif a==0 or a<=14:\n",
    "    print(\"You belong to kids\")\n",
    "elif a==15 or a<=60:\n",
    "    print(\"You are young\")\n",
    "elif a==60 or a<=100:\n",
    "    print(\"You are old\")\n",
    "else:\n",
    "    print(\"You might be alien\")"
   ]
  },
  {
   "cell_type": "code",
   "execution_count": 149,
   "id": "fdb99ad9",
   "metadata": {},
   "outputs": [
    {
     "name": "stdout",
     "output_type": "stream",
     "text": [
      "Enter your age:18\n",
      "Enter your gender:his\n",
      "Enter correct gender\n"
     ]
    }
   ],
   "source": [
    "a = int(input(\"Enter your age:\"))\n",
    "g = str(input(\"Enter your gender:\"))\n",
    "\n",
    "if g == \"Male\" or g == \"MALE\" or g == \"male\":\n",
    "    if a>=21:\n",
    "        print(\"You are eligible for marriage\")\n",
    "    else:\n",
    "        print(\"Grow up kid to get married\")\n",
    "elif g == \"Female\" or g == \"FEMALE\" or g == \"female\":\n",
    "    if a>=18:\n",
    "        print(\"You are eligible for marriage\")\n",
    "    else:\n",
    "        print(\"Grow up kiddo\")\n",
    "else:\n",
    "    print(\"Enter correct gender\")"
   ]
  },
  {
   "cell_type": "code",
   "execution_count": 154,
   "id": "f3a6c3ba",
   "metadata": {},
   "outputs": [
    {
     "name": "stdout",
     "output_type": "stream",
     "text": [
      "Enter any year to find if it a leap year or centurian leap year: 2001\n",
      "Normal Year\n"
     ]
    }
   ],
   "source": [
    "y = int(input(\"Enter any year to find if it a leap year or centurian leap year: \"))\n",
    "\n",
    "if y%4==0:\n",
    "    if y%400==0:\n",
    "        print(\"Centurian Leap year\")\n",
    "    else:\n",
    "        print(\"Leap year\")\n",
    "else : \n",
    "    print(\"Normal Year\")"
   ]
  },
  {
   "cell_type": "code",
   "execution_count": 159,
   "id": "7dde16b5",
   "metadata": {},
   "outputs": [
    {
     "name": "stdout",
     "output_type": "stream",
     "text": [
      "2\n",
      "4\n",
      "6\n",
      "8\n",
      "10\n",
      "12\n",
      "14\n",
      "16\n",
      "18\n",
      "20\n",
      "22\n",
      "24\n",
      "26\n",
      "28\n",
      "30\n",
      "32\n",
      "34\n",
      "36\n",
      "38\n",
      "40\n",
      "42\n",
      "44\n",
      "46\n",
      "48\n",
      "50\n",
      "52\n",
      "54\n",
      "56\n",
      "58\n",
      "60\n",
      "62\n",
      "64\n",
      "66\n",
      "68\n",
      "70\n",
      "72\n",
      "74\n",
      "76\n",
      "78\n",
      "80\n",
      "82\n",
      "84\n",
      "86\n",
      "88\n",
      "90\n",
      "92\n",
      "94\n",
      "96\n",
      "98\n",
      "100\n"
     ]
    }
   ],
   "source": [
    "x = 2\n",
    "\n",
    "while x < 101:\n",
    "    print(x)\n",
    "    x = x+2"
   ]
  },
  {
   "cell_type": "code",
   "execution_count": 160,
   "id": "94ce9337",
   "metadata": {},
   "outputs": [
    {
     "name": "stdout",
     "output_type": "stream",
     "text": [
      "1\n",
      "3\n",
      "5\n",
      "7\n",
      "9\n",
      "11\n",
      "13\n",
      "15\n",
      "17\n",
      "19\n",
      "21\n",
      "23\n",
      "25\n",
      "27\n",
      "29\n",
      "31\n",
      "33\n",
      "35\n",
      "37\n",
      "39\n",
      "41\n",
      "43\n",
      "45\n",
      "47\n",
      "49\n",
      "51\n",
      "53\n",
      "55\n",
      "57\n",
      "59\n",
      "61\n",
      "63\n",
      "65\n",
      "67\n",
      "69\n",
      "71\n",
      "73\n",
      "75\n",
      "77\n",
      "79\n",
      "81\n",
      "83\n",
      "85\n",
      "87\n",
      "89\n",
      "91\n",
      "93\n",
      "95\n",
      "97\n",
      "99\n"
     ]
    }
   ],
   "source": [
    "o = 1\n",
    "while o < 100:\n",
    "    print(o)\n",
    "    o = o+2"
   ]
  },
  {
   "cell_type": "code",
   "execution_count": 175,
   "id": "41a01b6b",
   "metadata": {},
   "outputs": [
    {
     "name": "stdout",
     "output_type": "stream",
     "text": [
      "A B C D E F G H I J K L M N O P Q R S T U V W X Y Z "
     ]
    }
   ],
   "source": [
    "start = ord('A')\n",
    "end = ord('Z')\n",
    "while start <= end:\n",
    "    print(chr(start), end= \" \")\n",
    "    start += 1  "
   ]
  },
  {
   "cell_type": "code",
   "execution_count": 177,
   "id": "a15f5c4a",
   "metadata": {},
   "outputs": [
    {
     "name": "stdout",
     "output_type": "stream",
     "text": [
      "z y x w v u t s r q p o n m l k j i h g f e d c b a "
     ]
    }
   ],
   "source": [
    "start = ord('z')\n",
    "end = ord('a')\n",
    "while start >=end:\n",
    "    print(chr(start), end = \" \")\n",
    "    start -=1"
   ]
  },
  {
   "cell_type": "code",
   "execution_count": 187,
   "id": "308039d2",
   "metadata": {},
   "outputs": [
    {
     "name": "stdout",
     "output_type": "stream",
     "text": [
      "5* 10 = 50\n",
      "5* 9 = 45\n",
      "5* 8 = 40\n",
      "5* 7 = 35\n",
      "5* 6 = 30\n",
      "5* 5 = 25\n",
      "5* 4 = 20\n",
      "5* 3 = 15\n",
      "5* 2 = 10\n",
      "5* 1 = 5\n"
     ]
    }
   ],
   "source": [
    "x = [0,5,10,15,20,25,30,35,40,45,50]\n",
    "\n",
    "i = len(x) - 1\n",
    "\n",
    "while i>=1:\n",
    "    print(\"5*\",i,\"=\",x[i])\n",
    "    i -= 1"
   ]
  },
  {
   "cell_type": "code",
   "execution_count": 195,
   "id": "21a4fce4",
   "metadata": {},
   "outputs": [
    {
     "name": "stdout",
     "output_type": "stream",
     "text": [
      "5* 0 = 0\n",
      "5* 1 = 5\n",
      "5* 2 = 10\n",
      "5* 3 = 15\n",
      "5* 4 = 20\n",
      "5* 5 = 25\n",
      "5* 6 = 30\n",
      "5* 7 = 35\n",
      "5* 8 = 40\n",
      "5* 9 = 45\n",
      "5* 10 = 50\n"
     ]
    }
   ],
   "source": [
    "x = [0,5,10,15,20,25,30,35,40,45,50]\n",
    "\n",
    "i = 0\n",
    "\n",
    "while i<len(x):\n",
    "    print(\"5*\",i,\"=\",x[i])\n",
    "    i += 1"
   ]
  },
  {
   "cell_type": "code",
   "execution_count": 198,
   "id": "04e13e19",
   "metadata": {},
   "outputs": [
    {
     "name": "stdout",
     "output_type": "stream",
     "text": [
      "10\n",
      "20\n",
      "30\n",
      "40\n"
     ]
    }
   ],
   "source": [
    "l = [10,20,30,40]\n",
    "\n",
    "i = 0\n",
    "\n",
    "while i<len(l):\n",
    "    print(l[i])\n",
    "    i += 1"
   ]
  },
  {
   "cell_type": "code",
   "execution_count": 203,
   "id": "9315d3ad",
   "metadata": {},
   "outputs": [
    {
     "name": "stdout",
     "output_type": "stream",
     "text": [
      "40\n",
      "30\n",
      "20\n",
      "10\n"
     ]
    }
   ],
   "source": [
    "t = (10,20,30,40)\n",
    "\n",
    "i = len(t)-1\n",
    "\n",
    "while i>=0:\n",
    "    print(t[i])\n",
    "    i -=1"
   ]
  },
  {
   "cell_type": "code",
   "execution_count": 207,
   "id": "8d2a469f",
   "metadata": {},
   "outputs": [
    {
     "name": "stdout",
     "output_type": "stream",
     "text": [
      "Enter a number: 988643456\n",
      "Number of digits in the input: 9\n"
     ]
    }
   ],
   "source": [
    "# Read a number from keyboard input\n",
    "num = input(\"Enter a number: \")\n",
    "\n",
    "# Initialize digit count to 0\n",
    "digit_count = 0\n",
    "\n",
    "# Iterate through each character in the input number\n",
    "for char in num:\n",
    "    # Check if the character is a digit\n",
    "    if char.isdigit():\n",
    "        digit_count += 1\n",
    "\n",
    "# Print the number of digits found\n",
    "print(\"Number of digits in the input:\", digit_count)\n"
   ]
  },
  {
   "cell_type": "code",
   "execution_count": 208,
   "id": "d4de4295",
   "metadata": {},
   "outputs": [
    {
     "name": "stdout",
     "output_type": "stream",
     "text": [
      "Enter any number to find number of digits in it: 234556677\n",
      "Number of digits in number are:  9\n"
     ]
    }
   ],
   "source": [
    "n = input(\"Enter any number to find number of digits in it: \")\n",
    "\n",
    "digit_count = 0\n",
    "\n",
    "for char in num:\n",
    "    if char.isdigit():\n",
    "        digit_count += 1\n",
    "print(\"Number of digits in number are: \",digit_count)"
   ]
  },
  {
   "cell_type": "code",
   "execution_count": 211,
   "id": "a10b2347",
   "metadata": {},
   "outputs": [
    {
     "name": "stdout",
     "output_type": "stream",
     "text": [
      "Enter any number to find it's factorial: 7\n",
      "5040\n"
     ]
    }
   ],
   "source": [
    "n = int(input(\"Enter any number to find it's factorial: \"))\n",
    "m = 1\n",
    "\n",
    "for i in range(1,n+1):\n",
    "    m = m*i\n",
    "print(m)"
   ]
  },
  {
   "cell_type": "code",
   "execution_count": 212,
   "id": "0a5f351e",
   "metadata": {},
   "outputs": [
    {
     "name": "stdout",
     "output_type": "stream",
     "text": [
      "[10, 11, 12, 13, 15, 14, 16, 18, 17, 19, 20]\n"
     ]
    }
   ],
   "source": [
    "e = [10,11,12,13,15,14,16,18,17,19,20]\n",
    "\n",
    "print(e)"
   ]
  },
  {
   "cell_type": "code",
   "execution_count": 218,
   "id": "0132911a",
   "metadata": {},
   "outputs": [
    {
     "name": "stdout",
     "output_type": "stream",
     "text": [
      "[10, 12, 15, 16, 17, 20]\n"
     ]
    }
   ],
   "source": [
    "print(e[0::2])"
   ]
  },
  {
   "cell_type": "code",
   "execution_count": 219,
   "id": "c59360c2",
   "metadata": {},
   "outputs": [
    {
     "name": "stdout",
     "output_type": "stream",
     "text": [
      "[11, 13, 14, 18, 19]\n"
     ]
    }
   ],
   "source": [
    "print(e[1::2])"
   ]
  },
  {
   "cell_type": "code",
   "execution_count": 226,
   "id": "e018b655",
   "metadata": {},
   "outputs": [
    {
     "name": "stdout",
     "output_type": "stream",
     "text": [
      "[20, 17, 16, 15, 12, 10]\n"
     ]
    }
   ],
   "source": [
    "print(e[-1::-2])"
   ]
  },
  {
   "cell_type": "code",
   "execution_count": 227,
   "id": "fd73cc84",
   "metadata": {},
   "outputs": [
    {
     "name": "stdout",
     "output_type": "stream",
     "text": [
      "[19, 18, 14, 13, 11]\n"
     ]
    }
   ],
   "source": [
    "print(e[-2::-2])"
   ]
  },
  {
   "cell_type": "code",
   "execution_count": 238,
   "id": "67d4ba59",
   "metadata": {},
   "outputs": [
    {
     "name": "stdout",
     "output_type": "stream",
     "text": [
      "10\n",
      "12\n",
      "14\n",
      "16\n",
      "18\n",
      "20\n"
     ]
    }
   ],
   "source": [
    "for i in e:\n",
    "    if i%2==0:\n",
    "        print(i)"
   ]
  },
  {
   "cell_type": "code",
   "execution_count": 237,
   "id": "06275137",
   "metadata": {},
   "outputs": [
    {
     "name": "stdout",
     "output_type": "stream",
     "text": [
      "11\n",
      "13\n",
      "15\n",
      "17\n",
      "19\n"
     ]
    }
   ],
   "source": [
    "for i in e:\n",
    "    if i%2!=0:\n",
    "        print(i)\n",
    "    "
   ]
  },
  {
   "cell_type": "code",
   "execution_count": 239,
   "id": "135fadb2",
   "metadata": {},
   "outputs": [
    {
     "name": "stdout",
     "output_type": "stream",
     "text": [
      "165\n"
     ]
    }
   ],
   "source": [
    "print(sum(e))"
   ]
  },
  {
   "cell_type": "code",
   "execution_count": 241,
   "id": "cb5196ad",
   "metadata": {},
   "outputs": [
    {
     "name": "stdout",
     "output_type": "stream",
     "text": [
      "Sum of all even numbers in list are: 90\n"
     ]
    }
   ],
   "source": [
    "es = sum(x for x in e if x%2 ==0)\n",
    "\n",
    "print(\"Sum of all even numbers in list are:\",es)"
   ]
  },
  {
   "cell_type": "code",
   "execution_count": 242,
   "id": "0e666ced",
   "metadata": {},
   "outputs": [
    {
     "name": "stdout",
     "output_type": "stream",
     "text": [
      "Sum of all odd numbers in list are: 75\n"
     ]
    }
   ],
   "source": [
    "os = sum(x for x in e if x%2 !=0)\n",
    "\n",
    "print(\"Sum of all odd numbers in list are:\",os)"
   ]
  },
  {
   "cell_type": "code",
   "execution_count": 246,
   "id": "3f61e328",
   "metadata": {},
   "outputs": [
    {
     "ename": "TypeError",
     "evalue": "list indices must be integers or slices, not list",
     "output_type": "error",
     "traceback": [
      "\u001b[1;31m---------------------------------------------------------------------------\u001b[0m",
      "\u001b[1;31mTypeError\u001b[0m                                 Traceback (most recent call last)",
      "\u001b[1;32m~\\AppData\\Local\\Temp\\ipykernel_14368\\2628296292.py\u001b[0m in \u001b[0;36m<module>\u001b[1;34m\u001b[0m\n\u001b[1;32m----> 1\u001b[1;33m \u001b[0mei\u001b[0m \u001b[1;33m=\u001b[0m \u001b[0msum\u001b[0m\u001b[1;33m(\u001b[0m\u001b[0mx\u001b[0m \u001b[1;32mfor\u001b[0m \u001b[0me\u001b[0m\u001b[1;33m[\u001b[0m\u001b[0mx\u001b[0m\u001b[1;33m]\u001b[0m \u001b[1;32min\u001b[0m \u001b[0me\u001b[0m \u001b[1;32mif\u001b[0m \u001b[0me\u001b[0m\u001b[1;33m[\u001b[0m\u001b[0mx\u001b[0m\u001b[1;33m]\u001b[0m\u001b[1;33m%\u001b[0m\u001b[1;36m2\u001b[0m \u001b[1;33m==\u001b[0m \u001b[1;36m0\u001b[0m \u001b[1;33m)\u001b[0m\u001b[1;33m\u001b[0m\u001b[1;33m\u001b[0m\u001b[0m\n\u001b[0m\u001b[0;32m      2\u001b[0m \u001b[0mprint\u001b[0m\u001b[1;33m(\u001b[0m\u001b[1;34m\"Sum of even indexed numbers are: \"\u001b[0m\u001b[1;33m,\u001b[0m\u001b[0mei\u001b[0m\u001b[1;33m)\u001b[0m\u001b[1;33m\u001b[0m\u001b[1;33m\u001b[0m\u001b[0m\n",
      "\u001b[1;32m~\\AppData\\Local\\Temp\\ipykernel_14368\\2628296292.py\u001b[0m in \u001b[0;36m<genexpr>\u001b[1;34m(.0)\u001b[0m\n\u001b[1;32m----> 1\u001b[1;33m \u001b[0mei\u001b[0m \u001b[1;33m=\u001b[0m \u001b[0msum\u001b[0m\u001b[1;33m(\u001b[0m\u001b[0mx\u001b[0m \u001b[1;32mfor\u001b[0m \u001b[0me\u001b[0m\u001b[1;33m[\u001b[0m\u001b[0mx\u001b[0m\u001b[1;33m]\u001b[0m \u001b[1;32min\u001b[0m \u001b[0me\u001b[0m \u001b[1;32mif\u001b[0m \u001b[0me\u001b[0m\u001b[1;33m[\u001b[0m\u001b[0mx\u001b[0m\u001b[1;33m]\u001b[0m\u001b[1;33m%\u001b[0m\u001b[1;36m2\u001b[0m \u001b[1;33m==\u001b[0m \u001b[1;36m0\u001b[0m \u001b[1;33m)\u001b[0m\u001b[1;33m\u001b[0m\u001b[1;33m\u001b[0m\u001b[0m\n\u001b[0m\u001b[0;32m      2\u001b[0m \u001b[0mprint\u001b[0m\u001b[1;33m(\u001b[0m\u001b[1;34m\"Sum of even indexed numbers are: \"\u001b[0m\u001b[1;33m,\u001b[0m\u001b[0mei\u001b[0m\u001b[1;33m)\u001b[0m\u001b[1;33m\u001b[0m\u001b[1;33m\u001b[0m\u001b[0m\n",
      "\u001b[1;31mTypeError\u001b[0m: list indices must be integers or slices, not list"
     ]
    }
   ],
   "source": [
    "ei = sum(x for e[x] in e if e[x]%2 == 0 )\n",
    "print(\"Sum of even indexed numbers are: \",ei)"
   ]
  },
  {
   "cell_type": "code",
   "execution_count": 247,
   "id": "deedf855",
   "metadata": {},
   "outputs": [
    {
     "name": "stdout",
     "output_type": "stream",
     "text": [
      "Sum of elements at even index positions: 90\n"
     ]
    }
   ],
   "source": [
    "# Define the list\n",
    "numbers = [10, 11, 12, 13, 15, 14, 16, 18, 17, 19, 20]\n",
    "\n",
    "# Initialize sum to 0\n",
    "sum_even_index = 0\n",
    "\n",
    "# Iterate over the list with indices\n",
    "for index in range(len(numbers)):\n",
    "    # Check if the index is even\n",
    "    if index % 2 == 0:\n",
    "        # Add the element at even index to sum\n",
    "        sum_even_index += numbers[index]\n",
    "\n",
    "# Print the sum of elements at even index positions\n",
    "print(\"Sum of elements at even index positions:\", sum_even_index)\n"
   ]
  },
  {
   "cell_type": "code",
   "execution_count": 248,
   "id": "38592e3e",
   "metadata": {},
   "outputs": [
    {
     "name": "stdout",
     "output_type": "stream",
     "text": [
      "Sum of elements at evn index positions: 90\n"
     ]
    }
   ],
   "source": [
    "s_e_i = 0\n",
    "for i in range(len(e)):\n",
    "    if i % 2 == 0:\n",
    "        s_e_i += e[i]\n",
    "print(\"Sum of elements at evn index positions:\",s_e_i)"
   ]
  },
  {
   "cell_type": "code",
   "execution_count": 1,
   "id": "944ac84a",
   "metadata": {},
   "outputs": [
    {
     "name": "stdout",
     "output_type": "stream",
     "text": [
      "Schools are opened\n"
     ]
    }
   ],
   "source": [
    "def school():\n",
    "    print(\"Schools are opened\")\n",
    "school()"
   ]
  },
  {
   "cell_type": "code",
   "execution_count": 3,
   "id": "6fe0f8e6",
   "metadata": {},
   "outputs": [
    {
     "name": "stdout",
     "output_type": "stream",
     "text": [
      "Welcome to the Course Python\n"
     ]
    }
   ],
   "source": [
    "def course(x):\n",
    "    print(\"Welcome to the Course\",x)\n",
    "course(\"Python\")"
   ]
  },
  {
   "cell_type": "code",
   "execution_count": 24,
   "id": "2ef34aa2",
   "metadata": {},
   "outputs": [
    {
     "ename": "TypeError",
     "evalue": "tuple() takes no keyword arguments",
     "output_type": "error",
     "traceback": [
      "\u001b[1;31m---------------------------------------------------------------------------\u001b[0m",
      "\u001b[1;31mTypeError\u001b[0m                                 Traceback (most recent call last)",
      "\u001b[1;32m~\\AppData\\Local\\Temp\\ipykernel_11948\\2073984775.py\u001b[0m in \u001b[0;36m<module>\u001b[1;34m\u001b[0m\n\u001b[0;32m      9\u001b[0m             \u001b[0ml\u001b[0m\u001b[1;33m=\u001b[0m \u001b[0mtuple\u001b[0m\u001b[1;33m(\u001b[0m\u001b[0mi\u001b[0m\u001b[1;33m,\u001b[0m\u001b[0mend\u001b[0m \u001b[1;33m=\u001b[0m \u001b[1;34m\",\"\u001b[0m\u001b[1;33m)\u001b[0m\u001b[1;33m\u001b[0m\u001b[1;33m\u001b[0m\u001b[0m\n\u001b[0;32m     10\u001b[0m             \u001b[0mprint\u001b[0m\u001b[1;33m(\u001b[0m\u001b[0ml\u001b[0m\u001b[1;33m)\u001b[0m\u001b[1;33m\u001b[0m\u001b[1;33m\u001b[0m\u001b[0m\n\u001b[1;32m---> 11\u001b[1;33m \u001b[0mf\u001b[0m\u001b[1;33m(\u001b[0m\u001b[1;36m10\u001b[0m\u001b[1;33m)\u001b[0m\u001b[1;33m\u001b[0m\u001b[1;33m\u001b[0m\u001b[0m\n\u001b[0m",
      "\u001b[1;32m~\\AppData\\Local\\Temp\\ipykernel_11948\\2073984775.py\u001b[0m in \u001b[0;36mf\u001b[1;34m(x)\u001b[0m\n\u001b[0;32m      7\u001b[0m     \u001b[1;32mfor\u001b[0m \u001b[0mi\u001b[0m \u001b[1;32min\u001b[0m \u001b[0mrange\u001b[0m\u001b[1;33m(\u001b[0m\u001b[1;36m0\u001b[0m\u001b[1;33m,\u001b[0m\u001b[0mx\u001b[0m\u001b[1;33m)\u001b[0m\u001b[1;33m:\u001b[0m\u001b[1;33m\u001b[0m\u001b[1;33m\u001b[0m\u001b[0m\n\u001b[0;32m      8\u001b[0m         \u001b[1;32mif\u001b[0m \u001b[0mi\u001b[0m\u001b[1;33m%\u001b[0m\u001b[1;36m2\u001b[0m \u001b[1;33m==\u001b[0m \u001b[1;36m0\u001b[0m\u001b[1;33m:\u001b[0m\u001b[1;33m\u001b[0m\u001b[1;33m\u001b[0m\u001b[0m\n\u001b[1;32m----> 9\u001b[1;33m             \u001b[0ml\u001b[0m\u001b[1;33m=\u001b[0m \u001b[0mtuple\u001b[0m\u001b[1;33m(\u001b[0m\u001b[0mi\u001b[0m\u001b[1;33m,\u001b[0m\u001b[0mend\u001b[0m \u001b[1;33m=\u001b[0m \u001b[1;34m\",\"\u001b[0m\u001b[1;33m)\u001b[0m\u001b[1;33m\u001b[0m\u001b[1;33m\u001b[0m\u001b[0m\n\u001b[0m\u001b[0;32m     10\u001b[0m             \u001b[0mprint\u001b[0m\u001b[1;33m(\u001b[0m\u001b[0ml\u001b[0m\u001b[1;33m)\u001b[0m\u001b[1;33m\u001b[0m\u001b[1;33m\u001b[0m\u001b[0m\n\u001b[0;32m     11\u001b[0m \u001b[0mf\u001b[0m\u001b[1;33m(\u001b[0m\u001b[1;36m10\u001b[0m\u001b[1;33m)\u001b[0m\u001b[1;33m\u001b[0m\u001b[1;33m\u001b[0m\u001b[0m\n",
      "\u001b[1;31mTypeError\u001b[0m: tuple() takes no keyword arguments"
     ]
    }
   ],
   "source": [
    "def e(x):\n",
    "    e = tuple(i for i in range(x) if i % 2 == 0)\n",
    "    return e\n",
    "e(10)\n",
    "\n",
    "def f(x):\n",
    "    for i in range(0,x):\n",
    "        if i%2 == 0:\n",
    "            l= tuple(i,end = \",\")\n",
    "            print(l)\n",
    "f(10)"
   ]
  },
  {
   "cell_type": "code",
   "execution_count": 16,
   "id": "bad903f2",
   "metadata": {},
   "outputs": [
    {
     "name": "stdout",
     "output_type": "stream",
     "text": [
      "(0, 2, 4, 6, 8)\n"
     ]
    }
   ],
   "source": [
    "def even_elements_tuple(x):\n",
    "    # Generate even elements in the range and store them in a tuple\n",
    "    even_elements = tuple(i for i in range(x) if i % 2 == 0)\n",
    "    return even_elements\n",
    "\n",
    "# Example usage:\n",
    "result = even_elements_tuple(10)\n",
    "print(result)  # Output: (0, 2, 4, 6, 8)\n",
    "\n"
   ]
  },
  {
   "cell_type": "code",
   "execution_count": 30,
   "id": "a25f3020",
   "metadata": {},
   "outputs": [
    {
     "data": {
      "text/plain": [
       "[1,\n",
       " 3,\n",
       " 5,\n",
       " 7,\n",
       " 9,\n",
       " 11,\n",
       " 13,\n",
       " 15,\n",
       " 17,\n",
       " 19,\n",
       " 21,\n",
       " 23,\n",
       " 25,\n",
       " 27,\n",
       " 29,\n",
       " 31,\n",
       " 33,\n",
       " 35,\n",
       " 37,\n",
       " 39,\n",
       " 41,\n",
       " 43,\n",
       " 45,\n",
       " 47,\n",
       " 49,\n",
       " 51,\n",
       " 53,\n",
       " 55,\n",
       " 57,\n",
       " 59,\n",
       " 61,\n",
       " 63,\n",
       " 65,\n",
       " 67,\n",
       " 69,\n",
       " 71,\n",
       " 73,\n",
       " 75,\n",
       " 77,\n",
       " 79,\n",
       " 81,\n",
       " 83,\n",
       " 85,\n",
       " 87,\n",
       " 89,\n",
       " 91,\n",
       " 93,\n",
       " 95,\n",
       " 97]"
      ]
     },
     "execution_count": 30,
     "metadata": {},
     "output_type": "execute_result"
    }
   ],
   "source": [
    "def o(y):\n",
    "    o = list(i for i in range(y) if i % 2 != 0)\n",
    "    return o\n",
    "o(99)"
   ]
  },
  {
   "cell_type": "code",
   "execution_count": 31,
   "id": "2545d1c7",
   "metadata": {},
   "outputs": [
    {
     "name": "stdout",
     "output_type": "stream",
     "text": [
      "Addition=  122\n",
      "Subtraction=  30\n",
      "Multiplication=  3496\n"
     ]
    }
   ],
   "source": [
    "def m(x,y):\n",
    "    add = x + y\n",
    "    sub = x - y\n",
    "    mul = x * y\n",
    "    print(\"Addition= \",add)\n",
    "    print(\"Subtraction= \",sub)\n",
    "    print(\"Multiplication= \",mul)\n",
    "m(76,46)"
   ]
  },
  {
   "cell_type": "code",
   "execution_count": 39,
   "id": "47a47fcb",
   "metadata": {},
   "outputs": [
    {
     "data": {
      "text/plain": [
       "[0, 1, 2, 3, 4, 5, 6, 7, 8, 9]"
      ]
     },
     "execution_count": 39,
     "metadata": {},
     "output_type": "execute_result"
    }
   ],
   "source": [
    "def n(x):\n",
    "    l = list(range(x)) \n",
    "    return l\n",
    "n(10)\n",
    "    "
   ]
  },
  {
   "cell_type": "code",
   "execution_count": 37,
   "id": "a8345181",
   "metadata": {},
   "outputs": [
    {
     "data": {
      "text/plain": [
       "[0,\n",
       " 1,\n",
       " 2,\n",
       " 3,\n",
       " 4,\n",
       " 5,\n",
       " 6,\n",
       " 7,\n",
       " 8,\n",
       " 9,\n",
       " 10,\n",
       " 11,\n",
       " 12,\n",
       " 13,\n",
       " 14,\n",
       " 15,\n",
       " 16,\n",
       " 17,\n",
       " 18,\n",
       " 19,\n",
       " 20,\n",
       " 21,\n",
       " 22,\n",
       " 23,\n",
       " 24,\n",
       " 25,\n",
       " 26,\n",
       " 27,\n",
       " 28,\n",
       " 29,\n",
       " 30,\n",
       " 31,\n",
       " 32,\n",
       " 33,\n",
       " 34,\n",
       " 35,\n",
       " 36,\n",
       " 37,\n",
       " 38,\n",
       " 39,\n",
       " 40,\n",
       " 41,\n",
       " 42,\n",
       " 43,\n",
       " 44,\n",
       " 45,\n",
       " 46,\n",
       " 47,\n",
       " 48,\n",
       " 49,\n",
       " 50,\n",
       " 51,\n",
       " 52,\n",
       " 53,\n",
       " 54,\n",
       " 55,\n",
       " 56,\n",
       " 57,\n",
       " 58,\n",
       " 59,\n",
       " 60,\n",
       " 61,\n",
       " 62,\n",
       " 63,\n",
       " 64,\n",
       " 65,\n",
       " 66,\n",
       " 67,\n",
       " 68,\n",
       " 69,\n",
       " 70,\n",
       " 71,\n",
       " 72,\n",
       " 73,\n",
       " 74,\n",
       " 75,\n",
       " 76,\n",
       " 77,\n",
       " 78,\n",
       " 79,\n",
       " 80,\n",
       " 81,\n",
       " 82,\n",
       " 83,\n",
       " 84,\n",
       " 85,\n",
       " 86,\n",
       " 87,\n",
       " 88,\n",
       " 89,\n",
       " 90,\n",
       " 91,\n",
       " 92,\n",
       " 93,\n",
       " 94,\n",
       " 95,\n",
       " 96,\n",
       " 97,\n",
       " 98]"
      ]
     },
     "execution_count": 37,
     "metadata": {},
     "output_type": "execute_result"
    }
   ],
   "source": [
    "def o(y):\n",
    "    o = list(i for i in range(y) if i % 1 == 0)\n",
    "    return o\n",
    "o(99)"
   ]
  },
  {
   "cell_type": "code",
   "execution_count": 40,
   "id": "ba6ed99f",
   "metadata": {},
   "outputs": [
    {
     "data": {
      "text/plain": [
       "'BesantTECHNOLOGIES'"
      ]
     },
     "execution_count": 40,
     "metadata": {},
     "output_type": "execute_result"
    }
   ],
   "source": [
    "def s(x,y):\n",
    "    c = x + y\n",
    "    return c\n",
    "s(\"Besant\",\"TECHNOLOGIES\")"
   ]
  },
  {
   "cell_type": "code",
   "execution_count": 45,
   "id": "c19345bb",
   "metadata": {},
   "outputs": [
    {
     "name": "stdout",
     "output_type": "stream",
     "text": [
      "Sum = 437\n"
     ]
    }
   ],
   "source": [
    "def p(x,y,z):\n",
    "    a = x+y+z\n",
    "    return a\n",
    "print(\"Sum =\",p(179,131,127))"
   ]
  },
  {
   "cell_type": "code",
   "execution_count": 51,
   "id": "657555ea",
   "metadata": {},
   "outputs": [
    {
     "data": {
      "text/plain": [
       "165"
      ]
     },
     "execution_count": 51,
     "metadata": {},
     "output_type": "execute_result"
    }
   ],
   "source": [
    "def b(a,c,b):\n",
    "    s = a+b+c\n",
    "    return s\n",
    "b(19,29,b=117)"
   ]
  },
  {
   "cell_type": "code",
   "execution_count": 54,
   "id": "bfbb27e9",
   "metadata": {},
   "outputs": [
    {
     "name": "stdout",
     "output_type": "stream",
     "text": [
      "Arun 23 Puttur\n"
     ]
    }
   ],
   "source": [
    "def d(name,age,place=\"Uzumaki\"):\n",
    "    print(name,age,place)\n",
    "d(\"Arun\",23,\"Puttur\")"
   ]
  },
  {
   "cell_type": "code",
   "execution_count": 73,
   "id": "ab5aef65",
   "metadata": {},
   "outputs": [
    {
     "name": "stdout",
     "output_type": "stream",
     "text": [
      "Patient_Name = Ramana\n",
      "Blood_group = O+\n",
      "Suffering_of = (Diabetes)(Cholestral)\n",
      "Email_id = ranhes@gmail.com\n"
     ]
    }
   ],
   "source": [
    "def p(**x):\n",
    "    for k,v in x.items():\n",
    "        print(k,\"=\",v)\n",
    "p(Patient_Name =\"Ramana\",Blood_group = \"O+\",Suffering_of = \"(Diabetes)\" \"(Cholestral)\", Email_id = \"ranhes@gmail.com\" )"
   ]
  },
  {
   "cell_type": "code",
   "execution_count": 71,
   "id": "9b46c76e",
   "metadata": {},
   "outputs": [
    {
     "name": "stdout",
     "output_type": "stream",
     "text": [
      "Patient_Name = Rajnath\n",
      "Bloodgroup = A+\n",
      "Suffering_from = (Diabetes)(Cholestrol)(Asthma)\n",
      "Email_id = random@gmail.com\n"
     ]
    }
   ],
   "source": [
    "def f1(**d):\n",
    "    for k,v in d.items( ):\n",
    "        print(k,'=',v)\n",
    "f1(Patient_Name = 'Rajnath', Bloodgroup = 'A+', Suffering_from = '(Diabetes)' '(Cholestrol)' '(Asthma)', Email_id = 'random@gmail.com')"
   ]
  },
  {
   "cell_type": "code",
   "execution_count": 74,
   "id": "007f33ca",
   "metadata": {},
   "outputs": [
    {
     "name": "stdout",
     "output_type": "stream",
     "text": [
      "('Cameroon', 'camerooncreations@gmail.com', '126,Gulmohar Enclave Road,Silver Springs Layout')\n"
     ]
    }
   ],
   "source": [
    "def f(*x):\n",
    "    print(x)\n",
    "f(\"Cameroon\",\"camerooncreations@gmail.com\",\"126,Gulmohar Enclave Road,Silver Springs Layout\")"
   ]
  },
  {
   "cell_type": "code",
   "execution_count": null,
   "id": "2a87f71a",
   "metadata": {},
   "outputs": [],
   "source": [
    "# Initialize an empty list\n",
    "my_list = []\n",
    "\n",
    "# Read and store 10 elements from keyboard\n",
    "for i in range(10):\n",
    "    element = input(f\"Enter element {i+1}: \")\n",
    "    my_list.append(element)\n",
    "\n",
    "# Print all list elements\n",
    "print(\"List elements:\", my_list)\n",
    "\n",
    "# Ask user to enter a position and element to insert before that position\n",
    "try:\n",
    "    position = int(input(\"Enter position to insert (0 to {}): \".format(len(my_list))))\n",
    "    element = input(\"Enter element to insert: \")\n",
    "    my_list.insert(position, element)\n",
    "    print(\"List after insertion:\", my_list)\n",
    "except ValueError:\n",
    "    print(\"Invalid input for position. Please enter a valid integer.\")\n",
    "\n",
    "# Ask user to enter an element to delete from list\n",
    "element_to_delete = input(\"Enter element to delete from list: \")\n",
    "if element_to_delete in my_list:\n",
    "    my_list.remove(element_to_delete)\n",
    "    print(\"List after deletion of '{}' element: {}\".format(element_to_delete, my_list))\n",
    "else:\n",
    "    print(\"'{}' not found in the list.\".format(element_to_delete))\n",
    "\n",
    "# Ask user to enter a position to delete from list\n",
    "try:\n",
    "    position_to_delete = int(input(\"Enter position to delete (0 to {}): \".format(len(my_list)-1)))\n",
    "    if 0 <= position_to_delete < len(my_list):\n",
    "        del my_list[position_to_delete]\n",
    "        print(\"List after deletion at position {}: {}\".format(position_to_delete, my_list))\n",
    "    else:\n",
    "        print(\"Invalid position. Please enter a valid position.\")\n",
    "except ValueError:\n",
    "    print(\"Invalid input for position. Please enter a valid integer.\")\n",
    "\n",
    "# Ask user to enter an element and print its position if available, else print -1\n",
    "element_to_find = input(\"Enter element to find its position: \")\n",
    "if element_to_find in my_list:\n",
    "    position = my_list.index(element_to_find)\n",
    "    print(\"Position of '{}' in the list: {}\".format(element_to_find, position))\n",
    "else:\n",
    "    print(\"Element '{}' not found in the list. Position: -1\".format(element_to_find))\n"
   ]
  },
  {
   "cell_type": "code",
   "execution_count": 1,
   "id": "84de8369",
   "metadata": {},
   "outputs": [
    {
     "name": "stdout",
     "output_type": "stream",
     "text": [
      "[10, 20, 30, 40]\n"
     ]
    }
   ],
   "source": [
    "x = [('a',10), ('r',20), ('u',30), ('n',40)]\n",
    "print([t[1] for t in x])"
   ]
  },
  {
   "cell_type": "code",
   "execution_count": 5,
   "id": "30cdde9d",
   "metadata": {},
   "outputs": [
    {
     "name": "stdout",
     "output_type": "stream",
     "text": [
      "[('a', 11), ('b', 22), ('c', 33), ('d', 44)]\n"
     ]
    }
   ],
   "source": [
    "x = ['a','b','c','d']\n",
    "y = [11,22,33,44]\n",
    "l = list(zip(x, y))\n",
    "print(l)"
   ]
  },
  {
   "cell_type": "code",
   "execution_count": 6,
   "id": "4c7d29b0",
   "metadata": {},
   "outputs": [
    {
     "name": "stdout",
     "output_type": "stream",
     "text": [
      "{'a': 11, 'b': 22, 'c': 33, 'd': 44}\n"
     ]
    }
   ],
   "source": [
    "x = ['a','b','c','d']\n",
    "y = [11,22,33,44]\n",
    "d = {key : value for key, value in zip(x,y)}\n",
    "print(d)"
   ]
  },
  {
   "cell_type": "code",
   "execution_count": 7,
   "id": "a96a7c4d",
   "metadata": {},
   "outputs": [
    {
     "name": "stdout",
     "output_type": "stream",
     "text": [
      "Word Scores are:  {'hi': 2, 'python': 3, 'we': 2, 'write': 1, 'say': 1}\n"
     ]
    }
   ],
   "source": [
    "x = ['hi','python','we','write','python','we','say','hi','python']\n",
    "w_s = {}\n",
    "for i in x:\n",
    "    if i in w_s:\n",
    "        w_s[i] += 1\n",
    "    else:\n",
    "        w_s[i] = 1\n",
    "print(\"Word Scores are: \",w_s)"
   ]
  },
  {
   "cell_type": "code",
   "execution_count": 8,
   "id": "5de4d1d8",
   "metadata": {},
   "outputs": [
    {
     "name": "stdout",
     "output_type": "stream",
     "text": [
      "['good', 'bad', 'good']\n",
      "2\n",
      "1\n",
      "Sentiment : Positive\n"
     ]
    }
   ],
   "source": [
    "x = [('hi','noun'),('good','adj'),('run','verb'),('bad','adj'),('good','adj')]\n",
    "y = []\n",
    "\n",
    "for i in x:\n",
    "    if i[1] == 'adj':\n",
    "        y.append(i[0])\n",
    "print(y)\n",
    "\n",
    "good_count = 0\n",
    "bad_count = 0\n",
    "\n",
    "for i in y:\n",
    "    if i == 'good':\n",
    "        good_count += 1\n",
    "    else:\n",
    "        bad_count += 1\n",
    "print(good_count)\n",
    "print(bad_count)\n",
    "\n",
    "if good_count > bad_count:\n",
    "    print(\"Sentiment : Positive\")\n",
    "elif good_count < bad_count:\n",
    "    print(\"Sentiment : Negative\")\n",
    "else:\n",
    "    print(\"Sentiment : Neutral\")\n"
   ]
  },
  {
   "cell_type": "code",
   "execution_count": 11,
   "id": "b377ca67",
   "metadata": {},
   "outputs": [
    {
     "name": "stdout",
     "output_type": "stream",
     "text": [
      "['good', 'bad', 'good']\n",
      "2\n",
      "1\n",
      "Sentiment is Positive\n"
     ]
    }
   ],
   "source": [
    "x = [('hi','noun'),('good','adj'),('run','verb'),('bad','adj'),('good','adj')]\n",
    "y = []\n",
    "\n",
    "for i in x:\n",
    "    if i[1] == 'adj':\n",
    "        y.append(i[0])\n",
    "print(y)\n",
    "\n",
    "g_c = 0\n",
    "b_c = 0\n",
    "\n",
    "for i in y:\n",
    "    if i == 'good':\n",
    "        g_c += 1\n",
    "    else:\n",
    "        b_c += 1\n",
    "print(g_c)\n",
    "print(b_c)\n",
    "\n",
    "if g_c > b_c:\n",
    "    print(\"Sentiment is Positive\")\n",
    "elif g_c < b_c:\n",
    "    print(\"Sentiment is Negative\")\n",
    "else:\n",
    "    print(\"Sentiment is Neutral\")"
   ]
  },
  {
   "cell_type": "code",
   "execution_count": 17,
   "id": "a1af8da4",
   "metadata": {},
   "outputs": [
    {
     "name": "stdout",
     "output_type": "stream",
     "text": [
      "Schools will start at 8am  in the morning\n",
      "Schools will be closed at 3pm in the afternoon\n"
     ]
    }
   ],
   "source": [
    "class School():\n",
    "    Open = \"Schools will start at 8am  in the morning\"\n",
    "    Close  = \"Schools will be closed at 3pm in the afternoon\"\n",
    "s = School()\n",
    "print(s.Open)\n",
    "print(s.Close)"
   ]
  },
  {
   "cell_type": "code",
   "execution_count": 20,
   "id": "942fc5ae",
   "metadata": {},
   "outputs": [
    {
     "name": "stdout",
     "output_type": "stream",
     "text": [
      "Students take admission into College\n",
      "Students will complete their course\n"
     ]
    }
   ],
   "source": [
    "class College:\n",
    "    take     = \"Students take admission into College\"\n",
    "    complete = \"Students will complete their course\"\n",
    "c = College()\n",
    "print(c.take)\n",
    "print(c.complete)"
   ]
  },
  {
   "cell_type": "code",
   "execution_count": 23,
   "id": "b8f01f52",
   "metadata": {},
   "outputs": [
    {
     "name": "stdout",
     "output_type": "stream",
     "text": [
      "Institute will provide Coaching for you\n",
      "Institute will place you as a python developer\n"
     ]
    }
   ],
   "source": [
    "class institute:\n",
    "    coach = \"Institute will provide Coaching for you\"\n",
    "    place = \"Institute will place you as a python developer\"\n",
    "i = institute()\n",
    "print(i.coach)\n",
    "print(i.place)"
   ]
  },
  {
   "cell_type": "code",
   "execution_count": 24,
   "id": "971f4450",
   "metadata": {},
   "outputs": [
    {
     "name": "stdout",
     "output_type": "stream",
     "text": [
      "Doctor checks the patient\n",
      "Doctor prescribes the Medicines\n"
     ]
    }
   ],
   "source": [
    "class Doctor:\n",
    "    check = \"Doctor checks the patient\"\n",
    "    give  = \"Doctor prescribes the Medicines\"\n",
    "d = Doctor()\n",
    "print(d.check)\n",
    "print(d.give)"
   ]
  },
  {
   "cell_type": "code",
   "execution_count": 40,
   "id": "cb9c82e7",
   "metadata": {},
   "outputs": [
    {
     "name": "stdout",
     "output_type": "stream",
     "text": [
      "We train you to become best\n",
      "Give us a chance to make you learn\n",
      "We offer you for best price\n",
      "If your percentage is good there will be discount\n",
      "As soon as you learn things you can attend interviews\n",
      "If your skill is explicit.You will be placed\n",
      "Refer people to us if you are placed\n",
      "Hope your experience with us is great\n"
     ]
    }
   ],
   "source": [
    "class TD:\n",
    "    def m1(self):\n",
    "        print(\"We train you to become best\")\n",
    "    def m2(self):\n",
    "        print(\"Give us a chance to make you learn\")\n",
    "class SD:\n",
    "    def m3(self):\n",
    "        print(\"We offer you for best price\")\n",
    "    def m4(self):\n",
    "        print(\"If your percentage is good there will be discount\")\n",
    "class HD:\n",
    "    def m5(self):\n",
    "        print(\"As soon as you learn things you can attend interviews\")\n",
    "    def m6(self):\n",
    "        print(\"If your skill is explicit.You will be placed\")\n",
    "class MD:\n",
    "    def m7(self):\n",
    "        print(\"Refer people to us if you are placed\")\n",
    "    def m8(self):\n",
    "        print(\"Hope your experience with us is great\")\n",
    "o1 = TD()\n",
    "o2 = SD()\n",
    "o3 = HD()\n",
    "o4 = MD()\n",
    "o1.m1()\n",
    "o1.m2()\n",
    "o2.m3()\n",
    "o2.m4()\n",
    "o3.m5()\n",
    "o3.m6()\n",
    "o4.m7()\n",
    "o4.m8()"
   ]
  },
  {
   "cell_type": "code",
   "execution_count": 45,
   "id": "ef3d6ea5",
   "metadata": {},
   "outputs": [
    {
     "name": "stdout",
     "output_type": "stream",
     "text": [
      "Hey World\n",
      "Hey Python\n"
     ]
    }
   ],
   "source": [
    "class Employee:\n",
    "    def m(self):\n",
    "        print(\"Hey World\")\n",
    "    def mm(self):\n",
    "        print(\"Hey Python\")\n",
    "e = Employee()\n",
    "e.m()\n",
    "e1 = Employee()\n",
    "e1.mm()"
   ]
  },
  {
   "cell_type": "code",
   "execution_count": 47,
   "id": "d01df6c1",
   "metadata": {},
   "outputs": [
    {
     "name": "stdout",
     "output_type": "stream",
     "text": [
      "Hey VANI\n",
      "VANI is a Dentist\n"
     ]
    }
   ],
   "source": [
    "class Doctor:\n",
    "    def n(self,name):\n",
    "        print(\"Hey\",name)\n",
    "    def nn(self,name,speciality):\n",
    "        print(name,\"is a\",speciality)\n",
    "d  = Doctor()\n",
    "d1 = Doctor()\n",
    "d.n(\"VANI\")\n",
    "d.nn(\"VANI\",\"Dentist\")"
   ]
  },
  {
   "cell_type": "code",
   "execution_count": 51,
   "id": "8ac154c2",
   "metadata": {},
   "outputs": [
    {
     "name": "stdout",
     "output_type": "stream",
     "text": [
      "Patient Number: 275\n",
      "Patient Name  : Nick\n",
      "Patient Age   : 27\n",
      "Patient Place : Agara\n"
     ]
    }
   ],
   "source": [
    "class Patient:\n",
    "    def __init__(self,pno,pname,p_age):\n",
    "        print(\"Patient Number:\",pno)\n",
    "        print(\"Patient Name  :\",pname)\n",
    "        print(\"Patient Age   :\",p_age)\n",
    "    def m(self,place):\n",
    "        print(\"Patient Place :\",place)\n",
    "p1 = Patient(275,\"Nick\",27)\n",
    "\n",
    "p1.m(\"Agara\")\n",
    "        "
   ]
  },
  {
   "cell_type": "code",
   "execution_count": 52,
   "id": "a57b32a5",
   "metadata": {},
   "outputs": [
    {
     "name": "stdout",
     "output_type": "stream",
     "text": [
      "{1, 2, 4, 30}\n"
     ]
    }
   ],
   "source": [
    "# Original set\n",
    "my_set = {1, 2, 3, 4}\n",
    "\n",
    "# Let's say we want to change 3 to 30\n",
    "if 3 in my_set:  # Check if the element exists\n",
    "    my_set.remove(3)  # Remove the old element\n",
    "    my_set.add(30)    # Add the new element\n",
    "\n",
    "print(my_set)  # Output: {1, 2, 4, 30}\n"
   ]
  },
  {
   "cell_type": "code",
   "execution_count": 59,
   "id": "1f3ad39e",
   "metadata": {},
   "outputs": [
    {
     "name": "stdout",
     "output_type": "stream",
     "text": [
      "{37, 73, 47, 23}\n"
     ]
    }
   ],
   "source": [
    "s = {23,47,73,37}\n",
    "s.add(97)\n",
    "s.pop()\n",
    "print(s)"
   ]
  },
  {
   "cell_type": "code",
   "execution_count": 62,
   "id": "81a8043b",
   "metadata": {},
   "outputs": [
    {
     "ename": "NameError",
     "evalue": "name 'z' is not defined",
     "output_type": "error",
     "traceback": [
      "\u001b[1;31m---------------------------------------------------------------------------\u001b[0m",
      "\u001b[1;31mNameError\u001b[0m                                 Traceback (most recent call last)",
      "\u001b[1;32m~\\AppData\\Local\\Temp\\ipykernel_6340\\359547145.py\u001b[0m in \u001b[0;36m<module>\u001b[1;34m\u001b[0m\n\u001b[1;32m----> 1\u001b[1;33m \u001b[0mprint\u001b[0m\u001b[1;33m(\u001b[0m\u001b[0mz\u001b[0m\u001b[1;33m)\u001b[0m\u001b[1;33m\u001b[0m\u001b[1;33m\u001b[0m\u001b[0m\n\u001b[0m\u001b[0;32m      2\u001b[0m \u001b[1;33m\u001b[0m\u001b[0m\n\u001b[0;32m      3\u001b[0m \u001b[0mz\u001b[0m \u001b[1;33m=\u001b[0m \u001b[1;36m10\u001b[0m\u001b[1;33m\u001b[0m\u001b[1;33m\u001b[0m\u001b[0m\n",
      "\u001b[1;31mNameError\u001b[0m: name 'z' is not defined"
     ]
    }
   ],
   "source": [
    "print(z)\n",
    "\n",
    "z = 10"
   ]
  },
  {
   "cell_type": "code",
   "execution_count": null,
   "id": "3afad793",
   "metadata": {},
   "outputs": [],
   "source": []
  },
  {
   "cell_type": "code",
   "execution_count": null,
   "id": "c4e37ac0",
   "metadata": {},
   "outputs": [],
   "source": []
  }
 ],
 "metadata": {
  "kernelspec": {
   "display_name": "Python 3 (ipykernel)",
   "language": "python",
   "name": "python3"
  },
  "language_info": {
   "codemirror_mode": {
    "name": "ipython",
    "version": 3
   },
   "file_extension": ".py",
   "mimetype": "text/x-python",
   "name": "python",
   "nbconvert_exporter": "python",
   "pygments_lexer": "ipython3",
   "version": "3.9.13"
  }
 },
 "nbformat": 4,
 "nbformat_minor": 5
}
