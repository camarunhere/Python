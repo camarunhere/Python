{
 "cells": [
  {
   "cell_type": "code",
   "execution_count": 2,
   "id": "5a72b711",
   "metadata": {},
   "outputs": [
    {
     "name": "stdout",
     "output_type": "stream",
     "text": [
      "Enter any number: 9000\n",
      "4\n"
     ]
    }
   ],
   "source": [
    "#WAP to know the length of a number\n",
    "\n",
    "s = str(input(\"Enter any number: \"))\n",
    "\n",
    "print(len(s))"
   ]
  },
  {
   "cell_type": "code",
   "execution_count": 2,
   "id": "9c99c832",
   "metadata": {},
   "outputs": [
    {
     "name": "stdout",
     "output_type": "stream",
     "text": [
      "Enter a number to find it's factorial: 5\n",
      "120\n"
     ]
    }
   ],
   "source": [
    "#WAP to find the factorial of a number\n",
    "\n",
    "n = int(input(\"Enter a number to find it's factorial: \"))\n",
    "m=1\n",
    "\n",
    "for i in range (1,n+1):\n",
    "    m = m*i\n",
    "print(m)\n",
    "    "
   ]
  },
  {
   "cell_type": "code",
   "execution_count": null,
   "id": "289599c0",
   "metadata": {},
   "outputs": [],
   "source": []
  },
  {
   "cell_type": "code",
   "execution_count": null,
   "id": "91e70f9a",
   "metadata": {},
   "outputs": [],
   "source": []
  }
 ],
 "metadata": {
  "kernelspec": {
   "display_name": "Python 3 (ipykernel)",
   "language": "python",
   "name": "python3"
  },
  "language_info": {
   "codemirror_mode": {
    "name": "ipython",
    "version": 3
   },
   "file_extension": ".py",
   "mimetype": "text/x-python",
   "name": "python",
   "nbconvert_exporter": "python",
   "pygments_lexer": "ipython3",
   "version": "3.9.13"
  }
 },
 "nbformat": 4,
 "nbformat_minor": 5
}
