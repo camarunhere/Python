{
 "cells": [
  {
   "cell_type": "code",
   "execution_count": 25,
   "id": "9d84c353",
   "metadata": {},
   "outputs": [
    {
     "name": "stdout",
     "output_type": "stream",
     "text": [
      "['Ramesh', 'Suresh']\n",
      "Suresh\n"
     ]
    }
   ],
   "source": [
    "details = [[\"Ramesh\",\"Suresh\"],\n",
    "          [\"Bangalore\",\"Hyderabad\",\"Delhi\"],\n",
    "          [10,20,30,[\"ten\",\"twenty\",\"thirty\"]]]\n",
    "\n",
    "\n",
    "e1 = (details[0])\n",
    "print(e1)\n",
    "print(e1[1])"
   ]
  },
  {
   "cell_type": "code",
   "execution_count": 26,
   "id": "2cde9cbc",
   "metadata": {},
   "outputs": [
    {
     "name": "stdout",
     "output_type": "stream",
     "text": [
      "Suresh\n"
     ]
    }
   ],
   "source": [
    "print(details[0][1])"
   ]
  },
  {
   "cell_type": "code",
   "execution_count": 27,
   "id": "7bc4407f",
   "metadata": {},
   "outputs": [
    {
     "name": "stdout",
     "output_type": "stream",
     "text": [
      "Hyderabad\n"
     ]
    }
   ],
   "source": [
    "print(details[1][1])"
   ]
  },
  {
   "cell_type": "code",
   "execution_count": 30,
   "id": "0daaabd7",
   "metadata": {},
   "outputs": [
    {
     "name": "stdout",
     "output_type": "stream",
     "text": [
      "30\n"
     ]
    }
   ],
   "source": [
    "print(details[2][2])"
   ]
  },
  {
   "cell_type": "code",
   "execution_count": 33,
   "id": "0cab1129",
   "metadata": {},
   "outputs": [
    {
     "name": "stdout",
     "output_type": "stream",
     "text": [
      "thirty\n"
     ]
    }
   ],
   "source": [
    "print(details[2][3][2])"
   ]
  },
  {
   "cell_type": "code",
   "execution_count": 35,
   "id": "17af2464",
   "metadata": {},
   "outputs": [
    {
     "name": "stdout",
     "output_type": "stream",
     "text": [
      "Delhi\n"
     ]
    }
   ],
   "source": [
    "print(details[1][2])"
   ]
  },
  {
   "cell_type": "code",
   "execution_count": 39,
   "id": "f9ba4965",
   "metadata": {},
   "outputs": [
    {
     "name": "stdout",
     "output_type": "stream",
     "text": [
      "Suresh\n"
     ]
    }
   ],
   "source": [
    "print(details[0][1])"
   ]
  },
  {
   "cell_type": "code",
   "execution_count": 44,
   "id": "61a5ea72",
   "metadata": {},
   "outputs": [
    {
     "name": "stdout",
     "output_type": "stream",
     "text": [
      "twenty\n",
      "<class 'list'>\n"
     ]
    }
   ],
   "source": [
    "print(details[2][3][1])\n",
    "print(type(details))"
   ]
  },
  {
   "cell_type": "code",
   "execution_count": 47,
   "id": "94af9110",
   "metadata": {},
   "outputs": [
    {
     "name": "stdout",
     "output_type": "stream",
     "text": [
      "[['Ramesh', 'Vignesh'], ['Bangalore', 'Hyderabad', 'Delhi'], [10, 20, 30, ['ten', 'twenty', 'thirty']]]\n"
     ]
    }
   ],
   "source": [
    "(details[0][1]) = \"Vignesh\"\n",
    "print(details)"
   ]
  },
  {
   "cell_type": "code",
   "execution_count": 48,
   "id": "0957e0ee",
   "metadata": {},
   "outputs": [
    {
     "name": "stdout",
     "output_type": "stream",
     "text": [
      "[['Ramesh', 'Vignesh'], ['Bangalore', 'Hyderabad', 'Varanasi'], [10, 20, 30, ['ten', 'twenty', 'thirty']]]\n"
     ]
    }
   ],
   "source": [
    "(details[1][2]) = \"Varanasi\"\n",
    "print(details)"
   ]
  },
  {
   "cell_type": "code",
   "execution_count": null,
   "id": "1b799fc7",
   "metadata": {},
   "outputs": [],
   "source": []
  }
 ],
 "metadata": {
  "kernelspec": {
   "display_name": "Python 3 (ipykernel)",
   "language": "python",
   "name": "python3"
  },
  "language_info": {
   "codemirror_mode": {
    "name": "ipython",
    "version": 3
   },
   "file_extension": ".py",
   "mimetype": "text/x-python",
   "name": "python",
   "nbconvert_exporter": "python",
   "pygments_lexer": "ipython3",
   "version": "3.9.13"
  }
 },
 "nbformat": 4,
 "nbformat_minor": 5
}
