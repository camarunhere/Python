{
 "cells": [
  {
   "cell_type": "code",
   "execution_count": 1,
   "id": "fb23ac05",
   "metadata": {},
   "outputs": [
    {
     "name": "stdout",
     "output_type": "stream",
     "text": [
      "Enter the first word:Iam hungry,\n",
      "Enter the second word:But not now\n",
      "The concanted string is: Iam hungry,But not now\n"
     ]
    }
   ],
   "source": [
    "str1 = str(input(\"Enter the first word:\"))\n",
    "str2 = str(input(\"Enter the second word:\"))\n",
    "concat = str1+str2\n",
    "print(\"The concanted string is:\",concat)"
   ]
  },
  {
   "cell_type": "code",
   "execution_count": 3,
   "id": "6427587e",
   "metadata": {},
   "outputs": [
    {
     "name": "stdout",
     "output_type": "stream",
     "text": [
      "Enter the first word:Besant\n",
      "Enter the second word:TECHNOLOGIES\n",
      "The concanted string is: tnaseBSEIGOLONHCET\n"
     ]
    }
   ],
   "source": [
    "str1 = str(input(\"Enter the first word:\"))\n",
    "str2 = str(input(\"Enter the second word:\"))\n",
    "concat = str1[::-1]+str2[::-1]\n",
    "print(\"The concanted string is:\",concat)"
   ]
  },
  {
   "cell_type": "code",
   "execution_count": null,
   "id": "537929f5",
   "metadata": {},
   "outputs": [],
   "source": []
  }
 ],
 "metadata": {
  "kernelspec": {
   "display_name": "Python 3 (ipykernel)",
   "language": "python",
   "name": "python3"
  },
  "language_info": {
   "codemirror_mode": {
    "name": "ipython",
    "version": 3
   },
   "file_extension": ".py",
   "mimetype": "text/x-python",
   "name": "python",
   "nbconvert_exporter": "python",
   "pygments_lexer": "ipython3",
   "version": "3.9.13"
  }
 },
 "nbformat": 4,
 "nbformat_minor": 5
}
