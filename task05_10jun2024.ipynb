{
 "cells": [
  {
   "cell_type": "code",
   "execution_count": 2,
   "id": "37de6761",
   "metadata": {},
   "outputs": [
    {
     "name": "stdout",
     "output_type": "stream",
     "text": [
      "['ten', 'twenty', 'thirty', 'forty']\n"
     ]
    }
   ],
   "source": [
    "numbers = [10,20,30,40]\n",
    "\n",
    "numbers = [\"ten\",\"twenty\",\"thirty\",\"forty\"]\n",
    "\n",
    "print(numbers)"
   ]
  },
  {
   "cell_type": "code",
   "execution_count": 7,
   "id": "d11b06cd",
   "metadata": {},
   "outputs": [
    {
     "name": "stdout",
     "output_type": "stream",
     "text": [
      "[1, 'Cameroon Green']\n",
      "['Australia', 'Machine Learning']\n"
     ]
    }
   ],
   "source": [
    "details = [1,\"Cameroon Green\",\"Australia\",\"Machine Learning\"]\n",
    "\n",
    "print(details[0:2])\n",
    "print(details[-2:])"
   ]
  },
  {
   "cell_type": "code",
   "execution_count": 16,
   "id": "485940b1",
   "metadata": {},
   "outputs": [
    {
     "name": "stdout",
     "output_type": "stream",
     "text": [
      "['English', 'Mathematics', 'Science']\n",
      "['Mathematics', 'Science', 'Computers']\n",
      "['Hindi', 'Computers', 'Science']\n",
      "['Hindi', 'Computers', 'Science']\n"
     ]
    }
   ],
   "source": [
    "Subjects = [\"English\",\"Mathematics\",\"Science\",\"Computers\",\"Hindi\"]\n",
    "\n",
    "print(Subjects[0:3])\n",
    "print(Subjects[1:4])\n",
    "print(Subjects[-1:-4:-1])\n",
    "print(Subjects[4:1:-1])"
   ]
  },
  {
   "cell_type": "code",
   "execution_count": null,
   "id": "836a874c",
   "metadata": {},
   "outputs": [],
   "source": []
  }
 ],
 "metadata": {
  "kernelspec": {
   "display_name": "Python 3 (ipykernel)",
   "language": "python",
   "name": "python3"
  },
  "language_info": {
   "codemirror_mode": {
    "name": "ipython",
    "version": 3
   },
   "file_extension": ".py",
   "mimetype": "text/x-python",
   "name": "python",
   "nbconvert_exporter": "python",
   "pygments_lexer": "ipython3",
   "version": "3.9.13"
  }
 },
 "nbformat": 4,
 "nbformat_minor": 5
}
