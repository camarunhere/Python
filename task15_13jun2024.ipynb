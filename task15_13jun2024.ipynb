{
 "cells": [
  {
   "cell_type": "code",
   "execution_count": 4,
   "id": "0a382f7a",
   "metadata": {},
   "outputs": [
    {
     "name": "stdout",
     "output_type": "stream",
     "text": [
      "[10, 11, 12, 13, 15, 14, 16, 18, 17, 19, 20]\n"
     ]
    }
   ],
   "source": [
    "ele = [10,11,12,13,15,14,16,18,17,19,20]\n",
    "\n",
    "print(ele)"
   ]
  },
  {
   "cell_type": "code",
   "execution_count": 10,
   "id": "22f1dc9a",
   "metadata": {},
   "outputs": [
    {
     "name": "stdout",
     "output_type": "stream",
     "text": [
      "[10, 12, 15, 16, 17, 20]\n"
     ]
    }
   ],
   "source": [
    "print(ele[0::2])"
   ]
  },
  {
   "cell_type": "code",
   "execution_count": 11,
   "id": "93ee9d12",
   "metadata": {},
   "outputs": [
    {
     "name": "stdout",
     "output_type": "stream",
     "text": [
      "[11, 13, 14, 18, 19]\n"
     ]
    }
   ],
   "source": [
    "print(ele[1::2])"
   ]
  },
  {
   "cell_type": "code",
   "execution_count": 12,
   "id": "54da11ca",
   "metadata": {},
   "outputs": [
    {
     "name": "stdout",
     "output_type": "stream",
     "text": [
      "[20, 17, 16, 15, 12, 10]\n"
     ]
    }
   ],
   "source": [
    "print(ele[::-2])"
   ]
  },
  {
   "cell_type": "code",
   "execution_count": 15,
   "id": "fddb09e7",
   "metadata": {},
   "outputs": [
    {
     "name": "stdout",
     "output_type": "stream",
     "text": [
      "[19, 18, 14, 13, 11]\n"
     ]
    }
   ],
   "source": [
    "print(ele[-2::-2])"
   ]
  },
  {
   "cell_type": "code",
   "execution_count": 36,
   "id": "fe87ee05",
   "metadata": {},
   "outputs": [
    {
     "name": "stdout",
     "output_type": "stream",
     "text": [
      "10\n",
      "12\n",
      "14\n",
      "16\n",
      "18\n",
      "20\n"
     ]
    }
   ],
   "source": [
    "for x in ele:\n",
    "    if x%2==0:\n",
    "        print(x)"
   ]
  },
  {
   "cell_type": "code",
   "execution_count": 5,
   "id": "3fadfcaf",
   "metadata": {},
   "outputs": [
    {
     "name": "stdout",
     "output_type": "stream",
     "text": [
      "11\n",
      "13\n",
      "15\n",
      "17\n",
      "19\n"
     ]
    }
   ],
   "source": [
    "for x in ele:\n",
    "    if x%2!=0:\n",
    "        print(x)"
   ]
  },
  {
   "cell_type": "code",
   "execution_count": 10,
   "id": "561ed147",
   "metadata": {},
   "outputs": [
    {
     "name": "stdout",
     "output_type": "stream",
     "text": [
      "165\n"
     ]
    }
   ],
   "source": [
    "print(sum(ele))"
   ]
  },
  {
   "cell_type": "code",
   "execution_count": 22,
   "id": "91797c3d",
   "metadata": {},
   "outputs": [
    {
     "name": "stdout",
     "output_type": "stream",
     "text": [
      "Sum of all even elements in the list: 90\n"
     ]
    }
   ],
   "source": [
    "\n",
    "# Calculate the sum of all even elements in the list\n",
    "even_sum = sum(x for x in ele if x % 2 == 0)\n",
    "\n",
    "print(\"Sum of all even elements in the list:\", even_sum)\n"
   ]
  },
  {
   "cell_type": "code",
   "execution_count": 25,
   "id": "2cc35a79",
   "metadata": {},
   "outputs": [
    {
     "name": "stdout",
     "output_type": "stream",
     "text": [
      "Sum of all odd elements in the list: 75\n"
     ]
    }
   ],
   "source": [
    "\n",
    "# Calculate the sum of all odd elements in the list\n",
    "odd_sum = sum(x for x in ele if x % 2 != 0)\n",
    "\n",
    "print(\"Sum of all odd elements in the list:\", odd_sum)\n"
   ]
  },
  {
   "cell_type": "code",
   "execution_count": 2,
   "id": "1fb31099",
   "metadata": {},
   "outputs": [
    {
     "name": "stdout",
     "output_type": "stream",
     "text": [
      "z,y,x,w,v,u,t,s,r,q,p,o,n,m,l,k,j,i,h,g,f,e,d,c,b,a,"
     ]
    }
   ],
   "source": [
    "s = ord('z')\n",
    "e = ord('a')\n",
    "\n",
    "while s>=e:\n",
    "    print(chr(s),end=',')\n",
    "    s-=1"
   ]
  },
  {
   "cell_type": "code",
   "execution_count": 4,
   "id": "f4e5a2b6",
   "metadata": {},
   "outputs": [
    {
     "name": "stdout",
     "output_type": "stream",
     "text": [
      "A,B,C,D,E,F,G,H,I,J,K,L,M,N,O,P,Q,R,S,T,U,V,W,X,Y,Z,"
     ]
    }
   ],
   "source": [
    "cs = ord('A')\n",
    "ce = ord('Z')\n",
    "\n",
    "while cs<=ce:\n",
    "    print(chr(cs),end=',')\n",
    "    cs+=1"
   ]
  },
  {
   "cell_type": "code",
   "execution_count": 9,
   "id": "f9378a38",
   "metadata": {},
   "outputs": [
    {
     "name": "stdout",
     "output_type": "stream",
     "text": [
      "10\n",
      "12\n",
      "14\n",
      "16\n",
      "18\n",
      "20\n"
     ]
    }
   ],
   "source": [
    "ele = [10,11,12,13,15,14,16,18,17,19,20]\n",
    "\n",
    "for x in ele:\n",
    "    if x%2==0:\n",
    "        print(x)"
   ]
  },
  {
   "cell_type": "code",
   "execution_count": 10,
   "id": "9f5f78ed",
   "metadata": {},
   "outputs": [
    {
     "name": "stdout",
     "output_type": "stream",
     "text": [
      "11\n",
      "13\n",
      "15\n",
      "17\n",
      "19\n"
     ]
    }
   ],
   "source": [
    "for x in ele:\n",
    "    if x%2!=0:\n",
    "        print(x)"
   ]
  },
  {
   "cell_type": "code",
   "execution_count": 12,
   "id": "cb9b5cc8",
   "metadata": {},
   "outputs": [
    {
     "name": "stdout",
     "output_type": "stream",
     "text": [
      "Sum of the even numbers in the list: 90\n"
     ]
    }
   ],
   "source": [
    "even_sum = sum(x for x in ele if x%2==0)\n",
    "\n",
    "print(\"Sum of the even numbers in the list:\",even_sum)"
   ]
  },
  {
   "cell_type": "code",
   "execution_count": 14,
   "id": "13c53f7f",
   "metadata": {},
   "outputs": [
    {
     "name": "stdout",
     "output_type": "stream",
     "text": [
      "Sum of the odd numbers in the list: 75\n"
     ]
    }
   ],
   "source": [
    "odd_sum = sum(x for x in ele if x%2!=0)\n",
    "\n",
    "print(\"Sum of the odd numbers in the list:\",odd_sum)"
   ]
  },
  {
   "cell_type": "code",
   "execution_count": 2,
   "id": "6fa7317e",
   "metadata": {},
   "outputs": [
    {
     "name": "stdout",
     "output_type": "stream",
     "text": [
      "10\n",
      "11\n",
      "12\n",
      "13\n",
      "15\n",
      "14\n",
      "16\n",
      "18\n",
      "17\n",
      "19\n",
      "20\n"
     ]
    }
   ],
   "source": [
    "ele = [10,11,12,13,15,14,16,18,17,19,20]\n",
    "\n",
    "for i in range (0,len(ele)):\n",
    "    print(ele[i])\n"
   ]
  },
  {
   "cell_type": "code",
   "execution_count": null,
   "id": "50b551c8",
   "metadata": {},
   "outputs": [],
   "source": []
  }
 ],
 "metadata": {
  "kernelspec": {
   "display_name": "Python 3 (ipykernel)",
   "language": "python",
   "name": "python3"
  },
  "language_info": {
   "codemirror_mode": {
    "name": "ipython",
    "version": 3
   },
   "file_extension": ".py",
   "mimetype": "text/x-python",
   "name": "python",
   "nbconvert_exporter": "python",
   "pygments_lexer": "ipython3",
   "version": "3.9.13"
  }
 },
 "nbformat": 4,
 "nbformat_minor": 5
}
