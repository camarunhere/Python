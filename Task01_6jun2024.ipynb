{
 "cells": [
  {
   "cell_type": "code",
   "execution_count": 1,
   "id": "8e908402",
   "metadata": {},
   "outputs": [],
   "source": [
    "Institute = \"Besant TECHNOLOGIES\""
   ]
  },
  {
   "cell_type": "code",
   "execution_count": 3,
   "id": "c730968b",
   "metadata": {},
   "outputs": [
    {
     "name": "stdout",
     "output_type": "stream",
     "text": [
      "T\n"
     ]
    }
   ],
   "source": [
    "print(Institute[7:8])"
   ]
  },
  {
   "cell_type": "code",
   "execution_count": 6,
   "id": "3d580c2c",
   "metadata": {},
   "outputs": [
    {
     "name": "stdout",
     "output_type": "stream",
     "text": [
      "T\n"
     ]
    }
   ],
   "source": [
    "print(Institute[-12:-11])"
   ]
  },
  {
   "cell_type": "code",
   "execution_count": 7,
   "id": "12d73197",
   "metadata": {},
   "outputs": [
    {
     "name": "stdout",
     "output_type": "stream",
     "text": [
      "G\n"
     ]
    }
   ],
   "source": [
    "print(Institute[15:16])"
   ]
  },
  {
   "cell_type": "code",
   "execution_count": 10,
   "id": "d6dc55bc",
   "metadata": {},
   "outputs": [
    {
     "name": "stdout",
     "output_type": "stream",
     "text": [
      "G\n"
     ]
    }
   ],
   "source": [
    "print(Institute[-4:-3])"
   ]
  },
  {
   "cell_type": "code",
   "execution_count": 11,
   "id": "34ddf3cf",
   "metadata": {},
   "outputs": [
    {
     "name": "stdout",
     "output_type": "stream",
     "text": [
      "H\n"
     ]
    }
   ],
   "source": [
    "print(Institute[10:11])"
   ]
  },
  {
   "cell_type": "code",
   "execution_count": 12,
   "id": "79bca176",
   "metadata": {},
   "outputs": [
    {
     "name": "stdout",
     "output_type": "stream",
     "text": [
      "H\n"
     ]
    }
   ],
   "source": [
    "print(Institute[-9:-8])"
   ]
  },
  {
   "cell_type": "code",
   "execution_count": 15,
   "id": "5cd5cb6e",
   "metadata": {},
   "outputs": [
    {
     "name": "stdout",
     "output_type": "stream",
     "text": [
      "S\n"
     ]
    }
   ],
   "source": [
    "print(Institute[18:])"
   ]
  },
  {
   "cell_type": "code",
   "execution_count": 17,
   "id": "c1fc989e",
   "metadata": {},
   "outputs": [
    {
     "name": "stdout",
     "output_type": "stream",
     "text": [
      "S\n"
     ]
    }
   ],
   "source": [
    "print(Institute[-1:])"
   ]
  },
  {
   "cell_type": "code",
   "execution_count": 18,
   "id": "581cd0f3",
   "metadata": {},
   "outputs": [],
   "source": [
    "stmt = \"I AM LEARNING PYTHON AT Besant TECHNOLOGIES\""
   ]
  },
  {
   "cell_type": "code",
   "execution_count": 19,
   "id": "f4af3f80",
   "metadata": {},
   "outputs": [
    {
     "data": {
      "text/plain": [
       "43"
      ]
     },
     "execution_count": 19,
     "metadata": {},
     "output_type": "execute_result"
    }
   ],
   "source": [
    "len(stmt)"
   ]
  },
  {
   "cell_type": "code",
   "execution_count": 23,
   "id": "163faca3",
   "metadata": {},
   "outputs": [
    {
     "name": "stdout",
     "output_type": "stream",
     "text": [
      "I\n"
     ]
    }
   ],
   "source": [
    "print(stmt[0:1])"
   ]
  },
  {
   "cell_type": "code",
   "execution_count": 25,
   "id": "6bb1fb52",
   "metadata": {},
   "outputs": [
    {
     "name": "stdout",
     "output_type": "stream",
     "text": [
      "AM \n"
     ]
    }
   ],
   "source": [
    "print(stmt[2:5])"
   ]
  },
  {
   "cell_type": "code",
   "execution_count": 33,
   "id": "c8dd65b6",
   "metadata": {},
   "outputs": [
    {
     "name": "stdout",
     "output_type": "stream",
     "text": [
      "LEARNING\n"
     ]
    }
   ],
   "source": [
    "print(stmt[5:13])"
   ]
  },
  {
   "cell_type": "code",
   "execution_count": 31,
   "id": "b80eb054",
   "metadata": {},
   "outputs": [
    {
     "name": "stdout",
     "output_type": "stream",
     "text": [
      "PYTHON\n"
     ]
    }
   ],
   "source": [
    "print(stmt[14:20])"
   ]
  },
  {
   "cell_type": "code",
   "execution_count": 34,
   "id": "8c3d452a",
   "metadata": {},
   "outputs": [
    {
     "name": "stdout",
     "output_type": "stream",
     "text": [
      "AT\n"
     ]
    }
   ],
   "source": [
    "print(stmt[21:23])"
   ]
  },
  {
   "cell_type": "code",
   "execution_count": 35,
   "id": "b35bbe17",
   "metadata": {},
   "outputs": [
    {
     "name": "stdout",
     "output_type": "stream",
     "text": [
      "Besant\n"
     ]
    }
   ],
   "source": [
    "print(stmt[24:30])"
   ]
  },
  {
   "cell_type": "code",
   "execution_count": 36,
   "id": "41aeca2c",
   "metadata": {},
   "outputs": [
    {
     "name": "stdout",
     "output_type": "stream",
     "text": [
      "TECHNOLOGIES\n"
     ]
    }
   ],
   "source": [
    "print(stmt[31:43])"
   ]
  },
  {
   "cell_type": "code",
   "execution_count": 37,
   "id": "849f5871",
   "metadata": {},
   "outputs": [
    {
     "name": "stdout",
     "output_type": "stream",
     "text": [
      "I\n"
     ]
    }
   ],
   "source": [
    "print(stmt[-43:-42])"
   ]
  },
  {
   "cell_type": "code",
   "execution_count": 38,
   "id": "a7a952bb",
   "metadata": {},
   "outputs": [
    {
     "name": "stdout",
     "output_type": "stream",
     "text": [
      "AM\n"
     ]
    }
   ],
   "source": [
    "print(stmt[-41:-39])"
   ]
  },
  {
   "cell_type": "code",
   "execution_count": 40,
   "id": "6c774c14",
   "metadata": {},
   "outputs": [
    {
     "name": "stdout",
     "output_type": "stream",
     "text": [
      "LEARNING\n"
     ]
    }
   ],
   "source": [
    "print(stmt[-38:-30])"
   ]
  },
  {
   "cell_type": "code",
   "execution_count": 41,
   "id": "bf7e9908",
   "metadata": {},
   "outputs": [
    {
     "name": "stdout",
     "output_type": "stream",
     "text": [
      "PYTHON\n"
     ]
    }
   ],
   "source": [
    "print(stmt[-29:-23])"
   ]
  },
  {
   "cell_type": "code",
   "execution_count": 42,
   "id": "b03f44b4",
   "metadata": {},
   "outputs": [
    {
     "name": "stdout",
     "output_type": "stream",
     "text": [
      "AT\n"
     ]
    }
   ],
   "source": [
    "print(stmt[-22:-20])"
   ]
  },
  {
   "cell_type": "code",
   "execution_count": 43,
   "id": "ca2b3f1c",
   "metadata": {},
   "outputs": [
    {
     "name": "stdout",
     "output_type": "stream",
     "text": [
      "Besant\n"
     ]
    }
   ],
   "source": [
    "print(stmt[-19:-13])"
   ]
  },
  {
   "cell_type": "code",
   "execution_count": 44,
   "id": "ecaaa551",
   "metadata": {},
   "outputs": [
    {
     "name": "stdout",
     "output_type": "stream",
     "text": [
      "TECHNOLOGIES\n"
     ]
    }
   ],
   "source": [
    "print(stmt[-12:])"
   ]
  },
  {
   "cell_type": "code",
   "execution_count": null,
   "id": "e8bf17f4",
   "metadata": {},
   "outputs": [],
   "source": []
  }
 ],
 "metadata": {
  "kernelspec": {
   "display_name": "Python 3 (ipykernel)",
   "language": "python",
   "name": "python3"
  },
  "language_info": {
   "codemirror_mode": {
    "name": "ipython",
    "version": 3
   },
   "file_extension": ".py",
   "mimetype": "text/x-python",
   "name": "python",
   "nbconvert_exporter": "python",
   "pygments_lexer": "ipython3",
   "version": "3.9.13"
  }
 },
 "nbformat": 4,
 "nbformat_minor": 5
}
