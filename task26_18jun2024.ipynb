{
 "cells": [
  {
   "cell_type": "code",
   "execution_count": 1,
   "id": "ae182920",
   "metadata": {},
   "outputs": [
    {
     "name": "stdout",
     "output_type": "stream",
     "text": [
      "Sentiment: Positive\n"
     ]
    }
   ],
   "source": [
    "x = [('hi', 'noun'), ('good', 'adj'), ('run', 'verb'), ('bad', 'adj'), ('good', 'adj')]\n",
    "\n",
    "# Initialize counters for good and bad adjectives\n",
    "good_count = 0\n",
    "bad_count = 0\n",
    "\n",
    "# Count occurrences of 'good' and 'bad' adjectives\n",
    "for word, pos in x:\n",
    "    if pos == 'adj':\n",
    "        if word == 'good':\n",
    "            good_count += 1\n",
    "        elif word == 'bad':\n",
    "            bad_count += 1\n",
    "\n",
    "# Determine sentiment based on counts\n",
    "if good_count > bad_count:\n",
    "    print(\"Sentiment: Positive\")\n",
    "elif bad_count > good_count:\n",
    "    print(\"Sentiment: Negative\")\n",
    "else:\n",
    "    print(\"Sentiment: Neutral\")\n"
   ]
  },
  {
   "cell_type": "code",
   "execution_count": 4,
   "id": "83ca124b",
   "metadata": {},
   "outputs": [
    {
     "name": "stdout",
     "output_type": "stream",
     "text": [
      "['good', 'bad', 'good']\n",
      "2\n",
      "1\n",
      "Sentiment is positive\n"
     ]
    }
   ],
   "source": [
    "x = [('hi','noun'),('good','adj'),('run','verb'),('bad','adj'),('good','adj')]\n",
    "y = []\n",
    "\n",
    "for i in x:\n",
    "    if i[1] == 'adj':\n",
    "        y.append(i[0])\n",
    "print(y)\n",
    "\n",
    "good_count = 0\n",
    "bad_count =0\n",
    "\n",
    "for i in y:\n",
    "    if i == 'good':\n",
    "        good_count += 1\n",
    "    else:\n",
    "        bad_count +=1\n",
    "print(good_count)\n",
    "print(bad_count)\n",
    "\n",
    "if good_count > bad_count:\n",
    "    print(\"Sentiment is positive\")\n",
    "elif bad_count > good_count:\n",
    "    print(\"Sentiment is negative\")\n",
    "else:\n",
    "    print(\"Sentiment is neutral\")"
   ]
  },
  {
   "cell_type": "code",
   "execution_count": 19,
   "id": "20d29e44",
   "metadata": {},
   "outputs": [
    {
     "name": "stdout",
     "output_type": "stream",
     "text": [
      "['good', 'bad', 'good']\n",
      "2\n",
      "1\n",
      "Sentiment : Positive\n"
     ]
    }
   ],
   "source": [
    "x = [('hi','noun'),('good','adj'),('run','verb'),('bad','adj'),('good','adj')]\n",
    "y = []\n",
    "\n",
    "for i in x:\n",
    "    if i[1] == 'adj':\n",
    "        y.append(i[0])\n",
    "print(y)\n",
    "\n",
    "good_count = 0\n",
    "bad_count = 0\n",
    "\n",
    "for i in y:\n",
    "    if i == 'good':\n",
    "        good_count += 1\n",
    "    else:\n",
    "        bad_count += 1\n",
    "print(good_count)\n",
    "print(bad_count)\n",
    "\n",
    "if good_count > bad_count:\n",
    "    print(\"Sentiment : Positive\")\n",
    "elif good_count < bad_count:\n",
    "    print(\"Sentiment : Negative\")\n",
    "else:\n",
    "    print(\"Sentiment : Neutral\")\n"
   ]
  },
  {
   "cell_type": "code",
   "execution_count": null,
   "id": "cf2d66af",
   "metadata": {},
   "outputs": [],
   "source": []
  },
  {
   "cell_type": "code",
   "execution_count": null,
   "id": "502298f8",
   "metadata": {},
   "outputs": [],
   "source": []
  }
 ],
 "metadata": {
  "kernelspec": {
   "display_name": "Python 3 (ipykernel)",
   "language": "python",
   "name": "python3"
  },
  "language_info": {
   "codemirror_mode": {
    "name": "ipython",
    "version": 3
   },
   "file_extension": ".py",
   "mimetype": "text/x-python",
   "name": "python",
   "nbconvert_exporter": "python",
   "pygments_lexer": "ipython3",
   "version": "3.9.13"
  }
 },
 "nbformat": 4,
 "nbformat_minor": 5
}
