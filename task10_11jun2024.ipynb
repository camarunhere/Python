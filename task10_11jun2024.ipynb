{
 "cells": [
  {
   "cell_type": "code",
   "execution_count": 3,
   "id": "83f568df",
   "metadata": {},
   "outputs": [
    {
     "name": "stdout",
     "output_type": "stream",
     "text": [
      "{'Trainers': 10, 'Students': 100, 'Course': 'Python'}\n"
     ]
    }
   ],
   "source": [
    "Institute = {\n",
    "    \"Trainers\" : 10,\n",
    "    \"Students\" : 100,\n",
    "    \"Course\":\"Python\"}\n",
    "\n",
    "print(Institute)"
   ]
  },
  {
   "cell_type": "code",
   "execution_count": 6,
   "id": "a13a448e",
   "metadata": {},
   "outputs": [
    {
     "name": "stdout",
     "output_type": "stream",
     "text": [
      "{'Trainers': 10, 'Students': 100, 'Course': 'Python', 'place': 'Bommanahalli'}\n",
      "{'Trainers': 15, 'Students': 100, 'Course': 'Python', 'place': 'Bommanahalli'}\n"
     ]
    }
   ],
   "source": [
    "Institute['place'] = 'Bommanahalli'\n",
    "print(Institute)\n",
    "Institute['Trainers']= 15\n",
    "print(Institute)"
   ]
  },
  {
   "cell_type": "code",
   "execution_count": 8,
   "id": "5691b6c6",
   "metadata": {},
   "outputs": [
    {
     "name": "stdout",
     "output_type": "stream",
     "text": [
      "{'Year': 2024, 'Month': 'January', 'Day': 'monday'}\n"
     ]
    }
   ],
   "source": [
    "Day ={}\n",
    "Day = {\"Year\" : 2024,\"Month\" : \"January\",\"Day\" : \"monday\" }\n",
    "\n",
    "print(Day)"
   ]
  },
  {
   "cell_type": "code",
   "execution_count": 9,
   "id": "f23b1795",
   "metadata": {},
   "outputs": [
    {
     "name": "stdout",
     "output_type": "stream",
     "text": [
      "{'Year': 2024, 'Month': 'May', 'Day': 'monday'}\n"
     ]
    }
   ],
   "source": [
    "Day['Month'] = 'May'\n",
    "print(Day)"
   ]
  },
  {
   "cell_type": "code",
   "execution_count": 11,
   "id": "b5951d84",
   "metadata": {},
   "outputs": [
    {
     "name": "stdout",
     "output_type": "stream",
     "text": [
      "{'Year': 2024, 'Month': 'May', 'Day': 'Thursday'}\n"
     ]
    }
   ],
   "source": [
    "Day[\"Day\"] = \"Thursday\"\n",
    "print(Day)"
   ]
  },
  {
   "cell_type": "code",
   "execution_count": 13,
   "id": "a1620c37",
   "metadata": {},
   "outputs": [
    {
     "name": "stdout",
     "output_type": "stream",
     "text": [
      "{'Year': 2024, 'Month': 'May', 'Day': 'Thursday', 'Date': '20/5/2024'}\n"
     ]
    }
   ],
   "source": [
    "Day[\"Date\"] = \"20/5/2024\"\n",
    "print(Day)"
   ]
  },
  {
   "cell_type": "code",
   "execution_count": null,
   "id": "0bb3c1cb",
   "metadata": {},
   "outputs": [],
   "source": []
  }
 ],
 "metadata": {
  "kernelspec": {
   "display_name": "Python 3 (ipykernel)",
   "language": "python",
   "name": "python3"
  },
  "language_info": {
   "codemirror_mode": {
    "name": "ipython",
    "version": 3
   },
   "file_extension": ".py",
   "mimetype": "text/x-python",
   "name": "python",
   "nbconvert_exporter": "python",
   "pygments_lexer": "ipython3",
   "version": "3.9.13"
  }
 },
 "nbformat": 4,
 "nbformat_minor": 5
}
