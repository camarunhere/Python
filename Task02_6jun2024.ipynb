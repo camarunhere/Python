{
 "cells": [
  {
   "cell_type": "code",
   "execution_count": 1,
   "id": "4714a7a6",
   "metadata": {},
   "outputs": [],
   "source": [
    "quote = \"PRACTICE MAKES MAN PERFECT\""
   ]
  },
  {
   "cell_type": "code",
   "execution_count": 4,
   "id": "82d65227",
   "metadata": {},
   "outputs": [
    {
     "name": "stdout",
     "output_type": "stream",
     "text": [
      "PRACTICE\n"
     ]
    }
   ],
   "source": [
    "print(quote[0:8])"
   ]
  },
  {
   "cell_type": "code",
   "execution_count": 5,
   "id": "3fc8a82a",
   "metadata": {},
   "outputs": [
    {
     "name": "stdout",
     "output_type": "stream",
     "text": [
      "MAKES\n"
     ]
    }
   ],
   "source": [
    "print(quote[9:14])"
   ]
  },
  {
   "cell_type": "code",
   "execution_count": 6,
   "id": "0b2073a5",
   "metadata": {},
   "outputs": [
    {
     "name": "stdout",
     "output_type": "stream",
     "text": [
      "MAN\n"
     ]
    }
   ],
   "source": [
    "print(quote[15:18])"
   ]
  },
  {
   "cell_type": "code",
   "execution_count": 7,
   "id": "4e5f74de",
   "metadata": {},
   "outputs": [
    {
     "name": "stdout",
     "output_type": "stream",
     "text": [
      "PERFECT\n"
     ]
    }
   ],
   "source": [
    "print(quote[19:26])"
   ]
  },
  {
   "cell_type": "code",
   "execution_count": 13,
   "id": "6395d515",
   "metadata": {},
   "outputs": [
    {
     "name": "stdout",
     "output_type": "stream",
     "text": [
      "TCEFREP\n"
     ]
    }
   ],
   "source": [
    "print(quote[26:18:-1])"
   ]
  },
  {
   "cell_type": "code",
   "execution_count": 14,
   "id": "1141e39a",
   "metadata": {},
   "outputs": [
    {
     "name": "stdout",
     "output_type": "stream",
     "text": [
      "TCEFREP\n"
     ]
    }
   ],
   "source": [
    "print(quote[-1:-8:-1])"
   ]
  },
  {
   "cell_type": "code",
   "execution_count": 17,
   "id": "a527fd8e",
   "metadata": {},
   "outputs": [
    {
     "name": "stdout",
     "output_type": "stream",
     "text": [
      " SEKAM\n"
     ]
    }
   ],
   "source": [
    "print(quote[14:8:-1])"
   ]
  },
  {
   "cell_type": "code",
   "execution_count": 36,
   "id": "f79bcd69",
   "metadata": {},
   "outputs": [
    {
     "name": "stdout",
     "output_type": "stream",
     "text": [
      "PATC AE A EFC\n"
     ]
    }
   ],
   "source": [
    "print(quote[::2])"
   ]
  },
  {
   "cell_type": "code",
   "execution_count": 34,
   "id": "6cee8238",
   "metadata": {},
   "outputs": [
    {
     "name": "stdout",
     "output_type": "stream",
     "text": [
      "CFE A EA CTAP\n"
     ]
    }
   ],
   "source": [
    "print(quote[-2::-2])"
   ]
  },
  {
   "cell_type": "code",
   "execution_count": 35,
   "id": "692bc9ba",
   "metadata": {},
   "outputs": [
    {
     "name": "stdout",
     "output_type": "stream",
     "text": [
      "TERPNMSKMEICR\n"
     ]
    }
   ],
   "source": [
    "print(quote[::-2])"
   ]
  },
  {
   "cell_type": "code",
   "execution_count": null,
   "id": "7b2b0883",
   "metadata": {},
   "outputs": [],
   "source": []
  }
 ],
 "metadata": {
  "kernelspec": {
   "display_name": "Python 3 (ipykernel)",
   "language": "python",
   "name": "python3"
  },
  "language_info": {
   "codemirror_mode": {
    "name": "ipython",
    "version": 3
   },
   "file_extension": ".py",
   "mimetype": "text/x-python",
   "name": "python",
   "nbconvert_exporter": "python",
   "pygments_lexer": "ipython3",
   "version": "3.9.13"
  }
 },
 "nbformat": 4,
 "nbformat_minor": 5
}
