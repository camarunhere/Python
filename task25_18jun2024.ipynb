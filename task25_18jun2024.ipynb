{
 "cells": [
  {
   "cell_type": "code",
   "execution_count": 1,
   "id": "19375820",
   "metadata": {},
   "outputs": [],
   "source": [
    "#requirement : word score / word weights\n",
    "x = ['hi','Python','we','write','Python','we','say','hi','Python']\n",
    "#identify the word score of each element of the list. and score all the word scores in the dictionary"
   ]
  },
  {
   "cell_type": "code",
   "execution_count": 2,
   "id": "90df9df6",
   "metadata": {},
   "outputs": [
    {
     "name": "stdout",
     "output_type": "stream",
     "text": [
      "Word Scores:\n",
      "{'hi': 2, 'Python': 3, 'we': 2, 'write': 1, 'say': 1}\n"
     ]
    }
   ],
   "source": [
    "x = ['hi', 'Python', 'we', 'write', 'Python', 'we', 'say', 'hi', 'Python']\n",
    "\n",
    "# Initialize an empty dictionary to store word scores\n",
    "word_scores = {}\n",
    "\n",
    "# Calculate word scores\n",
    "for word in x:\n",
    "    if word in word_scores:\n",
    "        word_scores[word] += 1\n",
    "    else:\n",
    "        word_scores[word] = 1\n",
    "\n",
    "print(\"Word Scores:\")\n",
    "print(word_scores)\n"
   ]
  },
  {
   "cell_type": "code",
   "execution_count": 5,
   "id": "df6d508a",
   "metadata": {},
   "outputs": [
    {
     "name": "stdout",
     "output_type": "stream",
     "text": [
      "Word Scores:  {'hi': 2, 'Python': 3, 'we': 2, 'write': 1, 'say': 1}\n"
     ]
    }
   ],
   "source": [
    "x = ['hi','Python','we','write','Python','we','say','hi','Python']\n",
    "\n",
    "word_scores = {}\n",
    "\n",
    "for word in x:\n",
    "    if word in word_scores:\n",
    "        word_scores[word] += 1\n",
    "    else:\n",
    "        word_scores[word] = 1\n",
    "print(\"Word Scores: \",word_scores)"
   ]
  },
  {
   "cell_type": "code",
   "execution_count": null,
   "id": "eca4e240",
   "metadata": {},
   "outputs": [],
   "source": []
  }
 ],
 "metadata": {
  "kernelspec": {
   "display_name": "Python 3 (ipykernel)",
   "language": "python",
   "name": "python3"
  },
  "language_info": {
   "codemirror_mode": {
    "name": "ipython",
    "version": 3
   },
   "file_extension": ".py",
   "mimetype": "text/x-python",
   "name": "python",
   "nbconvert_exporter": "python",
   "pygments_lexer": "ipython3",
   "version": "3.9.13"
  }
 },
 "nbformat": 4,
 "nbformat_minor": 5
}
