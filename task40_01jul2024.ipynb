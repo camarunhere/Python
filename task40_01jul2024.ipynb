{
 "cells": [
  {
   "cell_type": "code",
   "execution_count": 29,
   "id": "27cb91ed",
   "metadata": {},
   "outputs": [
    {
     "name": "stdout",
     "output_type": "stream",
     "text": [
      "[10, 12, 14, 16, 18]\n",
      "[10, 15]\n"
     ]
    }
   ],
   "source": [
    "n = [10,11,12,13,14,15,16,17,18,19]\n",
    "x = list(filter(lambda i:i%2==0,n))\n",
    "print(x)\n",
    "y = list(filter(lambda i:i%5==0,n))\n",
    "print(y)"
   ]
  },
  {
   "cell_type": "code",
   "execution_count": 36,
   "id": "eb516446",
   "metadata": {},
   "outputs": [
    {
     "name": "stdout",
     "output_type": "stream",
     "text": [
      "[111, 150, 167]\n",
      "[201, 250]\n"
     ]
    }
   ],
   "source": [
    "e = [10,111,201,250,300,150,167]\n",
    "x = list(filter(lambda i:i in range(100,200),e))\n",
    "print(x)\n",
    "y = list(filter(lambda i:i in range(200,300),e))"
   ]
  },
  {
   "cell_type": "code",
   "execution_count": 49,
   "id": "48efbe5b",
   "metadata": {},
   "outputs": [
    {
     "name": "stdout",
     "output_type": "stream",
     "text": [
      "['python', 11, 'python', 'python', 'python', 15, 'python', 19]\n"
     ]
    }
   ],
   "source": [
    "e = [10,11,12,14,16,15,18,19]\n",
    "x = list(map(lambda i:\"python\" if i%2==0 else i, e))\n",
    "print(x)"
   ]
  },
  {
   "cell_type": "code",
   "execution_count": 53,
   "id": "dc5b39fa",
   "metadata": {},
   "outputs": [
    {
     "name": "stdout",
     "output_type": "stream",
     "text": [
      "[10, 'ML', 12, 14, 16, 'ML', 18, 'ML']\n"
     ]
    }
   ],
   "source": [
    "e = [10,11,12,14,16,15,18,19]\n",
    "x = list(map(lambda i:\"ML\" if i%2!=0 else i,e))\n",
    "print(x)"
   ]
  },
  {
   "cell_type": "code",
   "execution_count": 1,
   "id": "813bb9c2",
   "metadata": {},
   "outputs": [
    {
     "name": "stdout",
     "output_type": "stream",
     "text": [
      "['python', 3, 5, 7, 'python', 9, 99, 'python', 'python', 'python', 'python', 131]\n"
     ]
    }
   ],
   "source": [
    "e = [2,3,5,7,8,9,99,14,224,34,236,131]\n",
    "x = list(map(lambda i: \"python\" if i%2==0 else i, e))\n",
    "print(x)"
   ]
  },
  {
   "cell_type": "code",
   "execution_count": null,
   "id": "590a22a0",
   "metadata": {},
   "outputs": [],
   "source": []
  }
 ],
 "metadata": {
  "kernelspec": {
   "display_name": "Python 3 (ipykernel)",
   "language": "python",
   "name": "python3"
  },
  "language_info": {
   "codemirror_mode": {
    "name": "ipython",
    "version": 3
   },
   "file_extension": ".py",
   "mimetype": "text/x-python",
   "name": "python",
   "nbconvert_exporter": "python",
   "pygments_lexer": "ipython3",
   "version": "3.9.13"
  }
 },
 "nbformat": 4,
 "nbformat_minor": 5
}
