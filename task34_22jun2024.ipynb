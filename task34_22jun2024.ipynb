{
 "cells": [
  {
   "cell_type": "code",
   "execution_count": 7,
   "id": "cb125bd3",
   "metadata": {},
   "outputs": [
    {
     "name": "stdout",
     "output_type": "stream",
     "text": [
      "Addition =  333\n",
      "Difference = 111\n",
      "111\n",
      "222\n"
     ]
    }
   ],
   "source": [
    "class calc:\n",
    "    def __init__(self,x,y):\n",
    "        self.x = x\n",
    "        self.y = y\n",
    "    \n",
    "    \n",
    "    def add(self):\n",
    "        Addition = self.x + self.y\n",
    "        print(\"Addition = \",Addition)\n",
    "        \n",
    "    \n",
    "    def sub(self):\n",
    "        if self.x > self.y:\n",
    "            c = self.x - self.y\n",
    "        else:\n",
    "            c = self.y - self.x\n",
    "        print(\"Difference =\",c)\n",
    "c1 = calc(111,222)\n",
    "\n",
    "c1.add()\n",
    "c1.sub()\n",
    "print(c1.x)\n",
    "print(c1.y)\n"
   ]
  },
  {
   "cell_type": "code",
   "execution_count": 12,
   "id": "f42c4e9a",
   "metadata": {},
   "outputs": [
    {
     "name": "stdout",
     "output_type": "stream",
     "text": [
      "Addition =  300\n",
      "Subtraction =  -100\n"
     ]
    }
   ],
   "source": [
    "class calc:\n",
    "    def __init__(self,x,y):\n",
    "        self.x = x\n",
    "        self.y = y\n",
    "        self.z = x + y\n",
    "        self.a = x - y\n",
    "    \n",
    "    def add(self):\n",
    "        print(\"Addition = \",self.z)\n",
    "    def sub(self):\n",
    "        print(\"Subtraction = \",self.a)\n",
    "\n",
    "c1 = calc(100,200)\n",
    "\n",
    "c1.add()\n",
    "c1.sub()\n"
   ]
  },
  {
   "cell_type": "code",
   "execution_count": 3,
   "id": "a82d8b6c",
   "metadata": {},
   "outputs": [
    {
     "name": "stdout",
     "output_type": "stream",
     "text": [
      "['python', 3, 5, 7, 'python', 9, 99, 'python', 'python', 'python', 'python', 131]\n"
     ]
    }
   ],
   "source": []
  },
  {
   "cell_type": "code",
   "execution_count": null,
   "id": "0413ba4d",
   "metadata": {},
   "outputs": [],
   "source": []
  }
 ],
 "metadata": {
  "kernelspec": {
   "display_name": "Python 3 (ipykernel)",
   "language": "python",
   "name": "python3"
  },
  "language_info": {
   "codemirror_mode": {
    "name": "ipython",
    "version": 3
   },
   "file_extension": ".py",
   "mimetype": "text/x-python",
   "name": "python",
   "nbconvert_exporter": "python",
   "pygments_lexer": "ipython3",
   "version": "3.9.13"
  }
 },
 "nbformat": 4,
 "nbformat_minor": 5
}
